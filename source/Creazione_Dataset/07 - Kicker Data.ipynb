{
 "cells": [
  {
   "cell_type": "markdown",
   "metadata": {},
   "source": [
    "# 07 - Kicker Data"
   ]
  },
  {
   "cell_type": "code",
   "execution_count": 1,
   "metadata": {},
   "outputs": [],
   "source": [
    "from requests import get\n",
    "from pandas import read_csv\n",
    "import pandas as pd\n",
    "import numpy as np\n",
    "from bs4 import BeautifulSoup as BS\n",
    "from time import sleep\n",
    "from unidecode import unidecode"
   ]
  },
  {
   "cell_type": "code",
   "execution_count": 13,
   "metadata": {},
   "outputs": [
    {
     "data": {
      "text/html": [
       "<div>\n",
       "<style scoped>\n",
       "    .dataframe tbody tr th:only-of-type {\n",
       "        vertical-align: middle;\n",
       "    }\n",
       "\n",
       "    .dataframe tbody tr th {\n",
       "        vertical-align: top;\n",
       "    }\n",
       "\n",
       "    .dataframe thead th {\n",
       "        text-align: right;\n",
       "    }\n",
       "</style>\n",
       "<table border=\"1\" class=\"dataframe\">\n",
       "  <thead>\n",
       "    <tr style=\"text-align: right;\">\n",
       "      <th></th>\n",
       "      <th>nome</th>\n",
       "      <th>urls_all</th>\n",
       "      <th>urls_18</th>\n",
       "      <th>kicker_all</th>\n",
       "      <th>kicker_18</th>\n",
       "    </tr>\n",
       "  </thead>\n",
       "  <tbody>\n",
       "    <tr>\n",
       "      <th>0</th>\n",
       "      <td>Kylian Mbappé</td>\n",
       "      <td>http://www.kicker.de/home/24-09-1970/24-12-201...</td>\n",
       "      <td>http://www.kicker.de/home/01-01-2018/24-12-201...</td>\n",
       "      <td>NaN</td>\n",
       "      <td>NaN</td>\n",
       "    </tr>\n",
       "    <tr>\n",
       "      <th>1</th>\n",
       "      <td>Neymar</td>\n",
       "      <td>http://www.kicker.de/home/24-09-1970/24-12-201...</td>\n",
       "      <td>http://www.kicker.de/home/01-01-2018/24-12-201...</td>\n",
       "      <td>NaN</td>\n",
       "      <td>NaN</td>\n",
       "    </tr>\n",
       "    <tr>\n",
       "      <th>2</th>\n",
       "      <td>Leo Messi</td>\n",
       "      <td>http://www.kicker.de/home/24-09-1970/24-12-201...</td>\n",
       "      <td>http://www.kicker.de/home/01-01-2018/24-12-201...</td>\n",
       "      <td>NaN</td>\n",
       "      <td>NaN</td>\n",
       "    </tr>\n",
       "    <tr>\n",
       "      <th>3</th>\n",
       "      <td>Mohamed Salah</td>\n",
       "      <td>http://www.kicker.de/home/24-09-1970/24-12-201...</td>\n",
       "      <td>http://www.kicker.de/home/01-01-2018/24-12-201...</td>\n",
       "      <td>NaN</td>\n",
       "      <td>NaN</td>\n",
       "    </tr>\n",
       "    <tr>\n",
       "      <th>4</th>\n",
       "      <td>Harry Kane</td>\n",
       "      <td>http://www.kicker.de/home/24-09-1970/24-12-201...</td>\n",
       "      <td>http://www.kicker.de/home/01-01-2018/24-12-201...</td>\n",
       "      <td>NaN</td>\n",
       "      <td>NaN</td>\n",
       "    </tr>\n",
       "    <tr>\n",
       "      <th>5</th>\n",
       "      <td>Antoine Griezmann</td>\n",
       "      <td>http://www.kicker.de/home/24-09-1970/24-12-201...</td>\n",
       "      <td>http://www.kicker.de/home/01-01-2018/24-12-201...</td>\n",
       "      <td>NaN</td>\n",
       "      <td>NaN</td>\n",
       "    </tr>\n",
       "    <tr>\n",
       "      <th>6</th>\n",
       "      <td>Kevin De Bruyne</td>\n",
       "      <td>http://www.kicker.de/home/24-09-1970/24-12-201...</td>\n",
       "      <td>http://www.kicker.de/home/01-01-2018/24-12-201...</td>\n",
       "      <td>NaN</td>\n",
       "      <td>NaN</td>\n",
       "    </tr>\n",
       "    <tr>\n",
       "      <th>7</th>\n",
       "      <td>Philippe Coutinho</td>\n",
       "      <td>http://www.kicker.de/home/24-09-1970/24-12-201...</td>\n",
       "      <td>http://www.kicker.de/home/01-01-2018/24-12-201...</td>\n",
       "      <td>NaN</td>\n",
       "      <td>NaN</td>\n",
       "    </tr>\n",
       "    <tr>\n",
       "      <th>8</th>\n",
       "      <td>Eden Hazard</td>\n",
       "      <td>http://www.kicker.de/home/24-09-1970/24-12-201...</td>\n",
       "      <td>http://www.kicker.de/home/01-01-2018/24-12-201...</td>\n",
       "      <td>NaN</td>\n",
       "      <td>NaN</td>\n",
       "    </tr>\n",
       "    <tr>\n",
       "      <th>9</th>\n",
       "      <td>Paulo Dybala</td>\n",
       "      <td>http://www.kicker.de/home/24-09-1970/24-12-201...</td>\n",
       "      <td>http://www.kicker.de/home/01-01-2018/24-12-201...</td>\n",
       "      <td>NaN</td>\n",
       "      <td>NaN</td>\n",
       "    </tr>\n",
       "  </tbody>\n",
       "</table>\n",
       "</div>"
      ],
      "text/plain": [
       "                nome                                           urls_all  \\\n",
       "0      Kylian Mbappé  http://www.kicker.de/home/24-09-1970/24-12-201...   \n",
       "1             Neymar  http://www.kicker.de/home/24-09-1970/24-12-201...   \n",
       "2          Leo Messi  http://www.kicker.de/home/24-09-1970/24-12-201...   \n",
       "3      Mohamed Salah  http://www.kicker.de/home/24-09-1970/24-12-201...   \n",
       "4         Harry Kane  http://www.kicker.de/home/24-09-1970/24-12-201...   \n",
       "5  Antoine Griezmann  http://www.kicker.de/home/24-09-1970/24-12-201...   \n",
       "6    Kevin De Bruyne  http://www.kicker.de/home/24-09-1970/24-12-201...   \n",
       "7  Philippe Coutinho  http://www.kicker.de/home/24-09-1970/24-12-201...   \n",
       "8        Eden Hazard  http://www.kicker.de/home/24-09-1970/24-12-201...   \n",
       "9       Paulo Dybala  http://www.kicker.de/home/24-09-1970/24-12-201...   \n",
       "\n",
       "                                             urls_18  kicker_all  kicker_18  \n",
       "0  http://www.kicker.de/home/01-01-2018/24-12-201...         NaN        NaN  \n",
       "1  http://www.kicker.de/home/01-01-2018/24-12-201...         NaN        NaN  \n",
       "2  http://www.kicker.de/home/01-01-2018/24-12-201...         NaN        NaN  \n",
       "3  http://www.kicker.de/home/01-01-2018/24-12-201...         NaN        NaN  \n",
       "4  http://www.kicker.de/home/01-01-2018/24-12-201...         NaN        NaN  \n",
       "5  http://www.kicker.de/home/01-01-2018/24-12-201...         NaN        NaN  \n",
       "6  http://www.kicker.de/home/01-01-2018/24-12-201...         NaN        NaN  \n",
       "7  http://www.kicker.de/home/01-01-2018/24-12-201...         NaN        NaN  \n",
       "8  http://www.kicker.de/home/01-01-2018/24-12-201...         NaN        NaN  \n",
       "9  http://www.kicker.de/home/01-01-2018/24-12-201...         NaN        NaN  "
      ]
     },
     "execution_count": 13,
     "metadata": {},
     "output_type": "execute_result"
    }
   ],
   "source": [
    "df = read_csv('tables/nome_nomechiave.csv', encoding='ansi')\n",
    "df['nome_chiave_link'] = [x.replace(' ', '+').replace('-','+').lower() for x in df['nome_chiave']]\n",
    "s1 = 'http://www.kicker.de/home/24-09-1970/24-12-2018/0-1100-31000-37000-36000-39000-33000-22000-508024-1200-1000-/25/0/0/suchergebnisseartikel.html?suchbegriff='\n",
    "s2 = 'http://www.kicker.de/home/01-01-2018/24-12-2018/0-1100-31000-37000-36000-39000-33000-22000-508024-1200-1000-/25/0/0/suchergebnisseartikel.html?suchbegriff='\n",
    "df['urls_all'] = [s1+x for x in df.nome_chiave_link]\n",
    "df['urls_18'] = [s2+x for x in df.nome_chiave_link]\n",
    "df['kicker_all'] = np.nan\n",
    "df['kicker_18'] = np.nan\n",
    "df = df[['nome', 'urls_all', 'urls_18', 'kicker_all', 'kicker_18']]\n",
    "df.head(10)"
   ]
  },
  {
   "cell_type": "code",
   "execution_count": 3,
   "metadata": {
    "scrolled": true
   },
   "outputs": [
    {
     "name": "stdout",
     "output_type": "stream",
     "text": [
      "0 1 2 3 4 5 6 7 8 9 10 11 12 13 14 15 16 17 18 19 20 21 22 23 24 25 26 27 28 29 30 31 32 33 34 35 36 37 38 39 40 41 42 43 44 45 46 47 48 49 50 51 52 53 54 55 56 57 58 59 60 61 62 63 64 65 66 67 68 69 70 71 72 73 74 75 76 77 78 79 80 81 82 83 84 85 86 87 88 89 90 91 92 93 94 95 96 97 98 99 100 101 102 103 104 105 106 107 108 109 110 111 112 113 114 115 116 117 118 119 120 121 122 123 124 125 126 127 128 129 130 131 132 133 134 135 136 137 138 139 140 141 142 143 144 145 146 147 148 149 150 151 152 153 154 155 156 157 158 159 160 161 162 163 164 165 166 167 168 169 170 171 172 173 174 175 176 177 178 179 180 181 182 183 184 185 186 187 188 189 190 191 192 193 194 195 196 197 198 199 200 201 202 203 204 205 206 207 208 209 210 211 212 213 214 215 216 217 218 219 220 221 222 223 224 225 226 227 228 229 230 231 232 233 234 235 236 237 238 239 240 241 242 243 244 245 246 247 248 249 250 251 252 253 254 255 256 257 258 259 260 261 262 263 264 265 266 267 268 269 270 271 272 273 274 275 276 277 278 279 280 281 282 283 284 285 286 287 288 289 290 291 292 293 294 295 296 297 298 299 "
     ]
    }
   ],
   "source": [
    "for i in range(300):\n",
    "    url1 = df.urls_all[i]\n",
    "    url2 = df.urls_18[i]\n",
    "    \n",
    "    if isinstance(df.kicker_google_all[i], float):\n",
    "        page = get(url1).text\n",
    "        result1 = BS(page, 'lxml').find('div', attrs={'class': 'suchdachzeile'}).text\n",
    "        df.loc[i,'kicker_all'] = result1\n",
    "    else:\n",
    "        pass\n",
    "    \n",
    "    if isinstance(df.kicker_google_18[i], float):\n",
    "        page = get(url2).text\n",
    "        result2 = BS(page, 'lxml').find('div', attrs={'class': 'suchdachzeile'}).text\n",
    "        df.loc[i,'kicker_18'] = result2\n",
    "    else:\n",
    "        pass\n",
    "    \n",
    "    print(i, end=' ')"
   ]
  },
  {
   "cell_type": "code",
   "execution_count": 9,
   "metadata": {},
   "outputs": [],
   "source": [
    "def f(x):\n",
    "    return x.split(' ')[0]"
   ]
  },
  {
   "cell_type": "code",
   "execution_count": 10,
   "metadata": {},
   "outputs": [],
   "source": [
    "df['kicker_all'] = df['kicker_all'].apply(f) "
   ]
  },
  {
   "cell_type": "code",
   "execution_count": 20,
   "metadata": {},
   "outputs": [],
   "source": [
    "df['kicker_18'] = df['kicker_18'].apply(f) "
   ]
  },
  {
   "cell_type": "code",
   "execution_count": 21,
   "metadata": {},
   "outputs": [
    {
     "data": {
      "text/html": [
       "<div>\n",
       "<style scoped>\n",
       "    .dataframe tbody tr th:only-of-type {\n",
       "        vertical-align: middle;\n",
       "    }\n",
       "\n",
       "    .dataframe tbody tr th {\n",
       "        vertical-align: top;\n",
       "    }\n",
       "\n",
       "    .dataframe thead th {\n",
       "        text-align: right;\n",
       "    }\n",
       "</style>\n",
       "<table border=\"1\" class=\"dataframe\">\n",
       "  <thead>\n",
       "    <tr style=\"text-align: right;\">\n",
       "      <th></th>\n",
       "      <th>nome</th>\n",
       "      <th>urls_all</th>\n",
       "      <th>urls_18</th>\n",
       "      <th>kicker_all</th>\n",
       "      <th>kicker_18</th>\n",
       "    </tr>\n",
       "  </thead>\n",
       "  <tbody>\n",
       "    <tr>\n",
       "      <th>0</th>\n",
       "      <td>Kylian Mbappé</td>\n",
       "      <td>http://www.kicker.de/home/24-09-1970/24-12-201...</td>\n",
       "      <td>http://www.kicker.de/home/01-01-2018/24-12-201...</td>\n",
       "      <td>282</td>\n",
       "      <td>154</td>\n",
       "    </tr>\n",
       "    <tr>\n",
       "      <th>1</th>\n",
       "      <td>Neymar</td>\n",
       "      <td>http://www.kicker.de/home/24-09-1970/24-12-201...</td>\n",
       "      <td>http://www.kicker.de/home/01-01-2018/24-12-201...</td>\n",
       "      <td>1289</td>\n",
       "      <td>221</td>\n",
       "    </tr>\n",
       "    <tr>\n",
       "      <th>2</th>\n",
       "      <td>Leo Messi</td>\n",
       "      <td>http://www.kicker.de/home/24-09-1970/24-12-201...</td>\n",
       "      <td>http://www.kicker.de/home/01-01-2018/24-12-201...</td>\n",
       "      <td>2595</td>\n",
       "      <td>291</td>\n",
       "    </tr>\n",
       "    <tr>\n",
       "      <th>3</th>\n",
       "      <td>Mohamed Salah</td>\n",
       "      <td>http://www.kicker.de/home/24-09-1970/24-12-201...</td>\n",
       "      <td>http://www.kicker.de/home/01-01-2018/24-12-201...</td>\n",
       "      <td>552</td>\n",
       "      <td>205</td>\n",
       "    </tr>\n",
       "    <tr>\n",
       "      <th>4</th>\n",
       "      <td>Harry Kane</td>\n",
       "      <td>http://www.kicker.de/home/24-09-1970/24-12-201...</td>\n",
       "      <td>http://www.kicker.de/home/01-01-2018/24-12-201...</td>\n",
       "      <td>313</td>\n",
       "      <td>128</td>\n",
       "    </tr>\n",
       "  </tbody>\n",
       "</table>\n",
       "</div>"
      ],
      "text/plain": [
       "            nome                                           urls_all  \\\n",
       "0  Kylian Mbappé  http://www.kicker.de/home/24-09-1970/24-12-201...   \n",
       "1         Neymar  http://www.kicker.de/home/24-09-1970/24-12-201...   \n",
       "2      Leo Messi  http://www.kicker.de/home/24-09-1970/24-12-201...   \n",
       "3  Mohamed Salah  http://www.kicker.de/home/24-09-1970/24-12-201...   \n",
       "4     Harry Kane  http://www.kicker.de/home/24-09-1970/24-12-201...   \n",
       "\n",
       "                                             urls_18  kicker_all kicker_18  \n",
       "0  http://www.kicker.de/home/01-01-2018/24-12-201...         282       154  \n",
       "1  http://www.kicker.de/home/01-01-2018/24-12-201...        1289       221  \n",
       "2  http://www.kicker.de/home/01-01-2018/24-12-201...        2595       291  \n",
       "3  http://www.kicker.de/home/01-01-2018/24-12-201...         552       205  \n",
       "4  http://www.kicker.de/home/01-01-2018/24-12-201...         313       128  "
      ]
     },
     "execution_count": 21,
     "metadata": {},
     "output_type": "execute_result"
    }
   ],
   "source": [
    "df.head()"
   ]
  },
  {
   "cell_type": "code",
   "execution_count": 23,
   "metadata": {},
   "outputs": [],
   "source": [
    "df.iloc[:,-2:].to_csv('columns/kicker_data.csv', index=False)"
   ]
  }
 ],
 "metadata": {
  "kernelspec": {
   "display_name": "Python 3",
   "language": "python",
   "name": "python3"
  },
  "language_info": {
   "codemirror_mode": {
    "name": "ipython",
    "version": 3
   },
   "file_extension": ".py",
   "mimetype": "text/x-python",
   "name": "python",
   "nbconvert_exporter": "python",
   "pygments_lexer": "ipython3",
   "version": "3.6.5"
  }
 },
 "nbformat": 4,
 "nbformat_minor": 2
}
