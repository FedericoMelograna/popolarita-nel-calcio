{
 "cells": [
  {
   "cell_type": "markdown",
   "metadata": {},
   "source": [
    "# 08 - Corriere dello Sport"
   ]
  },
  {
   "cell_type": "code",
   "execution_count": 1,
   "metadata": {},
   "outputs": [],
   "source": [
    "from requests import get\n",
    "from pandas import read_csv\n",
    "import re\n",
    "import pandas as pd\n",
    "import numpy as np\n",
    "from bs4 import BeautifulSoup as BS\n",
    "from time import sleep\n",
    "from unidecode import unidecode"
   ]
  },
  {
   "cell_type": "markdown",
   "metadata": {},
   "source": [
    "## Articoli di qualunque data"
   ]
  },
  {
   "cell_type": "code",
   "execution_count": 5,
   "metadata": {},
   "outputs": [
    {
     "data": {
      "text/html": [
       "<div>\n",
       "<style scoped>\n",
       "    .dataframe tbody tr th:only-of-type {\n",
       "        vertical-align: middle;\n",
       "    }\n",
       "\n",
       "    .dataframe tbody tr th {\n",
       "        vertical-align: top;\n",
       "    }\n",
       "\n",
       "    .dataframe thead th {\n",
       "        text-align: right;\n",
       "    }\n",
       "</style>\n",
       "<table border=\"1\" class=\"dataframe\">\n",
       "  <thead>\n",
       "    <tr style=\"text-align: right;\">\n",
       "      <th></th>\n",
       "      <th>nome</th>\n",
       "      <th>urls_all</th>\n",
       "      <th>corriere_all</th>\n",
       "    </tr>\n",
       "  </thead>\n",
       "  <tbody>\n",
       "    <tr>\n",
       "      <th>0</th>\n",
       "      <td>Kylian Mbappé</td>\n",
       "      <td>http://www.corrieredellosport.it/search?key=(m...</td>\n",
       "      <td>NaN</td>\n",
       "    </tr>\n",
       "    <tr>\n",
       "      <th>1</th>\n",
       "      <td>Neymar</td>\n",
       "      <td>http://www.corrieredellosport.it/search?key=(n...</td>\n",
       "      <td>NaN</td>\n",
       "    </tr>\n",
       "    <tr>\n",
       "      <th>2</th>\n",
       "      <td>Leo Messi</td>\n",
       "      <td>http://www.corrieredellosport.it/search?key=(m...</td>\n",
       "      <td>NaN</td>\n",
       "    </tr>\n",
       "    <tr>\n",
       "      <th>3</th>\n",
       "      <td>Mohamed Salah</td>\n",
       "      <td>http://www.corrieredellosport.it/search?key=(s...</td>\n",
       "      <td>NaN</td>\n",
       "    </tr>\n",
       "    <tr>\n",
       "      <th>4</th>\n",
       "      <td>Harry Kane</td>\n",
       "      <td>http://www.corrieredellosport.it/search?key=(h...</td>\n",
       "      <td>NaN</td>\n",
       "    </tr>\n",
       "    <tr>\n",
       "      <th>5</th>\n",
       "      <td>Antoine Griezmann</td>\n",
       "      <td>http://www.corrieredellosport.it/search?key=(g...</td>\n",
       "      <td>NaN</td>\n",
       "    </tr>\n",
       "    <tr>\n",
       "      <th>6</th>\n",
       "      <td>Kevin De Bruyne</td>\n",
       "      <td>http://www.corrieredellosport.it/search?key=(d...</td>\n",
       "      <td>NaN</td>\n",
       "    </tr>\n",
       "    <tr>\n",
       "      <th>7</th>\n",
       "      <td>Philippe Coutinho</td>\n",
       "      <td>http://www.corrieredellosport.it/search?key=(c...</td>\n",
       "      <td>NaN</td>\n",
       "    </tr>\n",
       "    <tr>\n",
       "      <th>8</th>\n",
       "      <td>Eden Hazard</td>\n",
       "      <td>http://www.corrieredellosport.it/search?key=(h...</td>\n",
       "      <td>NaN</td>\n",
       "    </tr>\n",
       "    <tr>\n",
       "      <th>9</th>\n",
       "      <td>Paulo Dybala</td>\n",
       "      <td>http://www.corrieredellosport.it/search?key=(d...</td>\n",
       "      <td>NaN</td>\n",
       "    </tr>\n",
       "  </tbody>\n",
       "</table>\n",
       "</div>"
      ],
      "text/plain": [
       "                nome                                           urls_all  \\\n",
       "0      Kylian Mbappé  http://www.corrieredellosport.it/search?key=(m...   \n",
       "1             Neymar  http://www.corrieredellosport.it/search?key=(n...   \n",
       "2          Leo Messi  http://www.corrieredellosport.it/search?key=(m...   \n",
       "3      Mohamed Salah  http://www.corrieredellosport.it/search?key=(s...   \n",
       "4         Harry Kane  http://www.corrieredellosport.it/search?key=(h...   \n",
       "5  Antoine Griezmann  http://www.corrieredellosport.it/search?key=(g...   \n",
       "6    Kevin De Bruyne  http://www.corrieredellosport.it/search?key=(d...   \n",
       "7  Philippe Coutinho  http://www.corrieredellosport.it/search?key=(c...   \n",
       "8        Eden Hazard  http://www.corrieredellosport.it/search?key=(h...   \n",
       "9       Paulo Dybala  http://www.corrieredellosport.it/search?key=(d...   \n",
       "\n",
       "   corriere_all  \n",
       "0           NaN  \n",
       "1           NaN  \n",
       "2           NaN  \n",
       "3           NaN  \n",
       "4           NaN  \n",
       "5           NaN  \n",
       "6           NaN  \n",
       "7           NaN  \n",
       "8           NaN  \n",
       "9           NaN  "
      ]
     },
     "execution_count": 5,
     "metadata": {},
     "output_type": "execute_result"
    }
   ],
   "source": [
    "df = read_csv('tables/nome_nomechiave.csv', encoding='ansi')\n",
    "df['nome_chiave_link'] = [x.replace(' ', '+').replace('-','+').lower() for x in df['nome_chiave']]\n",
    "s1 = 'http://www.corrieredellosport.it/search?key=('\n",
    "df['urls_all'] = [s1+x+')' for x in df.nome_chiave_link]\n",
    "df['corriere_all'] = np.nan\n",
    "df = df[['nome', 'urls_all', 'corriere_all']]\n",
    "df.head(10)"
   ]
  },
  {
   "cell_type": "code",
   "execution_count": 22,
   "metadata": {
    "scrolled": true
   },
   "outputs": [],
   "source": [
    "for i in range(300):\n",
    "    url = df.urls_all[i]\n",
    "    \n",
    "    # solito trucco per riempire man mano la colonna\n",
    "    # così se da errore non perdo nulla\n",
    "    # e posso proseguire riavviando la cella:\n",
    "    \n",
    "    if isinstance(df.corriere_all[i], float):\n",
    "        \n",
    "        # uso espressione regex (pacchetto \"re\")\n",
    "        # per non passare da Beautiful Soup\n",
    "        \n",
    "        l = re.findall('>+(\\d+)\\s+articoli</a>', get(url).text)\n",
    "        \n",
    "        # if lista: <--- questa espressione dà True\n",
    "        # se la lista ha almeno un elemento dentro di essa.\n",
    "        # serve per evitare errori banali tipo lista[0]\n",
    "        # ma la lista è vuota quindi [0] non esiste --> errore\n",
    "        \n",
    "        if l:\n",
    "            df.loc[i, 'corriere_all'] = l[0]"
   ]
  },
  {
   "cell_type": "code",
   "execution_count": 26,
   "metadata": {},
   "outputs": [
    {
     "data": {
      "text/html": [
       "<div>\n",
       "<style scoped>\n",
       "    .dataframe tbody tr th:only-of-type {\n",
       "        vertical-align: middle;\n",
       "    }\n",
       "\n",
       "    .dataframe tbody tr th {\n",
       "        vertical-align: top;\n",
       "    }\n",
       "\n",
       "    .dataframe thead th {\n",
       "        text-align: right;\n",
       "    }\n",
       "</style>\n",
       "<table border=\"1\" class=\"dataframe\">\n",
       "  <thead>\n",
       "    <tr style=\"text-align: right;\">\n",
       "      <th></th>\n",
       "      <th>nome</th>\n",
       "      <th>urls_all</th>\n",
       "      <th>corriere_all</th>\n",
       "    </tr>\n",
       "  </thead>\n",
       "  <tbody>\n",
       "    <tr>\n",
       "      <th>0</th>\n",
       "      <td>Kylian Mbappé</td>\n",
       "      <td>http://www.corrieredellosport.it/search?key=(m...</td>\n",
       "      <td>658</td>\n",
       "    </tr>\n",
       "    <tr>\n",
       "      <th>1</th>\n",
       "      <td>Neymar</td>\n",
       "      <td>http://www.corrieredellosport.it/search?key=(n...</td>\n",
       "      <td>2300</td>\n",
       "    </tr>\n",
       "    <tr>\n",
       "      <th>2</th>\n",
       "      <td>Leo Messi</td>\n",
       "      <td>http://www.corrieredellosport.it/search?key=(m...</td>\n",
       "      <td>5413</td>\n",
       "    </tr>\n",
       "    <tr>\n",
       "      <th>3</th>\n",
       "      <td>Mohamed Salah</td>\n",
       "      <td>http://www.corrieredellosport.it/search?key=(s...</td>\n",
       "      <td>2155</td>\n",
       "    </tr>\n",
       "    <tr>\n",
       "      <th>4</th>\n",
       "      <td>Harry Kane</td>\n",
       "      <td>http://www.corrieredellosport.it/search?key=(h...</td>\n",
       "      <td>231</td>\n",
       "    </tr>\n",
       "  </tbody>\n",
       "</table>\n",
       "</div>"
      ],
      "text/plain": [
       "            nome                                           urls_all  \\\n",
       "0  Kylian Mbappé  http://www.corrieredellosport.it/search?key=(m...   \n",
       "1         Neymar  http://www.corrieredellosport.it/search?key=(n...   \n",
       "2      Leo Messi  http://www.corrieredellosport.it/search?key=(m...   \n",
       "3  Mohamed Salah  http://www.corrieredellosport.it/search?key=(s...   \n",
       "4     Harry Kane  http://www.corrieredellosport.it/search?key=(h...   \n",
       "\n",
       "  corriere_all  \n",
       "0          658  \n",
       "1         2300  \n",
       "2         5413  \n",
       "3         2155  \n",
       "4          231  "
      ]
     },
     "execution_count": 26,
     "metadata": {},
     "output_type": "execute_result"
    }
   ],
   "source": [
    "df.head()"
   ]
  },
  {
   "cell_type": "markdown",
   "metadata": {},
   "source": [
    "## Articoli del 2018"
   ]
  },
  {
   "cell_type": "code",
   "execution_count": 79,
   "metadata": {},
   "outputs": [],
   "source": [
    "df['corriere_18'] = np.nan"
   ]
  },
  {
   "cell_type": "markdown",
   "metadata": {},
   "source": [
    "Funzione che prende in input una pagina e restituisce il numero di volte che appare 2018 nei link agli articoli di quella pagina:"
   ]
  },
  {
   "cell_type": "code",
   "execution_count": 80,
   "metadata": {},
   "outputs": [],
   "source": [
    "def sum18(url):\n",
    "    p = BS(get(url).text,'lxml')\n",
    "    y = p.select('div.main-section__main article.article div.article__content a')\n",
    "    return sum(['2018' in x['href'] for x in y])"
   ]
  },
  {
   "cell_type": "code",
   "execution_count": null,
   "metadata": {},
   "outputs": [],
   "source": [
    "for i in range(300):\n",
    "    s = np.nan\n",
    "    \n",
    "    # solito trucco per riempire man mano la colonna\n",
    "    # così se da errore non perdo nulla\n",
    "    # e posso proseguire riavviando la cella:\n",
    "    \n",
    "    if isinstance(df.corriere_18[i], float):\n",
    "        \n",
    "        url = df.urls_all[i]+'%20AND%20(type%3Aarticolo)'\n",
    "        s = sum18(url)\n",
    "        N = int(p.select('span.page')[0].text.split(' ')[-1])\n",
    "        \n",
    "        # ciclo for nelle pagine alla ricerca delle date con 2018 nei link\n",
    "        # in ogni pagina ci sono 10 link i quali possono contenere o meno 2018\n",
    "        # se nessun link contiene 2018 vuol dire che posso uscire dal ciclo\n",
    "        # infatti pare che siano ordinati cronologicamente (grazie a dio)\n",
    "        # sommo ad ogni passo il numero di volte che il link contiene 2018\n",
    "        # cumulo le somme, e se la somma è 0 allora break\n",
    "        \n",
    "        for j in range(2,N+1):\n",
    "            \n",
    "            url2 = url+'&p='+str(j)\n",
    "            s2 = sum18(url2) \n",
    "            s += s2\n",
    "            \n",
    "            if s2 == 0:\n",
    "                break\n",
    "        \n",
    "        # salvo come stringa per assicurarmi che non venga visto come numeric\n",
    "        \n",
    "        df.loc[i, 'corriere_18'] = str(s)"
   ]
  },
  {
   "cell_type": "code",
   "execution_count": 84,
   "metadata": {
    "scrolled": false
   },
   "outputs": [
    {
     "data": {
      "text/html": [
       "<div>\n",
       "<style scoped>\n",
       "    .dataframe tbody tr th:only-of-type {\n",
       "        vertical-align: middle;\n",
       "    }\n",
       "\n",
       "    .dataframe tbody tr th {\n",
       "        vertical-align: top;\n",
       "    }\n",
       "\n",
       "    .dataframe thead th {\n",
       "        text-align: right;\n",
       "    }\n",
       "</style>\n",
       "<table border=\"1\" class=\"dataframe\">\n",
       "  <thead>\n",
       "    <tr style=\"text-align: right;\">\n",
       "      <th></th>\n",
       "      <th>nome</th>\n",
       "      <th>urls_all</th>\n",
       "      <th>corriere_all</th>\n",
       "      <th>corriere_18</th>\n",
       "    </tr>\n",
       "  </thead>\n",
       "  <tbody>\n",
       "    <tr>\n",
       "      <th>0</th>\n",
       "      <td>Kylian Mbappé</td>\n",
       "      <td>http://www.corrieredellosport.it/search?key=(m...</td>\n",
       "      <td>658</td>\n",
       "      <td>305</td>\n",
       "    </tr>\n",
       "    <tr>\n",
       "      <th>1</th>\n",
       "      <td>Neymar</td>\n",
       "      <td>http://www.corrieredellosport.it/search?key=(n...</td>\n",
       "      <td>2300</td>\n",
       "      <td>569</td>\n",
       "    </tr>\n",
       "    <tr>\n",
       "      <th>2</th>\n",
       "      <td>Leo Messi</td>\n",
       "      <td>http://www.corrieredellosport.it/search?key=(m...</td>\n",
       "      <td>5413</td>\n",
       "      <td>1385</td>\n",
       "    </tr>\n",
       "    <tr>\n",
       "      <th>3</th>\n",
       "      <td>Mohamed Salah</td>\n",
       "      <td>http://www.corrieredellosport.it/search?key=(s...</td>\n",
       "      <td>2155</td>\n",
       "      <td>404</td>\n",
       "    </tr>\n",
       "    <tr>\n",
       "      <th>4</th>\n",
       "      <td>Harry Kane</td>\n",
       "      <td>http://www.corrieredellosport.it/search?key=(h...</td>\n",
       "      <td>231</td>\n",
       "      <td>108</td>\n",
       "    </tr>\n",
       "  </tbody>\n",
       "</table>\n",
       "</div>"
      ],
      "text/plain": [
       "            nome                                           urls_all  \\\n",
       "0  Kylian Mbappé  http://www.corrieredellosport.it/search?key=(m...   \n",
       "1         Neymar  http://www.corrieredellosport.it/search?key=(n...   \n",
       "2      Leo Messi  http://www.corrieredellosport.it/search?key=(m...   \n",
       "3  Mohamed Salah  http://www.corrieredellosport.it/search?key=(s...   \n",
       "4     Harry Kane  http://www.corrieredellosport.it/search?key=(h...   \n",
       "\n",
       "  corriere_all corriere_18  \n",
       "0          658         305  \n",
       "1         2300         569  \n",
       "2         5413        1385  \n",
       "3         2155         404  \n",
       "4          231         108  "
      ]
     },
     "execution_count": 84,
     "metadata": {},
     "output_type": "execute_result"
    }
   ],
   "source": [
    "df.head(5)"
   ]
  },
  {
   "cell_type": "code",
   "execution_count": 85,
   "metadata": {
    "scrolled": false
   },
   "outputs": [],
   "source": [
    "df[['corriere_all', 'corriere_18']].to_csv('columns/corriere_dello_sport.csv')"
   ]
  }
 ],
 "metadata": {
  "kernelspec": {
   "display_name": "Python 3",
   "language": "python",
   "name": "python3"
  },
  "language_info": {
   "codemirror_mode": {
    "name": "ipython",
    "version": 3
   },
   "file_extension": ".py",
   "mimetype": "text/x-python",
   "name": "python",
   "nbconvert_exporter": "python",
   "pygments_lexer": "ipython3",
   "version": "3.6.5"
  }
 },
 "nbformat": 4,
 "nbformat_minor": 2
}
