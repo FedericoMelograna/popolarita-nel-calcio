{
 "cells": [
  {
   "cell_type": "markdown",
   "metadata": {},
   "source": [
    "# 09 - Skysport, Sky Italia e Eurosport"
   ]
  },
  {
   "cell_type": "markdown",
   "metadata": {},
   "source": [
    "## Skysport.com"
   ]
  },
  {
   "cell_type": "markdown",
   "metadata": {},
   "source": [
    "### Qualunque anno"
   ]
  },
  {
   "cell_type": "code",
   "execution_count": 1,
   "metadata": {},
   "outputs": [],
   "source": [
    "from selenium import webdriver\n",
    "from selenium.webdriver.common.keys import Keys\n",
    "from selenium.webdriver.common.by import By\n",
    "from selenium.webdriver.support.ui import WebDriverWait\n",
    "from selenium.webdriver.support import expected_conditions as EC\n",
    "from selenium.webdriver.common.action_chains import ActionChains\n",
    "from time import sleep\n",
    "import re\n",
    "import numpy as np\n",
    "import pandas as pd\n",
    "from requests import get\n",
    "from pandas import read_csv\n",
    "from unidecode import unidecode\n",
    "from bs4 import BeautifulSoup as BS"
   ]
  },
  {
   "cell_type": "code",
   "execution_count": null,
   "metadata": {},
   "outputs": [],
   "source": [
    "df = read_csv('tables/nome_nomechiave.csv', encoding='utf8')\n",
    "s1 = 'https://www.google.com/search?q='\n",
    "s2 = '+site:skysports.com&source=lnms&tbm=nws'\n",
    "df['urls_all'] = [s1 + x.replace(' ', '+').lower() + s2 for x in df.nome_chiave]\n",
    "df['skysport_google_all'] = np.nan"
   ]
  },
  {
   "cell_type": "code",
   "execution_count": null,
   "metadata": {},
   "outputs": [],
   "source": [
    "for i in range(300):\n",
    "    if isinstance(df.skysport_google_all[i], float):\n",
    "        url = df.urls_all[i]\n",
    "        result = BS(get(url).text, 'lxml').select('#resultStats')[0].text\n",
    "        df.loc[i, 'skysport_google_all'] = result\n",
    "        #print((i, df.nome[i]), end=' ')"
   ]
  },
  {
   "cell_type": "markdown",
   "metadata": {},
   "source": [
    "### 2018"
   ]
  },
  {
   "cell_type": "code",
   "execution_count": null,
   "metadata": {},
   "outputs": [],
   "source": [
    "s1 = 'https://www.google.com/search?q='\n",
    "s2 = '+site:skysports.com&tbm=nws&source=lnt&tbs=qdr:y'\n",
    "df['url_18'] = [s1 + x.replace(' ', '+').lower() + s2 for x in df.nome_chiave]\n",
    "df['skysport_google_18'] = np.nan"
   ]
  },
  {
   "cell_type": "code",
   "execution_count": null,
   "metadata": {},
   "outputs": [],
   "source": [
    "driver = webdriver.Chrome(executable_path='chromedriver')\n",
    "driver.maximize_window()\n",
    "\n",
    "results = []\n",
    "\n",
    "for i in range(300):\n",
    "    if isinstance(df.skysport_google_18[i], float):\n",
    "        url = df.url_18[i]\n",
    "        driver.get(url)\n",
    "        sleep(np.random.uniform(2))\n",
    "        el = driver.find_element_by_link_text('Strumenti')\n",
    "        webdriver.ActionChains(driver).move_to_element(el).click(el).perform()\n",
    "        sleep(np.random.uniform(2))\n",
    "        result = driver.find_element_by_id('resultStats').text\n",
    "        df.loc[i, 'skysport_google_18'] = result\n",
    "        #print((i,df.nome[i]), end=' ')\n",
    "    \n",
    "driver.quit()"
   ]
  },
  {
   "cell_type": "markdown",
   "metadata": {},
   "source": [
    "## Sky Sport Italia"
   ]
  },
  {
   "cell_type": "markdown",
   "metadata": {},
   "source": [
    "### Qualunque anno"
   ]
  },
  {
   "cell_type": "code",
   "execution_count": null,
   "metadata": {},
   "outputs": [],
   "source": [
    "s1 = 'https://www.google.com/search?q='\n",
    "s2 = '+site:sport.sky.it&source=lnms&tbm=nws'\n",
    "df['urls_all'] = [s1 + x.replace(' ', '+').lower() + s2 for x in df.nome_chiave]\n",
    "df['skyitalia_google_all'] = np.nan"
   ]
  },
  {
   "cell_type": "code",
   "execution_count": null,
   "metadata": {},
   "outputs": [],
   "source": [
    "for i in range(300):\n",
    "    if isinstance(df.skyitalia_google_all[i], float):\n",
    "        url = df.urls_all[i]\n",
    "        result = BS(get(url).text, 'lxml').select('#resultStats')[0].text\n",
    "        df.loc[i, 'skyitalia_google_all'] = result\n",
    "        #print((i, df.nome[i]), end=' ')"
   ]
  },
  {
   "cell_type": "markdown",
   "metadata": {},
   "source": [
    "### 2018"
   ]
  },
  {
   "cell_type": "code",
   "execution_count": null,
   "metadata": {},
   "outputs": [],
   "source": [
    "s1 = 'https://www.google.com/search?q='\n",
    "s2 = '+site:sport.sky.it&tbm=nws&source=lnt&tbs=qdr:y'\n",
    "df['url_18'] = [s1 + x.replace(' ', '+').lower() + s2 for x in df.nome_chiave]\n",
    "df['skyitalia_google_18'] = np.nan"
   ]
  },
  {
   "cell_type": "code",
   "execution_count": null,
   "metadata": {},
   "outputs": [],
   "source": [
    "driver = webdriver.Chrome(executable_path='chromedriver')\n",
    "driver.maximize_window()\n",
    "\n",
    "results = []\n",
    "\n",
    "for i in range(290,300):\n",
    "    if isinstance(df.skyitalia_google_18[i], float):\n",
    "        url = df.url_18[i]\n",
    "        driver.get(url)\n",
    "        sleep(np.random.uniform(2))\n",
    "        el = driver.find_element_by_link_text('Strumenti')\n",
    "        webdriver.ActionChains(driver).move_to_element(el).click(el).perform()\n",
    "        sleep(np.random.uniform(2))\n",
    "        result = driver.find_element_by_id('resultStats').text\n",
    "        df.loc[i, 'skyitalia_google_18'] = result\n",
    "        #print((i,df.nome[i]), end=' ')\n",
    "    \n",
    "driver.quit()"
   ]
  },
  {
   "cell_type": "markdown",
   "metadata": {},
   "source": [
    "## Eurosport"
   ]
  },
  {
   "cell_type": "markdown",
   "metadata": {},
   "source": [
    "### Qualunque anno"
   ]
  },
  {
   "cell_type": "code",
   "execution_count": 144,
   "metadata": {},
   "outputs": [],
   "source": [
    "s1 = 'https://www.google.com/search?q='\n",
    "s2 = '+site:eurosport.com&source=lnms&tbm=nws'\n",
    "df['urls_all'] = [s1 + x.replace(' ', '+').lower() + s2 for x in df.nome_chiave]\n",
    "df['eurosport_google_all'] = np.nan"
   ]
  },
  {
   "cell_type": "code",
   "execution_count": null,
   "metadata": {},
   "outputs": [],
   "source": [
    "for i in range(300):\n",
    "    if isinstance(df.eurosport_google_all[i], float):\n",
    "        url = df.urls_all[i]\n",
    "        result = BS(get(url).text, 'lxml').select('#resultStats')[0].text\n",
    "        df.loc[i, 'eurosport_google_all'] = result\n",
    "        #print((i, df.nome[i]), end=' ')"
   ]
  },
  {
   "cell_type": "markdown",
   "metadata": {},
   "source": [
    "### 2018"
   ]
  },
  {
   "cell_type": "code",
   "execution_count": null,
   "metadata": {},
   "outputs": [],
   "source": [
    "s1 = 'https://www.google.com/search?q='\n",
    "s2 = '+site:eurosport.com&tbm=nws&source=lnt&tbs=qdr:y'\n",
    "df['url_18'] = [s1 + x.replace(' ', '+').lower() + s2 for x in df.nome_chiave]\n",
    "df['eurosport_google_18'] = np.nan"
   ]
  },
  {
   "cell_type": "code",
   "execution_count": null,
   "metadata": {},
   "outputs": [],
   "source": [
    "driver = webdriver.Chrome(executable_path='chromedriver')\n",
    "driver.maximize_window()\n",
    "\n",
    "results = []\n",
    "\n",
    "for i in range(300):\n",
    "    if isinstance(df.eurosport_google_18[i], float):\n",
    "        url = df.url_18[i]\n",
    "        driver.get(url)\n",
    "        sleep(np.random.uniform(2))\n",
    "        el = driver.find_element_by_link_text('Strumenti')\n",
    "        webdriver.ActionChains(driver).move_to_element(el).click(el).perform()\n",
    "        sleep(np.random.uniform(2))\n",
    "        result = driver.find_element_by_id('resultStats').text\n",
    "        df.loc[i, 'eurosport_google_18'] = result\n",
    "        #print((i,df.nome[i]), end=' ')\n",
    "    \n",
    "driver.quit()"
   ]
  },
  {
   "cell_type": "markdown",
   "metadata": {},
   "source": [
    "### Pulizia dati"
   ]
  },
  {
   "cell_type": "code",
   "execution_count": null,
   "metadata": {},
   "outputs": [],
   "source": [
    "c = ['skysport_google_all', 'skysport_google_18', \n",
    "     'skyitalia_google_all', 'skyitalia_google_18', \n",
    "     'eurosport_google_all', 'eurosport_google_18']\n",
    "df2 = df[c]"
   ]
  },
  {
   "cell_type": "code",
   "execution_count": null,
   "metadata": {},
   "outputs": [],
   "source": [
    "for col in df2.columns:\n",
    "    df2.loc[df2[col].isnull(), col] = 'Circa 0 risultati'"
   ]
  },
  {
   "cell_type": "code",
   "execution_count": null,
   "metadata": {},
   "outputs": [],
   "source": [
    "def f(x):\n",
    "    return x.replace('.', '')\n",
    "\n",
    "for j in range(6):\n",
    "    df2.iloc[:, j] = df2.iloc[:, j].apply(f)"
   ]
  },
  {
   "cell_type": "code",
   "execution_count": null,
   "metadata": {},
   "outputs": [],
   "source": [
    "def f2(x):\n",
    "    return re.findall('\\d+',x)[0]\n",
    "\n",
    "for nomecol in df2.columns:\n",
    "    df2[nomecol] = df2[nomecol].apply(f2)"
   ]
  },
  {
   "cell_type": "code",
   "execution_count": 142,
   "metadata": {},
   "outputs": [],
   "source": [
    "df2.to_csv('columns/skysports_skyitalia_eurosport.csv')"
   ]
  }
 ],
 "metadata": {
  "kernelspec": {
   "display_name": "Python 3",
   "language": "python",
   "name": "python3"
  },
  "language_info": {
   "codemirror_mode": {
    "name": "ipython",
    "version": 3
   },
   "file_extension": ".py",
   "mimetype": "text/x-python",
   "name": "python",
   "nbconvert_exporter": "python",
   "pygments_lexer": "ipython3",
   "version": "3.6.5"
  }
 },
 "nbformat": 4,
 "nbformat_minor": 2
}
