{
 "cells": [
  {
   "cell_type": "markdown",
   "metadata": {},
   "source": [
    "# 10 - The Guardian"
   ]
  },
  {
   "cell_type": "markdown",
   "metadata": {},
   "source": [
    "## Qualunque anno"
   ]
  },
  {
   "cell_type": "code",
   "execution_count": 1,
   "metadata": {},
   "outputs": [],
   "source": [
    "from selenium import webdriver\n",
    "from selenium.webdriver.common.keys import Keys\n",
    "from selenium.webdriver.common.by import By\n",
    "from selenium.webdriver.support.ui import WebDriverWait\n",
    "from selenium.webdriver.support import expected_conditions as EC\n",
    "from selenium.webdriver.common.action_chains import ActionChains\n",
    "from time import sleep\n",
    "import re\n",
    "import numpy as np\n",
    "import pandas as pd\n",
    "from requests import get\n",
    "from pandas import read_csv\n",
    "from unidecode import unidecode\n",
    "from bs4 import BeautifulSoup as BS"
   ]
  },
  {
   "cell_type": "code",
   "execution_count": 2,
   "metadata": {},
   "outputs": [],
   "source": [
    "df = read_csv('tables/nome_nomechiave.csv', encoding='utf8')\n",
    "s1 = 'https://www.google.com/search?q='\n",
    "s2 = '+site:www.theguardian.com&source=lnms&tbm=nws'\n",
    "df['urls_all'] = [s1 + x.replace(' ', '+').lower() + s2 for x in df.nome_chiave]\n",
    "df['guardian_google_all'] = np.nan"
   ]
  },
  {
   "cell_type": "code",
   "execution_count": null,
   "metadata": {},
   "outputs": [],
   "source": [
    "for i in range(300):\n",
    "    if isinstance(df.guardian_google_all[i], float):\n",
    "        url = df.urls_all[i]\n",
    "        result = BS(get(url).text, 'lxml').select('#resultStats')[0].text\n",
    "        df.loc[i, 'guardian_google_all'] = result\n",
    "        #print((i, df.nome[i]), end=' ')"
   ]
  },
  {
   "cell_type": "markdown",
   "metadata": {},
   "source": [
    "## 2018"
   ]
  },
  {
   "cell_type": "code",
   "execution_count": 7,
   "metadata": {},
   "outputs": [],
   "source": [
    "s1 = 'https://www.google.com/search?q='\n",
    "s2 = '+site:www.theguardian.com&tbm=nws&source=lnt&tbs=qdr:y'\n",
    "df['url_18'] = [s1 + x.replace(' ', '+').lower() + s2 for x in df.nome_chiave]\n",
    "df['guardian_google_18'] = np.nan"
   ]
  },
  {
   "cell_type": "code",
   "execution_count": null,
   "metadata": {},
   "outputs": [],
   "source": [
    "driver = webdriver.Chrome(executable_path='chromedriver')\n",
    "driver.maximize_window()\n",
    "\n",
    "results = []\n",
    "\n",
    "for i in range(300):\n",
    "    if isinstance(df.guardian_google_18[i], float):\n",
    "        url = df.url_18[i]\n",
    "        driver.get(url)\n",
    "        sleep(np.random.uniform(2))\n",
    "        el = driver.find_element_by_link_text('Strumenti')\n",
    "        webdriver.ActionChains(driver).move_to_element(el).click(el).perform()\n",
    "        sleep(np.random.uniform(2))\n",
    "        result = driver.find_element_by_id('resultStats').text\n",
    "        df.loc[i, 'guardian_google_18'] = result\n",
    "        #print((i,df.nome[i]), end=' ')\n",
    "    \n",
    "driver.quit()"
   ]
  },
  {
   "cell_type": "markdown",
   "metadata": {},
   "source": [
    "## Pulizia dati"
   ]
  },
  {
   "cell_type": "code",
   "execution_count": 50,
   "metadata": {},
   "outputs": [
    {
     "data": {
      "text/html": [
       "<div>\n",
       "<style scoped>\n",
       "    .dataframe tbody tr th:only-of-type {\n",
       "        vertical-align: middle;\n",
       "    }\n",
       "\n",
       "    .dataframe tbody tr th {\n",
       "        vertical-align: top;\n",
       "    }\n",
       "\n",
       "    .dataframe thead th {\n",
       "        text-align: right;\n",
       "    }\n",
       "</style>\n",
       "<table border=\"1\" class=\"dataframe\">\n",
       "  <thead>\n",
       "    <tr style=\"text-align: right;\">\n",
       "      <th></th>\n",
       "      <th>guardian_google_all</th>\n",
       "      <th>guardian_google_18</th>\n",
       "    </tr>\n",
       "  </thead>\n",
       "  <tbody>\n",
       "    <tr>\n",
       "      <th>0</th>\n",
       "      <td>Circa 639 risultati</td>\n",
       "      <td>Circa 354 risultati (0,22 secondi)</td>\n",
       "    </tr>\n",
       "    <tr>\n",
       "      <th>1</th>\n",
       "      <td>Circa 3.300 risultati</td>\n",
       "      <td>Circa 687 risultati (0,16 secondi)</td>\n",
       "    </tr>\n",
       "    <tr>\n",
       "      <th>2</th>\n",
       "      <td>Circa 5.860 risultati</td>\n",
       "      <td>Circa 964 risultati (0,19 secondi)</td>\n",
       "    </tr>\n",
       "    <tr>\n",
       "      <th>3</th>\n",
       "      <td>Circa 1.960 risultati</td>\n",
       "      <td>Circa 852 risultati (0,20 secondi)</td>\n",
       "    </tr>\n",
       "    <tr>\n",
       "      <th>4</th>\n",
       "      <td>Circa 4.420 risultati</td>\n",
       "      <td>Circa 1.000 risultati (0,21 secondi)</td>\n",
       "    </tr>\n",
       "  </tbody>\n",
       "</table>\n",
       "</div>"
      ],
      "text/plain": [
       "     guardian_google_all                     guardian_google_18\n",
       "0    Circa 639 risultati    Circa 354 risultati (0,22 secondi) \n",
       "1  Circa 3.300 risultati    Circa 687 risultati (0,16 secondi) \n",
       "2  Circa 5.860 risultati    Circa 964 risultati (0,19 secondi) \n",
       "3  Circa 1.960 risultati    Circa 852 risultati (0,20 secondi) \n",
       "4  Circa 4.420 risultati  Circa 1.000 risultati (0,21 secondi) "
      ]
     },
     "execution_count": 50,
     "metadata": {},
     "output_type": "execute_result"
    }
   ],
   "source": [
    "df[['guardian_google_all', 'guardian_google_18']].head()"
   ]
  },
  {
   "cell_type": "code",
   "execution_count": null,
   "metadata": {},
   "outputs": [],
   "source": [
    "def f(x):\n",
    "    x=x.replace('.','')\n",
    "    x=re.findall('(\\d+)',x)\n",
    "    if x:\n",
    "        return x[0]\n",
    "\n",
    "df2 = df[['guardian_google_all', 'guardian_google_18']]\n",
    "\n",
    "df2.loc[0:300, 'guardian_google_all'] = df2.guardian_google_all.apply(f)\n",
    "df2.loc[0:300, 'guardian_google_18'] = df2.guardian_google_18.apply(f)"
   ]
  },
  {
   "cell_type": "code",
   "execution_count": 49,
   "metadata": {
    "scrolled": true
   },
   "outputs": [
    {
     "data": {
      "text/html": [
       "<div>\n",
       "<style scoped>\n",
       "    .dataframe tbody tr th:only-of-type {\n",
       "        vertical-align: middle;\n",
       "    }\n",
       "\n",
       "    .dataframe tbody tr th {\n",
       "        vertical-align: top;\n",
       "    }\n",
       "\n",
       "    .dataframe thead th {\n",
       "        text-align: right;\n",
       "    }\n",
       "</style>\n",
       "<table border=\"1\" class=\"dataframe\">\n",
       "  <thead>\n",
       "    <tr style=\"text-align: right;\">\n",
       "      <th></th>\n",
       "      <th>guardian_google_all</th>\n",
       "      <th>guardian_google_18</th>\n",
       "    </tr>\n",
       "  </thead>\n",
       "  <tbody>\n",
       "    <tr>\n",
       "      <th>0</th>\n",
       "      <td>639</td>\n",
       "      <td>354</td>\n",
       "    </tr>\n",
       "    <tr>\n",
       "      <th>1</th>\n",
       "      <td>3300</td>\n",
       "      <td>687</td>\n",
       "    </tr>\n",
       "    <tr>\n",
       "      <th>2</th>\n",
       "      <td>5860</td>\n",
       "      <td>964</td>\n",
       "    </tr>\n",
       "    <tr>\n",
       "      <th>3</th>\n",
       "      <td>1960</td>\n",
       "      <td>852</td>\n",
       "    </tr>\n",
       "    <tr>\n",
       "      <th>4</th>\n",
       "      <td>4420</td>\n",
       "      <td>1000</td>\n",
       "    </tr>\n",
       "  </tbody>\n",
       "</table>\n",
       "</div>"
      ],
      "text/plain": [
       "  guardian_google_all guardian_google_18\n",
       "0                 639                354\n",
       "1                3300                687\n",
       "2                5860                964\n",
       "3                1960                852\n",
       "4                4420               1000"
      ]
     },
     "execution_count": 49,
     "metadata": {},
     "output_type": "execute_result"
    }
   ],
   "source": [
    "df2.head()"
   ]
  },
  {
   "cell_type": "code",
   "execution_count": 51,
   "metadata": {},
   "outputs": [],
   "source": [
    "df2.to_csv('columns/guardian_data.csv')"
   ]
  }
 ],
 "metadata": {
  "kernelspec": {
   "display_name": "Python 3",
   "language": "python",
   "name": "python3"
  },
  "language_info": {
   "codemirror_mode": {
    "name": "ipython",
    "version": 3
   },
   "file_extension": ".py",
   "mimetype": "text/x-python",
   "name": "python",
   "nbconvert_exporter": "python",
   "pygments_lexer": "ipython3",
   "version": "3.6.5"
  }
 },
 "nbformat": 4,
 "nbformat_minor": 2
}
