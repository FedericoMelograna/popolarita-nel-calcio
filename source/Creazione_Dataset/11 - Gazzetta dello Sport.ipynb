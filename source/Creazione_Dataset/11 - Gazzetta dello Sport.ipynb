{
 "cells": [
  {
   "cell_type": "markdown",
   "metadata": {},
   "source": [
    "# 11 - Gazzetta dello Sport"
   ]
  },
  {
   "cell_type": "markdown",
   "metadata": {},
   "source": [
    "## Qualunque anno"
   ]
  },
  {
   "cell_type": "code",
   "execution_count": 1,
   "metadata": {},
   "outputs": [],
   "source": [
    "from selenium import webdriver\n",
    "from selenium.webdriver.common.keys import Keys\n",
    "from selenium.webdriver.common.by import By\n",
    "from selenium.webdriver.support.ui import WebDriverWait\n",
    "from selenium.webdriver.support import expected_conditions as EC\n",
    "from selenium.webdriver.common.action_chains import ActionChains\n",
    "from time import sleep\n",
    "import re\n",
    "import numpy as np\n",
    "import pandas as pd\n",
    "from requests import get\n",
    "from pandas import read_csv\n",
    "from unidecode import unidecode\n",
    "from bs4 import BeautifulSoup as BS"
   ]
  },
  {
   "cell_type": "code",
   "execution_count": 2,
   "metadata": {},
   "outputs": [],
   "source": [
    "df = read_csv('tables/nome_nomechiave.csv', encoding='utf8')\n",
    "s1 = 'https://www.google.com/search?q='\n",
    "s2 = '+site:www.gazzetta.it&source=lnms&tbm=nws'\n",
    "df['urls_all'] = [s1 + x.replace(' ', '+').lower() + s2 for x in df.nome_chiave]\n",
    "df['gs_google_all'] = np.nan\n",
    "\n",
    "for i in range(300):\n",
    "    if isinstance(df.gs_google_all[i], float):\n",
    "        url = df.urls_all[i]\n",
    "        result = BS(get(url).text, 'lxml').select('#resultStats')[0].text\n",
    "        df.loc[i, 'gs_google_all'] = result\n",
    "        print((i, df.nome[i]), end=' ')"
   ]
  },
  {
   "cell_type": "markdown",
   "metadata": {},
   "source": [
    "## 2018"
   ]
  },
  {
   "cell_type": "code",
   "execution_count": 2,
   "metadata": {},
   "outputs": [],
   "source": [
    "df = read_csv('tables/nome_nomechiave.csv', encoding='utf8')\n",
    "s1 = 'https://www.google.com/search?q='\n",
    "s2 = '+site:www.gazzetta.it&tbm=nws&source=lnt&tbs=qdr:y'\n",
    "df['url_18'] = [s1 + x.replace(' ', '+').lower() + s2 for x in df.nome_chiave]\n",
    "df['gs_google_18'] = np.nan\n",
    "\n",
    "# ------\n",
    "\n",
    "driver = webdriver.Chrome(executable_path='chromedriver')\n",
    "driver.maximize_window()\n",
    "\n",
    "results = []\n",
    "\n",
    "for i in range(300):\n",
    "    if isinstance(df.gs_google_18[i], float):\n",
    "        url = df.url_18[i]\n",
    "        driver.get(url)\n",
    "        sleep(np.random.uniform(1))\n",
    "        el = driver.find_element_by_link_text('Strumenti')\n",
    "        webdriver.ActionChains(driver).move_to_element(el).click(el).perform()\n",
    "        sleep(np.random.uniform(1))\n",
    "        result = driver.find_element_by_id('resultStats').text\n",
    "        df.loc[i, 'gs_google_18'] = result\n",
    "        print((i,df.nome[i]), end=' ')\n",
    "    \n",
    "driver.quit()"
   ]
  },
  {
   "cell_type": "markdown",
   "metadata": {},
   "source": [
    "### Pulizia dati"
   ]
  },
  {
   "cell_type": "code",
   "execution_count": 16,
   "metadata": {},
   "outputs": [],
   "source": [
    "def f(x):\n",
    "    x = x.replace(',', '')\n",
    "    x = re.findall('(\\d+)', x)\n",
    "    if x:\n",
    "        return x[0]\n",
    "df2 = df.gs_google_all\n",
    "pd.DataFrame(df2.apply(f)).to_csv('columns/gazzetta_google_all.csv', index=False)"
   ]
  },
  {
   "cell_type": "code",
   "execution_count": 34,
   "metadata": {},
   "outputs": [],
   "source": [
    "def f(x):\n",
    "    x = x.replace('.', '')\n",
    "    x = re.findall('(\\d+)', x)\n",
    "    if x:\n",
    "        return x[0]\n",
    "df2 = df.gs_google_18\n",
    "pd.DataFrame(df2.apply(f)).to_csv('columns/gazzetta_google_18.csv', index=False)"
   ]
  }
 ],
 "metadata": {
  "kernelspec": {
   "display_name": "Python 3",
   "language": "python",
   "name": "python3"
  },
  "language_info": {
   "codemirror_mode": {
    "name": "ipython",
    "version": 3
   },
   "file_extension": ".py",
   "mimetype": "text/x-python",
   "name": "python",
   "nbconvert_exporter": "python",
   "pygments_lexer": "ipython3",
   "version": "3.6.5"
  }
 },
 "nbformat": 4,
 "nbformat_minor": 2
}
