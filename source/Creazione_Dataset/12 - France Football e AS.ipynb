{
 "cells": [
  {
   "cell_type": "markdown",
   "metadata": {},
   "source": [
    "# 12 - France Football e AS"
   ]
  },
  {
   "cell_type": "code",
   "execution_count": null,
   "metadata": {},
   "outputs": [],
   "source": [
    "from selenium import webdriver\n",
    "from selenium.webdriver.common.keys import Keys\n",
    "from selenium.webdriver.common.by import By\n",
    "from selenium.webdriver.support.ui import WebDriverWait\n",
    "from selenium.webdriver.support import expected_conditions as EC\n",
    "from selenium.webdriver.common.action_chains import ActionChains\n",
    "from time import sleep\n",
    "import re\n",
    "import numpy as np\n",
    "import pandas as pd\n",
    "from requests import get\n",
    "from pandas import read_csv\n",
    "from unidecode import unidecode\n",
    "from bs4 import BeautifulSoup as BS"
   ]
  },
  {
   "cell_type": "markdown",
   "metadata": {},
   "source": [
    "## France Football"
   ]
  },
  {
   "cell_type": "markdown",
   "metadata": {},
   "source": [
    "### Qualunque anno"
   ]
  },
  {
   "cell_type": "code",
   "execution_count": null,
   "metadata": {},
   "outputs": [],
   "source": [
    "df = read_csv('tables/nome_nomechiave.csv', encoding='utf8')\n",
    "s1 = 'https://www.google.com/search?q='\n",
    "s2 = '+site:francefootball.com&source=lnms&tbm=nws'\n",
    "df['url_ff'] = [s1 + x.replace(' ', '+').lower() + s2 for x in df.nome_chiave]\n",
    "\n",
    "headers = {\"User-Agent\":\"Mozilla/5.0\"}\n",
    "results_ff = []\n",
    "\n",
    "# si estrae il numero di risultati di google in corrispondenza della ricerca di ciascun giocatore sulla rivista FranceFootball\n",
    "for link in df.url_ff:\n",
    "    soup = BS(get(link).text,'lxml')\n",
    "    stringa = soup.find('div', attrs = {'id': 'resultStats'}).text.strip().replace('.','')\n",
    "    results_ff.append(int(str([int(s) for s in stringa if s.isdigit()]).strip('[]').replace(',','').replace(' ','')))\n",
    "\n",
    "# si aggiorna il dataset df con la nuova colonna\n",
    "df['ff_google_all'] = results_ff"
   ]
  },
  {
   "cell_type": "markdown",
   "metadata": {},
   "source": [
    "### 2018"
   ]
  },
  {
   "cell_type": "code",
   "execution_count": null,
   "metadata": {},
   "outputs": [],
   "source": [
    "df = read_csv('tables/nome_nomechiave.csv', encoding='utf8')\n",
    "s1 = 'https://www.google.com/search?q='\n",
    "s2 = '+site:francefootball.com&tbm=nws&source=lnt&tbs=qdr:y'\n",
    "df['url_ff'] = [s1 + x.replace(' ', '+').lower() + s2 for x in df.nome_chiave]\n",
    "df['ff_google_18'] = np.nan\n",
    "\n",
    "# ------\n",
    "\n",
    "driver = webdriver.Chrome(executable_path='chromedriver')\n",
    "driver.maximize_window()\n",
    "\n",
    "results = []\n",
    "\n",
    "for i in range(300):\n",
    "    if isinstance(df.ff_google_18[i], float):\n",
    "        url = df.url_ff[i]\n",
    "        driver.get(url)\n",
    "        sleep(np.random.uniform(1))\n",
    "        el = driver.find_element_by_link_text('Strumenti')\n",
    "        webdriver.ActionChains(driver).move_to_element(el).click(el).perform()\n",
    "        sleep(np.random.uniform(1))\n",
    "        result = driver.find_element_by_id('resultStats').text.strip().replace('.','')\n",
    "        result = int(str([int(s) for s in result if s.isdigit()]).strip('[]').replace(',','').replace(' ',''))\n",
    "        df.loc[i, 'ff_google_18'] = result\n",
    "        print((i,df.nome[i]), end=' ')\n",
    "    \n",
    "driver.quit()"
   ]
  },
  {
   "cell_type": "markdown",
   "metadata": {},
   "source": [
    "## AS.com"
   ]
  },
  {
   "cell_type": "markdown",
   "metadata": {},
   "source": [
    "### Qualunque anno"
   ]
  },
  {
   "cell_type": "code",
   "execution_count": null,
   "metadata": {},
   "outputs": [],
   "source": [
    "s1 = 'https://www.google.com/search?q='\n",
    "s2 = '+site:as.com&source=lnms&tbm=nws'\n",
    "df['url_as'] = [s1 + x.replace(' ', '+').lower() + s2 for x in df.nome_chiave]\n",
    "\n",
    "headers = {\"User-Agent\":\"Mozilla/5.0\"}\n",
    "results_as = []\n",
    "\n",
    "# si estrae il numero di risultati di google in corrispondenza della ricerca di ciascun giocatore sulla rivista AS\n",
    "for link in df.url_as:\n",
    "    soup = BS(get(link).text,'lxml')\n",
    "    results_as.append(soup.find('div', attrs = {'id': 'resultStats'}).text.strip().split(' ')[1].replace('.',''))\n",
    "\n",
    "# si aggiorna il dataset df con la nuova colonna\n",
    "df['as_google_all'] = results_as"
   ]
  },
  {
   "cell_type": "markdown",
   "metadata": {},
   "source": [
    "### 2018"
   ]
  },
  {
   "cell_type": "code",
   "execution_count": null,
   "metadata": {},
   "outputs": [],
   "source": [
    "df = read_csv('tables/nome_nomechiave.csv', encoding='utf8')\n",
    "s1 = 'https://www.google.com/search?q='\n",
    "s2 = '+site:as.com&tbm=nws&source=lnt&tbs=qdr:y'\n",
    "df['url_as'] = [s1 + x.replace(' ', '+').lower() + s2 for x in df.nome_chiave]\n",
    "df['as_google_18'] = np.nan\n",
    "\n",
    "# ------\n",
    "\n",
    "driver = webdriver.Chrome(executable_path='chromedriver')\n",
    "driver.maximize_window()\n",
    "\n",
    "results = []\n",
    "\n",
    "for i in range(300):\n",
    "    if isinstance(df.as_google_18[i], float):\n",
    "        url = df.url_as[i]\n",
    "        driver.get(url)\n",
    "        sleep(np.random.uniform(1))\n",
    "        el = driver.find_element_by_link_text('Strumenti')\n",
    "        webdriver.ActionChains(driver).move_to_element(el).click(el).perform()\n",
    "        sleep(np.random.uniform(1))\n",
    "        result = driver.find_element_by_id('resultStats').text.strip().replace('.','')\n",
    "        result = int(str([int(s) for s in result if s.isdigit()]).strip('[]').replace(',','').replace(' ',''))\n",
    "        df.loc[i, 'as_google_18'] = result\n",
    "        print((i,df.nome[i]), end=' ')\n",
    "    \n",
    "driver.quit()"
   ]
  },
  {
   "cell_type": "code",
   "execution_count": null,
   "metadata": {},
   "outputs": [],
   "source": [
    "d = df[['ff_google_all', 'ff_google_18', 'as_google_all', 'as_google_18']]\n",
    "d.to_csv('columns/ff_as_google.csv', index=False)"
   ]
  }
 ],
 "metadata": {
  "kernelspec": {
   "display_name": "Python 3",
   "language": "python",
   "name": "python3"
  },
  "language_info": {
   "codemirror_mode": {
    "name": "ipython",
    "version": 3
   },
   "file_extension": ".py",
   "mimetype": "text/x-python",
   "name": "python",
   "nbconvert_exporter": "python",
   "pygments_lexer": "ipython3",
   "version": "3.6.5"
  }
 },
 "nbformat": 4,
 "nbformat_minor": 2
}
