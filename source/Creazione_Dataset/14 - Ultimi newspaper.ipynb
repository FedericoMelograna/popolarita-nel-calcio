{
 "cells": [
  {
   "cell_type": "markdown",
   "metadata": {},
   "source": [
    "# 14 - Ultimi newspaper"
   ]
  },
  {
   "cell_type": "code",
   "execution_count": 1,
   "metadata": {},
   "outputs": [],
   "source": [
    "from selenium import webdriver\n",
    "from selenium.webdriver.common.keys import Keys\n",
    "from selenium.webdriver.common.by import By\n",
    "from selenium.webdriver.support.ui import WebDriverWait\n",
    "from selenium.webdriver.support import expected_conditions as EC\n",
    "from selenium.webdriver.common.action_chains import ActionChains\n",
    "from time import sleep\n",
    "import re\n",
    "import numpy as np\n",
    "import pandas as pd\n",
    "from requests import get\n",
    "from pandas import read_csv\n",
    "from unidecode import unidecode\n",
    "from bs4 import BeautifulSoup as BS\n",
    "from io import StringIO"
   ]
  },
  {
   "cell_type": "code",
   "execution_count": 20,
   "metadata": {
    "scrolled": true
   },
   "outputs": [
    {
     "data": {
      "text/html": [
       "<div>\n",
       "<style scoped>\n",
       "    .dataframe tbody tr th:only-of-type {\n",
       "        vertical-align: middle;\n",
       "    }\n",
       "\n",
       "    .dataframe tbody tr th {\n",
       "        vertical-align: top;\n",
       "    }\n",
       "\n",
       "    .dataframe thead th {\n",
       "        text-align: right;\n",
       "    }\n",
       "</style>\n",
       "<table border=\"1\" class=\"dataframe\">\n",
       "  <thead>\n",
       "    <tr style=\"text-align: right;\">\n",
       "      <th></th>\n",
       "      <th>nome</th>\n",
       "      <th>nome_chiave</th>\n",
       "      <th>nome_url</th>\n",
       "    </tr>\n",
       "  </thead>\n",
       "  <tbody>\n",
       "    <tr>\n",
       "      <th>0</th>\n",
       "      <td>Kylian Mbappé</td>\n",
       "      <td>Mbappé</td>\n",
       "      <td>mbappé</td>\n",
       "    </tr>\n",
       "    <tr>\n",
       "      <th>1</th>\n",
       "      <td>Neymar</td>\n",
       "      <td>Neymar</td>\n",
       "      <td>neymar</td>\n",
       "    </tr>\n",
       "    <tr>\n",
       "      <th>2</th>\n",
       "      <td>Leo Messi</td>\n",
       "      <td>Messi</td>\n",
       "      <td>messi</td>\n",
       "    </tr>\n",
       "    <tr>\n",
       "      <th>3</th>\n",
       "      <td>Mohamed Salah</td>\n",
       "      <td>Salah</td>\n",
       "      <td>salah</td>\n",
       "    </tr>\n",
       "    <tr>\n",
       "      <th>4</th>\n",
       "      <td>Harry Kane</td>\n",
       "      <td>Harry Kane</td>\n",
       "      <td>harry+kane</td>\n",
       "    </tr>\n",
       "  </tbody>\n",
       "</table>\n",
       "</div>"
      ],
      "text/plain": [
       "            nome nome_chiave    nome_url\n",
       "0  Kylian Mbappé      Mbappé      mbappé\n",
       "1         Neymar      Neymar      neymar\n",
       "2      Leo Messi       Messi       messi\n",
       "3  Mohamed Salah       Salah       salah\n",
       "4     Harry Kane  Harry Kane  harry+kane"
      ]
     },
     "execution_count": 20,
     "metadata": {},
     "output_type": "execute_result"
    }
   ],
   "source": [
    "df = read_csv('tables/nome_nomechiave.csv')\n",
    "df['nome_url'] = [x.replace(\" \",\"+\").replace(\"-\",\"+\").lower() for x in df.nome_chiave]\n",
    "df.head()"
   ]
  },
  {
   "cell_type": "markdown",
   "metadata": {},
   "source": [
    "# onzemondial.com"
   ]
  },
  {
   "cell_type": "code",
   "execution_count": 21,
   "metadata": {},
   "outputs": [],
   "source": [
    "s1 = 'https://www.google.com/search?q='\n",
    "s2 = '+site:www.gazzetta.it&source=lnms&tbm=nws'\n",
    "lista_1 = [s1 + x + s2 for x in df.nome_url]\n",
    "df['onzemondial_google'] = np.nan"
   ]
  },
  {
   "cell_type": "code",
   "execution_count": null,
   "metadata": {},
   "outputs": [],
   "source": [
    "for i in range(300):\n",
    "    if isinstance(df.onzemondial_google[i], float):\n",
    "        url = lista_1[i]\n",
    "        result = BS(get(url).text, 'lxml').select('#resultStats')[0].text\n",
    "        df.loc[i, 'onzemondial_google'] = result\n",
    "        print((i, df.nome[i]), end=' ')"
   ]
  },
  {
   "cell_type": "code",
   "execution_count": 32,
   "metadata": {},
   "outputs": [
    {
     "data": {
      "text/html": [
       "<div>\n",
       "<style scoped>\n",
       "    .dataframe tbody tr th:only-of-type {\n",
       "        vertical-align: middle;\n",
       "    }\n",
       "\n",
       "    .dataframe tbody tr th {\n",
       "        vertical-align: top;\n",
       "    }\n",
       "\n",
       "    .dataframe thead th {\n",
       "        text-align: right;\n",
       "    }\n",
       "</style>\n",
       "<table border=\"1\" class=\"dataframe\">\n",
       "  <thead>\n",
       "    <tr style=\"text-align: right;\">\n",
       "      <th></th>\n",
       "      <th>onzemondial_google</th>\n",
       "    </tr>\n",
       "  </thead>\n",
       "  <tbody>\n",
       "    <tr>\n",
       "      <th>0</th>\n",
       "      <td>3670</td>\n",
       "    </tr>\n",
       "    <tr>\n",
       "      <th>1</th>\n",
       "      <td>13600</td>\n",
       "    </tr>\n",
       "    <tr>\n",
       "      <th>2</th>\n",
       "      <td>31000</td>\n",
       "    </tr>\n",
       "    <tr>\n",
       "      <th>3</th>\n",
       "      <td>2770</td>\n",
       "    </tr>\n",
       "    <tr>\n",
       "      <th>4</th>\n",
       "      <td>3290</td>\n",
       "    </tr>\n",
       "  </tbody>\n",
       "</table>\n",
       "</div>"
      ],
      "text/plain": [
       "  onzemondial_google\n",
       "0               3670\n",
       "1              13600\n",
       "2              31000\n",
       "3               2770\n",
       "4               3290"
      ]
     },
     "execution_count": 32,
     "metadata": {},
     "output_type": "execute_result"
    }
   ],
   "source": [
    "l = [x.replace('About ', '').replace(' results', '').replace(',', '').replace(' result','') for x in df.onzemondial_google]\n",
    "df1 = pd.DataFrame({'onzemondial_google': l})\n",
    "df1.head()"
   ]
  },
  {
   "cell_type": "markdown",
   "metadata": {},
   "source": [
    "# thesun"
   ]
  },
  {
   "cell_type": "code",
   "execution_count": 33,
   "metadata": {},
   "outputs": [],
   "source": [
    "df['thesun'] = np.nan"
   ]
  },
  {
   "cell_type": "code",
   "execution_count": 34,
   "metadata": {},
   "outputs": [],
   "source": [
    "s1 = \"https://www.thesun.co.uk/?s=\"\n",
    "\n",
    "lista_2 = [s1+x for x in df.nome_url]"
   ]
  },
  {
   "cell_type": "code",
   "execution_count": null,
   "metadata": {},
   "outputs": [],
   "source": [
    "for i in range(300):\n",
    "    if isinstance(df.thesun[i], float):\n",
    "        url = lista_2[i]\n",
    "        page = BS(get(url).text,'lxml')\n",
    "        n_pages = page.select(\"div.search-result-count p\")[0].text.strip().split(\" \")[0].replace(\",\",\"\")\n",
    "        df.loc[i, 'thesun'] = n_pages\n",
    "        print((i, df.nome[i]), end=' ')"
   ]
  },
  {
   "cell_type": "code",
   "execution_count": 46,
   "metadata": {},
   "outputs": [],
   "source": [
    "df1['thesun'] = df.thesun"
   ]
  },
  {
   "cell_type": "code",
   "execution_count": 47,
   "metadata": {},
   "outputs": [
    {
     "data": {
      "text/html": [
       "<div>\n",
       "<style scoped>\n",
       "    .dataframe tbody tr th:only-of-type {\n",
       "        vertical-align: middle;\n",
       "    }\n",
       "\n",
       "    .dataframe tbody tr th {\n",
       "        vertical-align: top;\n",
       "    }\n",
       "\n",
       "    .dataframe thead th {\n",
       "        text-align: right;\n",
       "    }\n",
       "</style>\n",
       "<table border=\"1\" class=\"dataframe\">\n",
       "  <thead>\n",
       "    <tr style=\"text-align: right;\">\n",
       "      <th></th>\n",
       "      <th>onzemondial_google</th>\n",
       "      <th>thesun</th>\n",
       "    </tr>\n",
       "  </thead>\n",
       "  <tbody>\n",
       "    <tr>\n",
       "      <th>0</th>\n",
       "      <td>3670</td>\n",
       "      <td>1764</td>\n",
       "    </tr>\n",
       "    <tr>\n",
       "      <th>1</th>\n",
       "      <td>13600</td>\n",
       "      <td>3788</td>\n",
       "    </tr>\n",
       "    <tr>\n",
       "      <th>2</th>\n",
       "      <td>31000</td>\n",
       "      <td>4404</td>\n",
       "    </tr>\n",
       "    <tr>\n",
       "      <th>3</th>\n",
       "      <td>2770</td>\n",
       "      <td>2416</td>\n",
       "    </tr>\n",
       "    <tr>\n",
       "      <th>4</th>\n",
       "      <td>3290</td>\n",
       "      <td>4805</td>\n",
       "    </tr>\n",
       "  </tbody>\n",
       "</table>\n",
       "</div>"
      ],
      "text/plain": [
       "  onzemondial_google thesun\n",
       "0               3670   1764\n",
       "1              13600   3788\n",
       "2              31000   4404\n",
       "3               2770   2416\n",
       "4               3290   4805"
      ]
     },
     "execution_count": 47,
     "metadata": {},
     "output_type": "execute_result"
    }
   ],
   "source": [
    "df1.head()"
   ]
  },
  {
   "cell_type": "markdown",
   "metadata": {},
   "source": [
    "# marca.com"
   ]
  },
  {
   "cell_type": "code",
   "execution_count": 37,
   "metadata": {},
   "outputs": [],
   "source": [
    "df['marca'] = np.nan"
   ]
  },
  {
   "cell_type": "code",
   "execution_count": 38,
   "metadata": {},
   "outputs": [],
   "source": [
    "s1 = \"https://cgi.marca.com/buscador/archivo_marca.html?q=\"\n",
    "\n",
    "lista_3 = [s1+unidecode(x) for x in df.nome_url]"
   ]
  },
  {
   "cell_type": "code",
   "execution_count": 44,
   "metadata": {},
   "outputs": [],
   "source": [
    "df.loc[256, 'marca'] = '0'"
   ]
  },
  {
   "cell_type": "code",
   "execution_count": null,
   "metadata": {},
   "outputs": [],
   "source": [
    "driver = webdriver.Chrome(executable_path='chromedriver')\n",
    "driver.maximize_window()\n",
    "\n",
    "results = []\n",
    "\n",
    "for i in range(300):\n",
    "    if isinstance(df.marca[i], float):\n",
    "        url = lista_3[i]\n",
    "        driver.get(url)\n",
    "        sleep(np.random.uniform(2))\n",
    "        \n",
    "        result = driver.find_element_by_class_name('porsecciones').find_element_by_tag_name('a').text\n",
    "        result = re.findall(r'\\d+', result)\n",
    "        df.loc[i, 'marca'] = result\n",
    "        print((i,df.nome[i]), end=' ')\n",
    "    \n",
    "driver.quit()"
   ]
  },
  {
   "cell_type": "code",
   "execution_count": 55,
   "metadata": {},
   "outputs": [
    {
     "data": {
      "text/html": [
       "<div>\n",
       "<style scoped>\n",
       "    .dataframe tbody tr th:only-of-type {\n",
       "        vertical-align: middle;\n",
       "    }\n",
       "\n",
       "    .dataframe tbody tr th {\n",
       "        vertical-align: top;\n",
       "    }\n",
       "\n",
       "    .dataframe thead th {\n",
       "        text-align: right;\n",
       "    }\n",
       "</style>\n",
       "<table border=\"1\" class=\"dataframe\">\n",
       "  <thead>\n",
       "    <tr style=\"text-align: right;\">\n",
       "      <th></th>\n",
       "      <th>onzemondial_google</th>\n",
       "      <th>thesun</th>\n",
       "      <th>marca</th>\n",
       "    </tr>\n",
       "  </thead>\n",
       "  <tbody>\n",
       "    <tr>\n",
       "      <th>0</th>\n",
       "      <td>3670</td>\n",
       "      <td>1764</td>\n",
       "      <td>571</td>\n",
       "    </tr>\n",
       "    <tr>\n",
       "      <th>1</th>\n",
       "      <td>13600</td>\n",
       "      <td>3788</td>\n",
       "      <td>7039</td>\n",
       "    </tr>\n",
       "    <tr>\n",
       "      <th>2</th>\n",
       "      <td>31000</td>\n",
       "      <td>4404</td>\n",
       "      <td>23322</td>\n",
       "    </tr>\n",
       "    <tr>\n",
       "      <th>3</th>\n",
       "      <td>2770</td>\n",
       "      <td>2416</td>\n",
       "      <td>457</td>\n",
       "    </tr>\n",
       "    <tr>\n",
       "      <th>4</th>\n",
       "      <td>3290</td>\n",
       "      <td>4805</td>\n",
       "      <td>275</td>\n",
       "    </tr>\n",
       "  </tbody>\n",
       "</table>\n",
       "</div>"
      ],
      "text/plain": [
       "  onzemondial_google thesun  marca\n",
       "0               3670   1764    571\n",
       "1              13600   3788   7039\n",
       "2              31000   4404  23322\n",
       "3               2770   2416    457\n",
       "4               3290   4805    275"
      ]
     },
     "execution_count": 55,
     "metadata": {},
     "output_type": "execute_result"
    }
   ],
   "source": [
    "df1['marca'] = [x[0] for x in df.marca]\n",
    "df1.head()"
   ]
  },
  {
   "cell_type": "markdown",
   "metadata": {},
   "source": [
    "# bild.de"
   ]
  },
  {
   "cell_type": "code",
   "execution_count": 56,
   "metadata": {},
   "outputs": [],
   "source": [
    "s1 = 'https://www.google.com/search?q='\n",
    "s2 = '+site:bild.de&source=lnms&tbm=nws'\n",
    "lista_1 = [s1 + x + s2 for x in df.nome_url]\n",
    "df['bild_google'] = np.nan"
   ]
  },
  {
   "cell_type": "code",
   "execution_count": null,
   "metadata": {},
   "outputs": [],
   "source": [
    "for i in range(300):\n",
    "    if isinstance(df.bild_google[i], float):\n",
    "        url = lista_1[i]\n",
    "        result = BS(get(url).text, 'lxml').select('#resultStats')[0].text\n",
    "        df.loc[i, 'bild_google'] = result\n",
    "        print((i, df.nome[i]), end=' ')"
   ]
  },
  {
   "cell_type": "code",
   "execution_count": 65,
   "metadata": {
    "scrolled": true
   },
   "outputs": [
    {
     "data": {
      "text/html": [
       "<div>\n",
       "<style scoped>\n",
       "    .dataframe tbody tr th:only-of-type {\n",
       "        vertical-align: middle;\n",
       "    }\n",
       "\n",
       "    .dataframe tbody tr th {\n",
       "        vertical-align: top;\n",
       "    }\n",
       "\n",
       "    .dataframe thead th {\n",
       "        text-align: right;\n",
       "    }\n",
       "</style>\n",
       "<table border=\"1\" class=\"dataframe\">\n",
       "  <thead>\n",
       "    <tr style=\"text-align: right;\">\n",
       "      <th></th>\n",
       "      <th>onzemondial_google</th>\n",
       "      <th>thesun</th>\n",
       "      <th>marca</th>\n",
       "      <th>bild.de</th>\n",
       "    </tr>\n",
       "  </thead>\n",
       "  <tbody>\n",
       "    <tr>\n",
       "      <th>0</th>\n",
       "      <td>3670</td>\n",
       "      <td>1764</td>\n",
       "      <td>571</td>\n",
       "      <td>1460</td>\n",
       "    </tr>\n",
       "    <tr>\n",
       "      <th>1</th>\n",
       "      <td>13600</td>\n",
       "      <td>3788</td>\n",
       "      <td>7039</td>\n",
       "      <td>8230</td>\n",
       "    </tr>\n",
       "    <tr>\n",
       "      <th>2</th>\n",
       "      <td>31000</td>\n",
       "      <td>4404</td>\n",
       "      <td>23322</td>\n",
       "      <td>7740</td>\n",
       "    </tr>\n",
       "    <tr>\n",
       "      <th>3</th>\n",
       "      <td>2770</td>\n",
       "      <td>2416</td>\n",
       "      <td>457</td>\n",
       "      <td>1440</td>\n",
       "    </tr>\n",
       "    <tr>\n",
       "      <th>4</th>\n",
       "      <td>3290</td>\n",
       "      <td>4805</td>\n",
       "      <td>275</td>\n",
       "      <td>546</td>\n",
       "    </tr>\n",
       "  </tbody>\n",
       "</table>\n",
       "</div>"
      ],
      "text/plain": [
       "  onzemondial_google thesun  marca bild.de\n",
       "0               3670   1764    571    1460\n",
       "1              13600   3788   7039    8230\n",
       "2              31000   4404  23322    7740\n",
       "3               2770   2416    457    1440\n",
       "4               3290   4805    275     546"
      ]
     },
     "execution_count": 65,
     "metadata": {},
     "output_type": "execute_result"
    }
   ],
   "source": [
    "l = [x.replace('Ungefähr ', '').replace(' Ergebnisse', '').replace(' Ergebnis', '').replace('.', '') for x in df.bild_google]\n",
    "df1['bild.de'] = l\n",
    "df1.head()"
   ]
  },
  {
   "cell_type": "markdown",
   "metadata": {},
   "source": [
    "# eurosport.de"
   ]
  },
  {
   "cell_type": "code",
   "execution_count": 66,
   "metadata": {},
   "outputs": [],
   "source": [
    "s1 = 'https://www.google.com/search?q='\n",
    "s2 = '+site:eurosport.de&source=lnms&tbm=nws'\n",
    "lista_1 = [s1 + x + s2 for x in df.nome_url]\n",
    "df['eurosportDE_google'] = np.nan"
   ]
  },
  {
   "cell_type": "code",
   "execution_count": null,
   "metadata": {},
   "outputs": [],
   "source": [
    "for i in range(300):\n",
    "    if isinstance(df.eurosportDE_google[i], float):\n",
    "        url = lista_1[i]\n",
    "        result = BS(get(url).text, 'lxml').select('#resultStats')[0].text\n",
    "        df.loc[i, 'eurosportDE_google'] = result\n",
    "        print((i, df.nome[i]), end=' ')"
   ]
  },
  {
   "cell_type": "code",
   "execution_count": 71,
   "metadata": {},
   "outputs": [
    {
     "data": {
      "text/html": [
       "<div>\n",
       "<style scoped>\n",
       "    .dataframe tbody tr th:only-of-type {\n",
       "        vertical-align: middle;\n",
       "    }\n",
       "\n",
       "    .dataframe tbody tr th {\n",
       "        vertical-align: top;\n",
       "    }\n",
       "\n",
       "    .dataframe thead th {\n",
       "        text-align: right;\n",
       "    }\n",
       "</style>\n",
       "<table border=\"1\" class=\"dataframe\">\n",
       "  <thead>\n",
       "    <tr style=\"text-align: right;\">\n",
       "      <th></th>\n",
       "      <th>onzemondial_google</th>\n",
       "      <th>thesun</th>\n",
       "      <th>marca</th>\n",
       "      <th>bild.de</th>\n",
       "      <th>eurosportDE_google</th>\n",
       "    </tr>\n",
       "  </thead>\n",
       "  <tbody>\n",
       "    <tr>\n",
       "      <th>0</th>\n",
       "      <td>3670</td>\n",
       "      <td>1764</td>\n",
       "      <td>571</td>\n",
       "      <td>1460</td>\n",
       "      <td>771</td>\n",
       "    </tr>\n",
       "    <tr>\n",
       "      <th>1</th>\n",
       "      <td>13600</td>\n",
       "      <td>3788</td>\n",
       "      <td>7039</td>\n",
       "      <td>8230</td>\n",
       "      <td>11300</td>\n",
       "    </tr>\n",
       "    <tr>\n",
       "      <th>2</th>\n",
       "      <td>31000</td>\n",
       "      <td>4404</td>\n",
       "      <td>23322</td>\n",
       "      <td>7740</td>\n",
       "      <td>2450</td>\n",
       "    </tr>\n",
       "    <tr>\n",
       "      <th>3</th>\n",
       "      <td>2770</td>\n",
       "      <td>2416</td>\n",
       "      <td>457</td>\n",
       "      <td>1440</td>\n",
       "      <td>616</td>\n",
       "    </tr>\n",
       "    <tr>\n",
       "      <th>4</th>\n",
       "      <td>3290</td>\n",
       "      <td>4805</td>\n",
       "      <td>275</td>\n",
       "      <td>546</td>\n",
       "      <td>371</td>\n",
       "    </tr>\n",
       "  </tbody>\n",
       "</table>\n",
       "</div>"
      ],
      "text/plain": [
       "  onzemondial_google thesun  marca bild.de eurosportDE_google\n",
       "0               3670   1764    571    1460                771\n",
       "1              13600   3788   7039    8230              11300\n",
       "2              31000   4404  23322    7740               2450\n",
       "3               2770   2416    457    1440                616\n",
       "4               3290   4805    275     546                371"
      ]
     },
     "execution_count": 71,
     "metadata": {},
     "output_type": "execute_result"
    }
   ],
   "source": [
    "l = [x.replace('Ungefähr ', '').replace(' Ergebnisse', '').replace(' Ergebnis', '').replace('.', '') for x in df.eurosportDE_google]\n",
    "df1['eurosportDE_google'] = l\n",
    "df1.head()"
   ]
  },
  {
   "cell_type": "markdown",
   "metadata": {},
   "source": [
    "# lequipe"
   ]
  },
  {
   "cell_type": "code",
   "execution_count": 73,
   "metadata": {},
   "outputs": [],
   "source": [
    "s1 = 'https://www.google.com/search?q='\n",
    "s2 = '+site:lequipe.fr&source=lnms&tbm=nws'\n",
    "lista_1 = [s1 + x + s2 for x in df.nome_url]\n",
    "df['lequipe_google'] = np.nan"
   ]
  },
  {
   "cell_type": "code",
   "execution_count": null,
   "metadata": {},
   "outputs": [],
   "source": [
    "for i in range(300):\n",
    "    if isinstance(df.lequipe_google[i], float):\n",
    "        url = lista_1[i]\n",
    "        result = BS(get(url).text, 'lxml').select('#resultStats')[0].text\n",
    "        df.loc[i, 'lequipe_google'] = result\n",
    "        print((i, df.nome[i]), end=' ')"
   ]
  },
  {
   "cell_type": "code",
   "execution_count": 86,
   "metadata": {
    "scrolled": true
   },
   "outputs": [
    {
     "data": {
      "text/html": [
       "<div>\n",
       "<style scoped>\n",
       "    .dataframe tbody tr th:only-of-type {\n",
       "        vertical-align: middle;\n",
       "    }\n",
       "\n",
       "    .dataframe tbody tr th {\n",
       "        vertical-align: top;\n",
       "    }\n",
       "\n",
       "    .dataframe thead th {\n",
       "        text-align: right;\n",
       "    }\n",
       "</style>\n",
       "<table border=\"1\" class=\"dataframe\">\n",
       "  <thead>\n",
       "    <tr style=\"text-align: right;\">\n",
       "      <th></th>\n",
       "      <th>onzemondial_google</th>\n",
       "      <th>thesun</th>\n",
       "      <th>marca</th>\n",
       "      <th>bild.de</th>\n",
       "      <th>eurosportDE_google</th>\n",
       "      <th>lequipe_google</th>\n",
       "    </tr>\n",
       "  </thead>\n",
       "  <tbody>\n",
       "    <tr>\n",
       "      <th>0</th>\n",
       "      <td>3670</td>\n",
       "      <td>1764</td>\n",
       "      <td>571</td>\n",
       "      <td>1460</td>\n",
       "      <td>771</td>\n",
       "      <td>45800</td>\n",
       "    </tr>\n",
       "    <tr>\n",
       "      <th>1</th>\n",
       "      <td>13600</td>\n",
       "      <td>3788</td>\n",
       "      <td>7039</td>\n",
       "      <td>8230</td>\n",
       "      <td>11300</td>\n",
       "      <td>57800</td>\n",
       "    </tr>\n",
       "    <tr>\n",
       "      <th>2</th>\n",
       "      <td>31000</td>\n",
       "      <td>4404</td>\n",
       "      <td>23322</td>\n",
       "      <td>7740</td>\n",
       "      <td>2450</td>\n",
       "      <td>52100</td>\n",
       "    </tr>\n",
       "    <tr>\n",
       "      <th>3</th>\n",
       "      <td>2770</td>\n",
       "      <td>2416</td>\n",
       "      <td>457</td>\n",
       "      <td>1440</td>\n",
       "      <td>616</td>\n",
       "      <td>7120</td>\n",
       "    </tr>\n",
       "    <tr>\n",
       "      <th>4</th>\n",
       "      <td>3290</td>\n",
       "      <td>4805</td>\n",
       "      <td>275</td>\n",
       "      <td>546</td>\n",
       "      <td>371</td>\n",
       "      <td>657</td>\n",
       "    </tr>\n",
       "  </tbody>\n",
       "</table>\n",
       "</div>"
      ],
      "text/plain": [
       "  onzemondial_google thesun  marca bild.de eurosportDE_google lequipe_google\n",
       "0               3670   1764    571    1460                771          45800\n",
       "1              13600   3788   7039    8230              11300          57800\n",
       "2              31000   4404  23322    7740               2450          52100\n",
       "3               2770   2416    457    1440                616           7120\n",
       "4               3290   4805    275     546                371            657"
      ]
     },
     "execution_count": 86,
     "metadata": {},
     "output_type": "execute_result"
    }
   ],
   "source": [
    "l = [''.join(re.findall('(\\d)',unidecode(x))) for x in df.lequipe_google]\n",
    "df1['lequipe_google'] = l\n",
    "df1.head()"
   ]
  },
  {
   "cell_type": "markdown",
   "metadata": {},
   "source": [
    "# mundodeportivo"
   ]
  },
  {
   "cell_type": "code",
   "execution_count": 87,
   "metadata": {},
   "outputs": [],
   "source": [
    "s1 = 'https://www.google.com/search?q='\n",
    "s2 = '+site:mundodeportivo.com&source=lnms&tbm=nws'\n",
    "lista_1 = [s1 + x + s2 for x in df.nome_url]\n",
    "df['mundodeportivo_google'] = np.nan"
   ]
  },
  {
   "cell_type": "code",
   "execution_count": null,
   "metadata": {},
   "outputs": [],
   "source": [
    "for i in range(300):\n",
    "    if isinstance(df.mundodeportivo_google[i], float):\n",
    "        url = lista_1[i]\n",
    "        result = BS(get(url).text, 'lxml').select('#resultStats')[0].text\n",
    "        df.loc[i, 'mundodeportivo_google'] = result\n",
    "        print((i, df.nome[i]), end=' ')"
   ]
  },
  {
   "cell_type": "code",
   "execution_count": 92,
   "metadata": {},
   "outputs": [
    {
     "data": {
      "text/html": [
       "<div>\n",
       "<style scoped>\n",
       "    .dataframe tbody tr th:only-of-type {\n",
       "        vertical-align: middle;\n",
       "    }\n",
       "\n",
       "    .dataframe tbody tr th {\n",
       "        vertical-align: top;\n",
       "    }\n",
       "\n",
       "    .dataframe thead th {\n",
       "        text-align: right;\n",
       "    }\n",
       "</style>\n",
       "<table border=\"1\" class=\"dataframe\">\n",
       "  <thead>\n",
       "    <tr style=\"text-align: right;\">\n",
       "      <th></th>\n",
       "      <th>onzemondial_google</th>\n",
       "      <th>thesun</th>\n",
       "      <th>marca</th>\n",
       "      <th>bild.de</th>\n",
       "      <th>eurosportDE_google</th>\n",
       "      <th>lequipe_google</th>\n",
       "      <th>mundodeportivo_google</th>\n",
       "    </tr>\n",
       "  </thead>\n",
       "  <tbody>\n",
       "    <tr>\n",
       "      <th>0</th>\n",
       "      <td>3670</td>\n",
       "      <td>1764</td>\n",
       "      <td>571</td>\n",
       "      <td>1460</td>\n",
       "      <td>771</td>\n",
       "      <td>45800</td>\n",
       "      <td>3130</td>\n",
       "    </tr>\n",
       "    <tr>\n",
       "      <th>1</th>\n",
       "      <td>13600</td>\n",
       "      <td>3788</td>\n",
       "      <td>7039</td>\n",
       "      <td>8230</td>\n",
       "      <td>11300</td>\n",
       "      <td>57800</td>\n",
       "      <td>93100</td>\n",
       "    </tr>\n",
       "    <tr>\n",
       "      <th>2</th>\n",
       "      <td>31000</td>\n",
       "      <td>4404</td>\n",
       "      <td>23322</td>\n",
       "      <td>7740</td>\n",
       "      <td>2450</td>\n",
       "      <td>52100</td>\n",
       "      <td>127000</td>\n",
       "    </tr>\n",
       "    <tr>\n",
       "      <th>3</th>\n",
       "      <td>2770</td>\n",
       "      <td>2416</td>\n",
       "      <td>457</td>\n",
       "      <td>1440</td>\n",
       "      <td>616</td>\n",
       "      <td>7120</td>\n",
       "      <td>1500</td>\n",
       "    </tr>\n",
       "    <tr>\n",
       "      <th>4</th>\n",
       "      <td>3290</td>\n",
       "      <td>4805</td>\n",
       "      <td>275</td>\n",
       "      <td>546</td>\n",
       "      <td>371</td>\n",
       "      <td>657</td>\n",
       "      <td>46700</td>\n",
       "    </tr>\n",
       "  </tbody>\n",
       "</table>\n",
       "</div>"
      ],
      "text/plain": [
       "  onzemondial_google thesun  marca bild.de eurosportDE_google lequipe_google  \\\n",
       "0               3670   1764    571    1460                771          45800   \n",
       "1              13600   3788   7039    8230              11300          57800   \n",
       "2              31000   4404  23322    7740               2450          52100   \n",
       "3               2770   2416    457    1440                616           7120   \n",
       "4               3290   4805    275     546                371            657   \n",
       "\n",
       "  mundodeportivo_google  \n",
       "0                  3130  \n",
       "1                 93100  \n",
       "2                127000  \n",
       "3                  1500  \n",
       "4                 46700  "
      ]
     },
     "execution_count": 92,
     "metadata": {},
     "output_type": "execute_result"
    }
   ],
   "source": [
    "l = [''.join(re.findall('(\\d)',unidecode(x))) for x in df.mundodeportivo_google]\n",
    "df1['mundodeportivo_google'] = l\n",
    "df1.head()"
   ]
  },
  {
   "cell_type": "markdown",
   "metadata": {},
   "source": [
    "# espn"
   ]
  },
  {
   "cell_type": "code",
   "execution_count": 94,
   "metadata": {},
   "outputs": [],
   "source": [
    "s1 = 'https://www.google.com/search?q='\n",
    "s2 = '+site:espn.com&source=lnms&tbm=nws'\n",
    "lista_1 = [s1 + x + s2 for x in df.nome_url]\n",
    "df['espn_google'] = np.nan"
   ]
  },
  {
   "cell_type": "code",
   "execution_count": null,
   "metadata": {},
   "outputs": [],
   "source": [
    "for i in range(300):\n",
    "    if isinstance(df.espn_google[i], float):\n",
    "        url = lista_1[i]\n",
    "        result = BS(get(url).text, 'lxml').select('#resultStats')[0].text\n",
    "        df.loc[i, 'espn_google'] = result\n",
    "        print((i, df.nome[i]), end=' ')"
   ]
  },
  {
   "cell_type": "code",
   "execution_count": 99,
   "metadata": {},
   "outputs": [
    {
     "data": {
      "text/html": [
       "<div>\n",
       "<style scoped>\n",
       "    .dataframe tbody tr th:only-of-type {\n",
       "        vertical-align: middle;\n",
       "    }\n",
       "\n",
       "    .dataframe tbody tr th {\n",
       "        vertical-align: top;\n",
       "    }\n",
       "\n",
       "    .dataframe thead th {\n",
       "        text-align: right;\n",
       "    }\n",
       "</style>\n",
       "<table border=\"1\" class=\"dataframe\">\n",
       "  <thead>\n",
       "    <tr style=\"text-align: right;\">\n",
       "      <th></th>\n",
       "      <th>onzemondial_google</th>\n",
       "      <th>thesun</th>\n",
       "      <th>marca</th>\n",
       "      <th>bild.de</th>\n",
       "      <th>eurosportDE_google</th>\n",
       "      <th>lequipe_google</th>\n",
       "      <th>mundodeportivo_google</th>\n",
       "      <th>espn_google</th>\n",
       "    </tr>\n",
       "  </thead>\n",
       "  <tbody>\n",
       "    <tr>\n",
       "      <th>0</th>\n",
       "      <td>3670</td>\n",
       "      <td>1764</td>\n",
       "      <td>571</td>\n",
       "      <td>1460</td>\n",
       "      <td>771</td>\n",
       "      <td>45800</td>\n",
       "      <td>3130</td>\n",
       "      <td>7200</td>\n",
       "    </tr>\n",
       "    <tr>\n",
       "      <th>1</th>\n",
       "      <td>13600</td>\n",
       "      <td>3788</td>\n",
       "      <td>7039</td>\n",
       "      <td>8230</td>\n",
       "      <td>11300</td>\n",
       "      <td>57800</td>\n",
       "      <td>93100</td>\n",
       "      <td>22800</td>\n",
       "    </tr>\n",
       "    <tr>\n",
       "      <th>2</th>\n",
       "      <td>31000</td>\n",
       "      <td>4404</td>\n",
       "      <td>23322</td>\n",
       "      <td>7740</td>\n",
       "      <td>2450</td>\n",
       "      <td>52100</td>\n",
       "      <td>127000</td>\n",
       "      <td>35700</td>\n",
       "    </tr>\n",
       "    <tr>\n",
       "      <th>3</th>\n",
       "      <td>2770</td>\n",
       "      <td>2416</td>\n",
       "      <td>457</td>\n",
       "      <td>1440</td>\n",
       "      <td>616</td>\n",
       "      <td>7120</td>\n",
       "      <td>1500</td>\n",
       "      <td>21100</td>\n",
       "    </tr>\n",
       "    <tr>\n",
       "      <th>4</th>\n",
       "      <td>3290</td>\n",
       "      <td>4805</td>\n",
       "      <td>275</td>\n",
       "      <td>546</td>\n",
       "      <td>371</td>\n",
       "      <td>657</td>\n",
       "      <td>46700</td>\n",
       "      <td>3980</td>\n",
       "    </tr>\n",
       "  </tbody>\n",
       "</table>\n",
       "</div>"
      ],
      "text/plain": [
       "  onzemondial_google thesun  marca bild.de eurosportDE_google lequipe_google  \\\n",
       "0               3670   1764    571    1460                771          45800   \n",
       "1              13600   3788   7039    8230              11300          57800   \n",
       "2              31000   4404  23322    7740               2450          52100   \n",
       "3               2770   2416    457    1440                616           7120   \n",
       "4               3290   4805    275     546                371            657   \n",
       "\n",
       "  mundodeportivo_google espn_google  \n",
       "0                  3130        7200  \n",
       "1                 93100       22800  \n",
       "2                127000       35700  \n",
       "3                  1500       21100  \n",
       "4                 46700        3980  "
      ]
     },
     "execution_count": 99,
     "metadata": {},
     "output_type": "execute_result"
    }
   ],
   "source": [
    "l = [''.join(re.findall('(\\d)',unidecode(x))) for x in df.espn_google]\n",
    "df1['espn_google'] = l\n",
    "df1.head()"
   ]
  },
  {
   "cell_type": "markdown",
   "metadata": {},
   "source": [
    "# beinsports"
   ]
  },
  {
   "cell_type": "code",
   "execution_count": 100,
   "metadata": {},
   "outputs": [],
   "source": [
    "s1 = 'https://www.google.com/search?q='\n",
    "s2 = '+site:beinsports.com&source=lnms&tbm=nws'\n",
    "lista_1 = [s1 + x + s2 for x in df.nome_url]\n",
    "df['bein_google'] = np.nan"
   ]
  },
  {
   "cell_type": "code",
   "execution_count": null,
   "metadata": {},
   "outputs": [],
   "source": [
    "for i in range(300):\n",
    "    if isinstance(df.bein_google[i], float):\n",
    "        url = lista_1[i]\n",
    "        result = BS(get(url).text, 'lxml').select('#resultStats')[0].text\n",
    "        df.loc[i, 'bein_google'] = result\n",
    "        print((i, df.nome[i]), end=' ')"
   ]
  },
  {
   "cell_type": "code",
   "execution_count": 106,
   "metadata": {},
   "outputs": [
    {
     "data": {
      "text/html": [
       "<div>\n",
       "<style scoped>\n",
       "    .dataframe tbody tr th:only-of-type {\n",
       "        vertical-align: middle;\n",
       "    }\n",
       "\n",
       "    .dataframe tbody tr th {\n",
       "        vertical-align: top;\n",
       "    }\n",
       "\n",
       "    .dataframe thead th {\n",
       "        text-align: right;\n",
       "    }\n",
       "</style>\n",
       "<table border=\"1\" class=\"dataframe\">\n",
       "  <thead>\n",
       "    <tr style=\"text-align: right;\">\n",
       "      <th></th>\n",
       "      <th>onzemondial_google</th>\n",
       "      <th>thesun</th>\n",
       "      <th>marca</th>\n",
       "      <th>bild.de</th>\n",
       "      <th>eurosportDE_google</th>\n",
       "      <th>lequipe_google</th>\n",
       "      <th>mundodeportivo_google</th>\n",
       "      <th>espn_google</th>\n",
       "      <th>bein_google</th>\n",
       "    </tr>\n",
       "  </thead>\n",
       "  <tbody>\n",
       "    <tr>\n",
       "      <th>0</th>\n",
       "      <td>3670</td>\n",
       "      <td>1764</td>\n",
       "      <td>571</td>\n",
       "      <td>1460</td>\n",
       "      <td>771</td>\n",
       "      <td>45800</td>\n",
       "      <td>3130</td>\n",
       "      <td>7200</td>\n",
       "      <td>6280</td>\n",
       "    </tr>\n",
       "    <tr>\n",
       "      <th>1</th>\n",
       "      <td>13600</td>\n",
       "      <td>3788</td>\n",
       "      <td>7039</td>\n",
       "      <td>8230</td>\n",
       "      <td>11300</td>\n",
       "      <td>57800</td>\n",
       "      <td>93100</td>\n",
       "      <td>22800</td>\n",
       "      <td>17300</td>\n",
       "    </tr>\n",
       "    <tr>\n",
       "      <th>2</th>\n",
       "      <td>31000</td>\n",
       "      <td>4404</td>\n",
       "      <td>23322</td>\n",
       "      <td>7740</td>\n",
       "      <td>2450</td>\n",
       "      <td>52100</td>\n",
       "      <td>127000</td>\n",
       "      <td>35700</td>\n",
       "      <td>20700</td>\n",
       "    </tr>\n",
       "    <tr>\n",
       "      <th>3</th>\n",
       "      <td>2770</td>\n",
       "      <td>2416</td>\n",
       "      <td>457</td>\n",
       "      <td>1440</td>\n",
       "      <td>616</td>\n",
       "      <td>7120</td>\n",
       "      <td>1500</td>\n",
       "      <td>21100</td>\n",
       "      <td>5140</td>\n",
       "    </tr>\n",
       "    <tr>\n",
       "      <th>4</th>\n",
       "      <td>3290</td>\n",
       "      <td>4805</td>\n",
       "      <td>275</td>\n",
       "      <td>546</td>\n",
       "      <td>371</td>\n",
       "      <td>657</td>\n",
       "      <td>46700</td>\n",
       "      <td>3980</td>\n",
       "      <td>2700</td>\n",
       "    </tr>\n",
       "  </tbody>\n",
       "</table>\n",
       "</div>"
      ],
      "text/plain": [
       "  onzemondial_google thesun  marca bild.de eurosportDE_google lequipe_google  \\\n",
       "0               3670   1764    571    1460                771          45800   \n",
       "1              13600   3788   7039    8230              11300          57800   \n",
       "2              31000   4404  23322    7740               2450          52100   \n",
       "3               2770   2416    457    1440                616           7120   \n",
       "4               3290   4805    275     546                371            657   \n",
       "\n",
       "  mundodeportivo_google espn_google bein_google  \n",
       "0                  3130        7200        6280  \n",
       "1                 93100       22800       17300  \n",
       "2                127000       35700       20700  \n",
       "3                  1500       21100        5140  \n",
       "4                 46700        3980        2700  "
      ]
     },
     "execution_count": 106,
     "metadata": {},
     "output_type": "execute_result"
    }
   ],
   "source": [
    "l = [''.join(re.findall('(\\d)',unidecode(x))) for x in df.bein_google]\n",
    "df1['bein_google'] = l\n",
    "df1.head()"
   ]
  },
  {
   "cell_type": "code",
   "execution_count": 107,
   "metadata": {},
   "outputs": [],
   "source": [
    "df1.to_csv('columns/last_newspaper.csv', index=False)"
   ]
  },
  {
   "cell_type": "markdown",
   "metadata": {},
   "source": [
    "## eurosport.fr"
   ]
  },
  {
   "cell_type": "code",
   "execution_count": 5,
   "metadata": {
    "scrolled": true
   },
   "outputs": [],
   "source": [
    "url = 'https://docs.google.com/spreadsheets/d/1RPiYmNxy8NWKp-uu_swOkRkTuq9cqJNnzJpl5BPliDM/export?format=csv&id=1RPiYmNxy8NWKp-uu_swOkRkTuq9cqJNnzJpl5BPliDM&gid=2001946666'\n",
    "r = get(url)\n",
    "data = r.content.decode('utf-8')\n",
    "df = pd.read_csv(StringIO(data))\n",
    "df = pd.DataFrame(df[['nome_chiave']])\n",
    "df['nome_url'] = [x.replace(\" \",\"+\").replace(\"-\",\"+\").lower() for x in df.nome_chiave]"
   ]
  },
  {
   "cell_type": "code",
   "execution_count": 6,
   "metadata": {},
   "outputs": [],
   "source": [
    "s1 = 'https://www.google.com/search?q='\n",
    "s2 = '+site:eurosport.fr&source=lnms&tbm=nws'\n",
    "lista_1 = [s1 + x + s2 for x in df.nome_url]\n",
    "df['eurosportFR'] = np.nan"
   ]
  },
  {
   "cell_type": "code",
   "execution_count": null,
   "metadata": {},
   "outputs": [],
   "source": [
    "for i in range(300):\n",
    "    if isinstance(df.eurosportFR[i], float):\n",
    "        url = lista_1[i]\n",
    "        result = BS(get(url).text, 'lxml').select('#resultStats')[0].text\n",
    "        df.loc[i, 'eurosportFR'] = result\n",
    "        if result == '':\n",
    "            df.loc[i, 'eurosportFR'] = np.nan\n",
    "        print((i, df.nome_chiave[i], result), end=' ')"
   ]
  },
  {
   "cell_type": "code",
   "execution_count": 11,
   "metadata": {},
   "outputs": [],
   "source": [
    "l = [''.join(re.findall('(\\d)',unidecode(x))) for x in df.eurosportFR]\n",
    "df['eurosportFR'] = l\n",
    "df.eurosportFR[df['eurosportFR'] == ''] = '1'\n",
    "df[['eurosportFR']].to_csv('columns/eurosportFR.csv', index=False)"
   ]
  }
 ],
 "metadata": {
  "kernelspec": {
   "display_name": "Python 3",
   "language": "python",
   "name": "python3"
  },
  "language_info": {
   "codemirror_mode": {
    "name": "ipython",
    "version": 3
   },
   "file_extension": ".py",
   "mimetype": "text/x-python",
   "name": "python",
   "nbconvert_exporter": "python",
   "pygments_lexer": "ipython3",
   "version": "3.6.5"
  }
 },
 "nbformat": 4,
 "nbformat_minor": 2
}
