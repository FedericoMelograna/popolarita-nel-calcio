{
 "cells": [
  {
   "cell_type": "markdown",
   "metadata": {},
   "source": [
    "# 01 - Dati e profili social"
   ]
  },
  {
   "cell_type": "code",
   "execution_count": 1,
   "metadata": {},
   "outputs": [],
   "source": [
    "from selenium import webdriver\n",
    "from selenium.webdriver.common.keys import Keys\n",
    "from selenium.webdriver.common.by import By\n",
    "from selenium.webdriver.support.ui import WebDriverWait\n",
    "from selenium.webdriver.support import expected_conditions as EC\n",
    "from selenium.webdriver.common.action_chains import ActionChains\n",
    "from time import sleep\n",
    "from io import StringIO\n",
    "import re\n",
    "import numpy as np\n",
    "import pandas as pd\n",
    "from requests import get\n",
    "from pandas import read_csv\n",
    "from unidecode import unidecode\n",
    "from bs4 import BeautifulSoup as BS"
   ]
  },
  {
   "cell_type": "markdown",
   "metadata": {},
   "source": [
    "Ho scaricato le 12 tabelle dei giocatori più preziosi da Transfermarkt.\n",
    "\n",
    "https://www.transfermarkt.it/spieler-statistik/wertvollstespieler/marktwertetop?land_id=0&ausrichtung=alle&spielerposition_id=alle&altersklasse=alle&jahrgang=0&plus=1\n",
    "\n",
    "Siccome non è possibile fare un ciclo sull'indirizzo (vengono mostrati 25 risultati per pagina, quindi in totale sono 12 tabelle) ho scaricato e salvato in un file HTML le 12 tabelle così da poter rendere replicabile la prima parte del notebook (infatti i seguaci Instagram, Facebook, etc sono in **continuo** - praticamente istantaneo - cambiamento)."
   ]
  },
  {
   "cell_type": "code",
   "execution_count": 2,
   "metadata": {},
   "outputs": [],
   "source": [
    "# leggo il file html e lo converto in stringa con la funzione .read()\n",
    "f = open('tables/top300_values_14122018.html', 'r', encoding=\"utf8\").read()\n",
    "\n",
    "# tratto la stringa html esattamente come un sito qualunque con BeautifulSoup\n",
    "html_tables = BS(f, 'lxml')"
   ]
  },
  {
   "cell_type": "code",
   "execution_count": 3,
   "metadata": {},
   "outputs": [],
   "source": [
    "# estraggo dalle tabelle il maggior numero di informazioni possibile\n",
    "\n",
    "id_player = [x['id'] for x in html_tables.find_all('a', attrs={'class': 'spielprofil_tooltip'})]\n",
    "nomi = [x.text for x in html_tables.find_all('a', attrs={'class': 'spielprofil_tooltip'})]\n",
    "eta = [x.find_all('td')[5].text for x in html_tables.find_all('tr', attrs={'class': 'odd'})]\n",
    "nazioni = [x.find_all('td')[6].find('img')['title'] for x in html_tables.find_all('tr', attrs={'class': 'odd'})]\n",
    "squadre = [x.find_all('td')[7].find('img')['alt'] for x in html_tables.find_all('tr', attrs={'class': 'odd'})]\n",
    "ruoli2 = [x.find_all('tr')[1].text for x in html_tables.find_all('table', attrs={'class': 'inline-table'})]\n",
    "valori = [int(x.find('b').text.split(',')[0])*1000000 for x in html_tables.find_all('td', attrs={'class': 'rechts'})]"
   ]
  },
  {
   "cell_type": "markdown",
   "metadata": {},
   "source": [
    "Voglio tenere sia il ruolo in generale, sia il ruolo nel dettaglio:"
   ]
  },
  {
   "cell_type": "code",
   "execution_count": 4,
   "metadata": {},
   "outputs": [
    {
     "data": {
      "text/plain": [
       "{'Attaccante', 'Centrocampista', 'Difensore', 'Portiere'}"
      ]
     },
     "execution_count": 4,
     "metadata": {},
     "output_type": "execute_result"
    }
   ],
   "source": [
    "attaccante = ['Ala destra', 'Ala sinistra', 'Punta', 'Seconda punta']\n",
    "centrocampista = ['Centrale', 'Centrocampista', 'Mediano', 'Trequartista']\n",
    "difensore = ['Difensore', 'Terzino']\n",
    "\n",
    "ruoli = ['Portiere']*len(ruoli2)\n",
    "\n",
    "k = 0\n",
    "for x in ruoli2:\n",
    "    for r in attaccante:\n",
    "        if r in x:\n",
    "            ruoli[k] = 'Attaccante'\n",
    "    for r in centrocampista:\n",
    "        if r in x:\n",
    "            ruoli[k] = 'Centrocampista'\n",
    "    for r in difensore:\n",
    "        if r in x:\n",
    "            ruoli[k] = 'Difensore'\n",
    "    k+=1\n",
    "set(ruoli)"
   ]
  },
  {
   "cell_type": "code",
   "execution_count": 5,
   "metadata": {},
   "outputs": [
    {
     "data": {
      "text/html": [
       "<div>\n",
       "<style scoped>\n",
       "    .dataframe tbody tr th:only-of-type {\n",
       "        vertical-align: middle;\n",
       "    }\n",
       "\n",
       "    .dataframe tbody tr th {\n",
       "        vertical-align: top;\n",
       "    }\n",
       "\n",
       "    .dataframe thead th {\n",
       "        text-align: right;\n",
       "    }\n",
       "</style>\n",
       "<table border=\"1\" class=\"dataframe\">\n",
       "  <thead>\n",
       "    <tr style=\"text-align: right;\">\n",
       "      <th></th>\n",
       "      <th>id</th>\n",
       "      <th>nome</th>\n",
       "      <th>eta</th>\n",
       "      <th>nazione</th>\n",
       "      <th>ruolo</th>\n",
       "      <th>ruolo_detail</th>\n",
       "      <th>squadra</th>\n",
       "      <th>valore</th>\n",
       "    </tr>\n",
       "  </thead>\n",
       "  <tbody>\n",
       "    <tr>\n",
       "      <th>0</th>\n",
       "      <td>342229</td>\n",
       "      <td>Kylian Mbappé</td>\n",
       "      <td>19</td>\n",
       "      <td>Francia</td>\n",
       "      <td>Attaccante</td>\n",
       "      <td>Ala destra</td>\n",
       "      <td>FC Paris Saint-Germain</td>\n",
       "      <td>180000000</td>\n",
       "    </tr>\n",
       "    <tr>\n",
       "      <th>1</th>\n",
       "      <td>68290</td>\n",
       "      <td>Neymar</td>\n",
       "      <td>26</td>\n",
       "      <td>Brasile</td>\n",
       "      <td>Attaccante</td>\n",
       "      <td>Ala sinistra</td>\n",
       "      <td>FC Paris Saint-Germain</td>\n",
       "      <td>180000000</td>\n",
       "    </tr>\n",
       "    <tr>\n",
       "      <th>2</th>\n",
       "      <td>28003</td>\n",
       "      <td>Lionel Messi</td>\n",
       "      <td>31</td>\n",
       "      <td>Argentina</td>\n",
       "      <td>Attaccante</td>\n",
       "      <td>Ala destra</td>\n",
       "      <td>FC Barcellona</td>\n",
       "      <td>180000000</td>\n",
       "    </tr>\n",
       "    <tr>\n",
       "      <th>3</th>\n",
       "      <td>148455</td>\n",
       "      <td>Mohamed Salah</td>\n",
       "      <td>26</td>\n",
       "      <td>Egitto</td>\n",
       "      <td>Attaccante</td>\n",
       "      <td>Ala destra</td>\n",
       "      <td>FC Liverpool</td>\n",
       "      <td>150000000</td>\n",
       "    </tr>\n",
       "    <tr>\n",
       "      <th>4</th>\n",
       "      <td>132098</td>\n",
       "      <td>Harry Kane</td>\n",
       "      <td>25</td>\n",
       "      <td>Inghilterra</td>\n",
       "      <td>Attaccante</td>\n",
       "      <td>Punta centrale</td>\n",
       "      <td>Tottenham Hotspur</td>\n",
       "      <td>150000000</td>\n",
       "    </tr>\n",
       "  </tbody>\n",
       "</table>\n",
       "</div>"
      ],
      "text/plain": [
       "       id           nome eta      nazione       ruolo    ruolo_detail  \\\n",
       "0  342229  Kylian Mbappé  19      Francia  Attaccante      Ala destra   \n",
       "1   68290         Neymar  26      Brasile  Attaccante    Ala sinistra   \n",
       "2   28003   Lionel Messi  31    Argentina  Attaccante      Ala destra   \n",
       "3  148455  Mohamed Salah  26       Egitto  Attaccante      Ala destra   \n",
       "4  132098     Harry Kane  25  Inghilterra  Attaccante  Punta centrale   \n",
       "\n",
       "                  squadra     valore  \n",
       "0  FC Paris Saint-Germain  180000000  \n",
       "1  FC Paris Saint-Germain  180000000  \n",
       "2           FC Barcellona  180000000  \n",
       "3            FC Liverpool  150000000  \n",
       "4       Tottenham Hotspur  150000000  "
      ]
     },
     "execution_count": 5,
     "metadata": {},
     "output_type": "execute_result"
    }
   ],
   "source": [
    "df_dict = {\n",
    "    'id':id_player,\n",
    "    'nome':nomi,\n",
    "    'eta':eta,\n",
    "    'nazione':nazioni,\n",
    "    'ruolo':ruoli,\n",
    "    'ruolo_detail':ruoli2,\n",
    "    'squadra':squadre,\n",
    "    'valore':valori,\n",
    "}\n",
    "\n",
    "df = pd.DataFrame(df_dict)\n",
    "df.head()"
   ]
  },
  {
   "cell_type": "markdown",
   "metadata": {},
   "source": [
    "## Social Data (followers, likes, etc.)"
   ]
  },
  {
   "cell_type": "markdown",
   "metadata": {},
   "source": [
    "Carico il dataframe con tutte le URLs dei tre social in questione"
   ]
  },
  {
   "cell_type": "code",
   "execution_count": 6,
   "metadata": {
    "scrolled": true
   },
   "outputs": [
    {
     "data": {
      "text/html": [
       "<div>\n",
       "<style scoped>\n",
       "    .dataframe tbody tr th:only-of-type {\n",
       "        vertical-align: middle;\n",
       "    }\n",
       "\n",
       "    .dataframe tbody tr th {\n",
       "        vertical-align: top;\n",
       "    }\n",
       "\n",
       "    .dataframe thead th {\n",
       "        text-align: right;\n",
       "    }\n",
       "</style>\n",
       "<table border=\"1\" class=\"dataframe\">\n",
       "  <thead>\n",
       "    <tr style=\"text-align: right;\">\n",
       "      <th></th>\n",
       "      <th>name</th>\n",
       "      <th>transfermarkt</th>\n",
       "      <th>instagram</th>\n",
       "      <th>facebook</th>\n",
       "      <th>twitter</th>\n",
       "    </tr>\n",
       "  </thead>\n",
       "  <tbody>\n",
       "    <tr>\n",
       "      <th>0</th>\n",
       "      <td>Kylian Mbappé</td>\n",
       "      <td>https://www.transfermarkt.it/kylian-mbappe/pro...</td>\n",
       "      <td>https://www.instagram.com/k.mbappe/</td>\n",
       "      <td>https://www.facebook.com/kylianmbappeofficiel/</td>\n",
       "      <td>https://twitter.com/KMbappe</td>\n",
       "    </tr>\n",
       "    <tr>\n",
       "      <th>1</th>\n",
       "      <td>Neymar</td>\n",
       "      <td>https://www.transfermarkt.it/neymar/profil/spi...</td>\n",
       "      <td>https://www.instagram.com/neymarjr</td>\n",
       "      <td>https://www.facebook.com/neymarjr</td>\n",
       "      <td>https://twitter.com/neymarjr</td>\n",
       "    </tr>\n",
       "    <tr>\n",
       "      <th>2</th>\n",
       "      <td>Lionel Messi</td>\n",
       "      <td>https://www.transfermarkt.it/lionel-messi/prof...</td>\n",
       "      <td>https://www.instagram.com/leomessi</td>\n",
       "      <td>https://www.facebook.com/LeoMessi</td>\n",
       "      <td>NaN</td>\n",
       "    </tr>\n",
       "    <tr>\n",
       "      <th>3</th>\n",
       "      <td>Mohamed Salah</td>\n",
       "      <td>https://www.transfermarkt.it/mohamed-salah/pro...</td>\n",
       "      <td>https://www.instagram.com/mosalah/</td>\n",
       "      <td>https://www.facebook.com/momosalah</td>\n",
       "      <td>https://twitter.com/MoSalah</td>\n",
       "    </tr>\n",
       "    <tr>\n",
       "      <th>4</th>\n",
       "      <td>Harry Kane</td>\n",
       "      <td>https://www.transfermarkt.it/harry-kane/profil...</td>\n",
       "      <td>https://www.instagram.com/harrykane/</td>\n",
       "      <td>https://www.facebook.com/harrykaneofficial</td>\n",
       "      <td>https://twitter.com/HKane</td>\n",
       "    </tr>\n",
       "  </tbody>\n",
       "</table>\n",
       "</div>"
      ],
      "text/plain": [
       "            name                                      transfermarkt  \\\n",
       "0  Kylian Mbappé  https://www.transfermarkt.it/kylian-mbappe/pro...   \n",
       "1         Neymar  https://www.transfermarkt.it/neymar/profil/spi...   \n",
       "2   Lionel Messi  https://www.transfermarkt.it/lionel-messi/prof...   \n",
       "3  Mohamed Salah  https://www.transfermarkt.it/mohamed-salah/pro...   \n",
       "4     Harry Kane  https://www.transfermarkt.it/harry-kane/profil...   \n",
       "\n",
       "                              instagram  \\\n",
       "0   https://www.instagram.com/k.mbappe/   \n",
       "1    https://www.instagram.com/neymarjr   \n",
       "2    https://www.instagram.com/leomessi   \n",
       "3    https://www.instagram.com/mosalah/   \n",
       "4  https://www.instagram.com/harrykane/   \n",
       "\n",
       "                                         facebook  \\\n",
       "0  https://www.facebook.com/kylianmbappeofficiel/   \n",
       "1               https://www.facebook.com/neymarjr   \n",
       "2               https://www.facebook.com/LeoMessi   \n",
       "3              https://www.facebook.com/momosalah   \n",
       "4      https://www.facebook.com/harrykaneofficial   \n",
       "\n",
       "                        twitter  \n",
       "0   https://twitter.com/KMbappe  \n",
       "1  https://twitter.com/neymarjr  \n",
       "2                           NaN  \n",
       "3   https://twitter.com/MoSalah  \n",
       "4     https://twitter.com/HKane  "
      ]
     },
     "execution_count": 6,
     "metadata": {},
     "output_type": "execute_result"
    }
   ],
   "source": [
    "table_url = pd.read_csv('tables/Top300_Urls - Sheet1.csv')\n",
    "table_url.head()"
   ]
  },
  {
   "cell_type": "markdown",
   "metadata": {},
   "source": [
    "### Funzione che esegue scraping sui profili social"
   ]
  },
  {
   "cell_type": "code",
   "execution_count": 7,
   "metadata": {},
   "outputs": [],
   "source": [
    "# getFollowers() prende in input una serie di link e il nome del social network\n",
    "# restituisce come output una lista di interi pari al numero di followers/likes\n",
    "\n",
    "def getFollowers(pdSeries,socialName,Output=False):\n",
    "    if Output:\n",
    "        print('1'+'-'*98+'100%'); \n",
    "    k = 1\n",
    "    \n",
    "    hs = {\"User-Agent\":\"Mozilla/5.0\"}\n",
    "    followers = []\n",
    "    errors = []\n",
    "    \n",
    "    # ciclo for all'interno della serie, u = url\n",
    "    \n",
    "    for i,u in pdSeries.iteritems():\n",
    "        \n",
    "        # se u=url non è nan (float):\n",
    "         \n",
    "        if not isinstance(u, float):\n",
    "            \n",
    "            # siccome temo che a volte requests non funzioni,\n",
    "            # gli dico di provare n volte a scaricare la pagina\n",
    "            # controllo che l'output sia un intero;\n",
    "            # finché resta stringa vuol dire che qualcosa è andato storto\n",
    "            \n",
    "            s = ''   # per il controllo che sia un intero\n",
    "            n = 1    # per fare massimo n prove\n",
    "            \n",
    "            \n",
    "            while(isinstance(s, str) & (n < 4)):                \n",
    "                try:\n",
    "                    page = requests.get(u).text\n",
    "                    \n",
    "                    # scraping da INSTAGRAM\n",
    "                    if socialName == 'Instagram':\n",
    "                        s = int(re.findall(r'\"edge_followed_by\":{\"count\":+(\\d*)', page)[0])\n",
    "                        \n",
    "                    # scraping da FACEBOOK\n",
    "                    elif socialName == 'Facebook':\n",
    "                        #s = int(re.findall(r'<div>Piace\\sa\\s+([\\d|.]*)', page)[0].replace('.', ''))\n",
    "                        s = int(re.findall(r'(\\d*)\\s+personnes+\\s+aiment+\\s+ça',re.sub('\\xa0','',page))[0])\n",
    "                    # scraping da TWITTER\n",
    "                    elif socialName == 'Twitter':\n",
    "                        a = BS(page,'lxml').find('a',attrs={'class':'ProfileNav-stat','data-nav':'followers'})['title']\n",
    "                        s = int(a.split(' ')[0].replace('.',''))\n",
    "                except: \n",
    "                    s = ''\n",
    "                    n += 1\n",
    "            \n",
    "            # se anche dopo 3 volte non è riuscito ad estrarre il numero di followers\n",
    "            # salvo dentro errori l'url problematica\n",
    "            # e appendo a followers un errore\n",
    "            \n",
    "            \n",
    "            if (isinstance(s, str)):\n",
    "                errors.append(u)\n",
    "                followers.append('errore')\n",
    "                \n",
    "            if len(errors) > 30:\n",
    "                break\n",
    "            \n",
    "            # altrimenti è tutto ok e appendo il numero di followers\n",
    "            \n",
    "            else:\n",
    "                followers.append(s)\n",
    "        \n",
    "        # l'url può essere np.nan (cioè float). in tal caso appendi np.nan\n",
    "        \n",
    "        else:\n",
    "            followers.append(np.nan)\n",
    "              \n",
    "        if (k%3==0):\n",
    "            if Output:\n",
    "                print('=', end='')\n",
    "        k += 1\n",
    "    \n",
    "    # prima printo gli errori e poi\n",
    "    # ritorno la lista di followers\n",
    "    print('\\n');  \n",
    "    \n",
    "    if Output:\n",
    "        print(errors)\n",
    "    \n",
    "    return(followers)"
   ]
  },
  {
   "cell_type": "markdown",
   "metadata": {},
   "source": [
    "### *Instagram*"
   ]
  },
  {
   "cell_type": "markdown",
   "metadata": {},
   "source": [
    "Spiegazione di cosa fa la formula quando `socialName='Instagram'`.\n",
    "\n",
    "Per estrarre il numero esatto di seguaci, utilizzo una **regular expression** (pacchetto `re`):\n",
    "\n",
    "`re.findall(r'\"edge_followed_by\":{\"count\":+(\\d*)', page)[0]`\n",
    "\n",
    "In sostanza noto che nel codice HTML di ogni profilo (contenuto in `page`) il numero di seguaci è preceduto dalla stringa: `\"edge_followed_by\":{\"count\":`\n",
    "\n",
    "Quindi chiedo di estrarre - indicando tra parentesi tonde `( )` - tutti i numeri in sequenza - indicato dal `\\d*` - specificando appunto la stringa che precede.\n",
    "\n",
    "`findall` restituisce una lista, quindi prendo l'elemento `[0]`.\n",
    "\n",
    "Questa è una via alternativa - **molto** rapida ed efficace - all'uso di BeautifulSoup."
   ]
  },
  {
   "cell_type": "code",
   "execution_count": 8,
   "metadata": {
    "scrolled": true
   },
   "outputs": [
    {
     "name": "stdout",
     "output_type": "stream",
     "text": [
      "1--------------------------------------------------------------------------------------------------100%\n",
      "====================================================================================================\n",
      "\n",
      "[]\n"
     ]
    }
   ],
   "source": [
    "df['instagram_followers'] =  getFollowers(table_url.instagram, 'Instagram', Output=True)"
   ]
  },
  {
   "cell_type": "code",
   "execution_count": 10,
   "metadata": {},
   "outputs": [
    {
     "data": {
      "text/html": [
       "<div>\n",
       "<style scoped>\n",
       "    .dataframe tbody tr th:only-of-type {\n",
       "        vertical-align: middle;\n",
       "    }\n",
       "\n",
       "    .dataframe tbody tr th {\n",
       "        vertical-align: top;\n",
       "    }\n",
       "\n",
       "    .dataframe thead th {\n",
       "        text-align: right;\n",
       "    }\n",
       "</style>\n",
       "<table border=\"1\" class=\"dataframe\">\n",
       "  <thead>\n",
       "    <tr style=\"text-align: right;\">\n",
       "      <th></th>\n",
       "      <th>id</th>\n",
       "      <th>nome</th>\n",
       "      <th>eta</th>\n",
       "      <th>nazione</th>\n",
       "      <th>ruolo</th>\n",
       "      <th>ruolo_detail</th>\n",
       "      <th>squadra</th>\n",
       "      <th>valore</th>\n",
       "      <th>instagram_followers</th>\n",
       "    </tr>\n",
       "  </thead>\n",
       "  <tbody>\n",
       "    <tr>\n",
       "      <th>0</th>\n",
       "      <td>342229</td>\n",
       "      <td>Kylian Mbappé</td>\n",
       "      <td>19</td>\n",
       "      <td>Francia</td>\n",
       "      <td>Attaccante</td>\n",
       "      <td>Ala destra</td>\n",
       "      <td>FC Paris Saint-Germain</td>\n",
       "      <td>180000000</td>\n",
       "      <td>24019703.0</td>\n",
       "    </tr>\n",
       "    <tr>\n",
       "      <th>1</th>\n",
       "      <td>68290</td>\n",
       "      <td>Neymar</td>\n",
       "      <td>26</td>\n",
       "      <td>Brasile</td>\n",
       "      <td>Attaccante</td>\n",
       "      <td>Ala sinistra</td>\n",
       "      <td>FC Paris Saint-Germain</td>\n",
       "      <td>180000000</td>\n",
       "      <td>107716768.0</td>\n",
       "    </tr>\n",
       "    <tr>\n",
       "      <th>2</th>\n",
       "      <td>28003</td>\n",
       "      <td>Lionel Messi</td>\n",
       "      <td>31</td>\n",
       "      <td>Argentina</td>\n",
       "      <td>Attaccante</td>\n",
       "      <td>Ala destra</td>\n",
       "      <td>FC Barcellona</td>\n",
       "      <td>180000000</td>\n",
       "      <td>103764191.0</td>\n",
       "    </tr>\n",
       "    <tr>\n",
       "      <th>3</th>\n",
       "      <td>148455</td>\n",
       "      <td>Mohamed Salah</td>\n",
       "      <td>26</td>\n",
       "      <td>Egitto</td>\n",
       "      <td>Attaccante</td>\n",
       "      <td>Ala destra</td>\n",
       "      <td>FC Liverpool</td>\n",
       "      <td>150000000</td>\n",
       "      <td>21661975.0</td>\n",
       "    </tr>\n",
       "    <tr>\n",
       "      <th>4</th>\n",
       "      <td>132098</td>\n",
       "      <td>Harry Kane</td>\n",
       "      <td>25</td>\n",
       "      <td>Inghilterra</td>\n",
       "      <td>Attaccante</td>\n",
       "      <td>Punta centrale</td>\n",
       "      <td>Tottenham Hotspur</td>\n",
       "      <td>150000000</td>\n",
       "      <td>7389999.0</td>\n",
       "    </tr>\n",
       "  </tbody>\n",
       "</table>\n",
       "</div>"
      ],
      "text/plain": [
       "       id           nome eta      nazione       ruolo    ruolo_detail  \\\n",
       "0  342229  Kylian Mbappé  19      Francia  Attaccante      Ala destra   \n",
       "1   68290         Neymar  26      Brasile  Attaccante    Ala sinistra   \n",
       "2   28003   Lionel Messi  31    Argentina  Attaccante      Ala destra   \n",
       "3  148455  Mohamed Salah  26       Egitto  Attaccante      Ala destra   \n",
       "4  132098     Harry Kane  25  Inghilterra  Attaccante  Punta centrale   \n",
       "\n",
       "                  squadra     valore  instagram_followers  \n",
       "0  FC Paris Saint-Germain  180000000           24019703.0  \n",
       "1  FC Paris Saint-Germain  180000000          107716768.0  \n",
       "2           FC Barcellona  180000000          103764191.0  \n",
       "3            FC Liverpool  150000000           21661975.0  \n",
       "4       Tottenham Hotspur  150000000            7389999.0  "
      ]
     },
     "execution_count": 10,
     "metadata": {},
     "output_type": "execute_result"
    }
   ],
   "source": [
    "df.head()"
   ]
  },
  {
   "cell_type": "code",
   "execution_count": 11,
   "metadata": {
    "scrolled": true
   },
   "outputs": [
    {
     "data": {
      "text/html": [
       "<div>\n",
       "<style scoped>\n",
       "    .dataframe tbody tr th:only-of-type {\n",
       "        vertical-align: middle;\n",
       "    }\n",
       "\n",
       "    .dataframe tbody tr th {\n",
       "        vertical-align: top;\n",
       "    }\n",
       "\n",
       "    .dataframe thead th {\n",
       "        text-align: right;\n",
       "    }\n",
       "</style>\n",
       "<table border=\"1\" class=\"dataframe\">\n",
       "  <thead>\n",
       "    <tr style=\"text-align: right;\">\n",
       "      <th></th>\n",
       "      <th>id</th>\n",
       "      <th>nome</th>\n",
       "      <th>eta</th>\n",
       "      <th>nazione</th>\n",
       "      <th>ruolo</th>\n",
       "      <th>ruolo_detail</th>\n",
       "      <th>squadra</th>\n",
       "      <th>valore</th>\n",
       "      <th>instagram_followers</th>\n",
       "    </tr>\n",
       "  </thead>\n",
       "  <tbody>\n",
       "    <tr>\n",
       "      <th>31</th>\n",
       "      <td>65230</td>\n",
       "      <td>Sergio Busquets</td>\n",
       "      <td>30</td>\n",
       "      <td>Spagna</td>\n",
       "      <td>Centrocampista</td>\n",
       "      <td>Mediano</td>\n",
       "      <td>FC Barcellona</td>\n",
       "      <td>80000000</td>\n",
       "      <td>NaN</td>\n",
       "    </tr>\n",
       "    <tr>\n",
       "      <th>116</th>\n",
       "      <td>357565</td>\n",
       "      <td>Rodri</td>\n",
       "      <td>22</td>\n",
       "      <td>Spagna</td>\n",
       "      <td>Centrocampista</td>\n",
       "      <td>Mediano</td>\n",
       "      <td>Atlético de Madrid</td>\n",
       "      <td>40000000</td>\n",
       "      <td>NaN</td>\n",
       "    </tr>\n",
       "    <tr>\n",
       "      <th>220</th>\n",
       "      <td>50174</td>\n",
       "      <td>Danny Rose</td>\n",
       "      <td>28</td>\n",
       "      <td>Inghilterra</td>\n",
       "      <td>Difensore</td>\n",
       "      <td>Terzino sinistro</td>\n",
       "      <td>Tottenham Hotspur</td>\n",
       "      <td>30000000</td>\n",
       "      <td>NaN</td>\n",
       "    </tr>\n",
       "    <tr>\n",
       "      <th>260</th>\n",
       "      <td>229005</td>\n",
       "      <td>Abdou Diallo</td>\n",
       "      <td>22</td>\n",
       "      <td>Francia</td>\n",
       "      <td>Difensore</td>\n",
       "      <td>Difensore centrale</td>\n",
       "      <td>Borussia Dortmund</td>\n",
       "      <td>25000000</td>\n",
       "      <td>NaN</td>\n",
       "    </tr>\n",
       "  </tbody>\n",
       "</table>\n",
       "</div>"
      ],
      "text/plain": [
       "         id             nome eta      nazione           ruolo  \\\n",
       "31    65230  Sergio Busquets  30       Spagna  Centrocampista   \n",
       "116  357565            Rodri  22       Spagna  Centrocampista   \n",
       "220   50174       Danny Rose  28  Inghilterra       Difensore   \n",
       "260  229005     Abdou Diallo  22      Francia       Difensore   \n",
       "\n",
       "           ruolo_detail             squadra    valore  instagram_followers  \n",
       "31              Mediano       FC Barcellona  80000000                  NaN  \n",
       "116             Mediano  Atlético de Madrid  40000000                  NaN  \n",
       "220    Terzino sinistro   Tottenham Hotspur  30000000                  NaN  \n",
       "260  Difensore centrale   Borussia Dortmund  25000000                  NaN  "
      ]
     },
     "execution_count": 11,
     "metadata": {},
     "output_type": "execute_result"
    }
   ],
   "source": [
    "df[df.instagram_followers.isnull()]"
   ]
  },
  {
   "cell_type": "markdown",
   "metadata": {},
   "source": [
    "In totale ci sono 4 NaN: il numero è corretto."
   ]
  },
  {
   "cell_type": "markdown",
   "metadata": {},
   "source": [
    "### *Facebook*"
   ]
  },
  {
   "cell_type": "markdown",
   "metadata": {},
   "source": [
    "Utilizzo la stessa tecnica che è stata usata per Instagram: una regular expression.\n",
    "\n",
    "`re.findall(r'<div>Piace\\sa\\s+([\\d|.]*)', page)[0]`\n",
    "\n",
    "In questo caso il numero di likes è sempre preceduto da un `<div>` e da \"Piace a \". \n",
    "\n",
    "Sfrutto questa particolarità per estrarre i valori, che vengono poi trasformati in intero dopo aver rimosso i punti dalle stringhe."
   ]
  },
  {
   "cell_type": "code",
   "execution_count": 13,
   "metadata": {},
   "outputs": [
    {
     "name": "stdout",
     "output_type": "stream",
     "text": [
      "1--------------------------------------------------------------------------------------------------100%\n",
      "====================================================================================================\n",
      "\n",
      "[]\n"
     ]
    }
   ],
   "source": [
    "df['facebook_followers'] =  getFollowers(table_url.facebook, 'Facebook', Output=True)"
   ]
  },
  {
   "cell_type": "code",
   "execution_count": 14,
   "metadata": {},
   "outputs": [
    {
     "data": {
      "text/html": [
       "<div>\n",
       "<style scoped>\n",
       "    .dataframe tbody tr th:only-of-type {\n",
       "        vertical-align: middle;\n",
       "    }\n",
       "\n",
       "    .dataframe tbody tr th {\n",
       "        vertical-align: top;\n",
       "    }\n",
       "\n",
       "    .dataframe thead th {\n",
       "        text-align: right;\n",
       "    }\n",
       "</style>\n",
       "<table border=\"1\" class=\"dataframe\">\n",
       "  <thead>\n",
       "    <tr style=\"text-align: right;\">\n",
       "      <th></th>\n",
       "      <th>id</th>\n",
       "      <th>nome</th>\n",
       "      <th>eta</th>\n",
       "      <th>nazione</th>\n",
       "      <th>ruolo</th>\n",
       "      <th>ruolo_detail</th>\n",
       "      <th>squadra</th>\n",
       "      <th>valore</th>\n",
       "      <th>instagram_followers</th>\n",
       "      <th>facebook_followers</th>\n",
       "    </tr>\n",
       "  </thead>\n",
       "  <tbody>\n",
       "    <tr>\n",
       "      <th>0</th>\n",
       "      <td>342229</td>\n",
       "      <td>Kylian Mbappé</td>\n",
       "      <td>19</td>\n",
       "      <td>Francia</td>\n",
       "      <td>Attaccante</td>\n",
       "      <td>Ala destra</td>\n",
       "      <td>FC Paris Saint-Germain</td>\n",
       "      <td>180000000</td>\n",
       "      <td>24019703.0</td>\n",
       "      <td>1639467.0</td>\n",
       "    </tr>\n",
       "    <tr>\n",
       "      <th>1</th>\n",
       "      <td>68290</td>\n",
       "      <td>Neymar</td>\n",
       "      <td>26</td>\n",
       "      <td>Brasile</td>\n",
       "      <td>Attaccante</td>\n",
       "      <td>Ala sinistra</td>\n",
       "      <td>FC Paris Saint-Germain</td>\n",
       "      <td>180000000</td>\n",
       "      <td>107716768.0</td>\n",
       "      <td>60699722.0</td>\n",
       "    </tr>\n",
       "    <tr>\n",
       "      <th>2</th>\n",
       "      <td>28003</td>\n",
       "      <td>Lionel Messi</td>\n",
       "      <td>31</td>\n",
       "      <td>Argentina</td>\n",
       "      <td>Attaccante</td>\n",
       "      <td>Ala destra</td>\n",
       "      <td>FC Barcellona</td>\n",
       "      <td>180000000</td>\n",
       "      <td>103764191.0</td>\n",
       "      <td>89898268.0</td>\n",
       "    </tr>\n",
       "    <tr>\n",
       "      <th>3</th>\n",
       "      <td>148455</td>\n",
       "      <td>Mohamed Salah</td>\n",
       "      <td>26</td>\n",
       "      <td>Egitto</td>\n",
       "      <td>Attaccante</td>\n",
       "      <td>Ala destra</td>\n",
       "      <td>FC Liverpool</td>\n",
       "      <td>150000000</td>\n",
       "      <td>21661975.0</td>\n",
       "      <td>11016135.0</td>\n",
       "    </tr>\n",
       "    <tr>\n",
       "      <th>4</th>\n",
       "      <td>132098</td>\n",
       "      <td>Harry Kane</td>\n",
       "      <td>25</td>\n",
       "      <td>Inghilterra</td>\n",
       "      <td>Attaccante</td>\n",
       "      <td>Punta centrale</td>\n",
       "      <td>Tottenham Hotspur</td>\n",
       "      <td>150000000</td>\n",
       "      <td>7389999.0</td>\n",
       "      <td>1660408.0</td>\n",
       "    </tr>\n",
       "  </tbody>\n",
       "</table>\n",
       "</div>"
      ],
      "text/plain": [
       "       id           nome eta      nazione       ruolo    ruolo_detail  \\\n",
       "0  342229  Kylian Mbappé  19      Francia  Attaccante      Ala destra   \n",
       "1   68290         Neymar  26      Brasile  Attaccante    Ala sinistra   \n",
       "2   28003   Lionel Messi  31    Argentina  Attaccante      Ala destra   \n",
       "3  148455  Mohamed Salah  26       Egitto  Attaccante      Ala destra   \n",
       "4  132098     Harry Kane  25  Inghilterra  Attaccante  Punta centrale   \n",
       "\n",
       "                  squadra     valore  instagram_followers  facebook_followers  \n",
       "0  FC Paris Saint-Germain  180000000           24019703.0           1639467.0  \n",
       "1  FC Paris Saint-Germain  180000000          107716768.0          60699722.0  \n",
       "2           FC Barcellona  180000000          103764191.0          89898268.0  \n",
       "3            FC Liverpool  150000000           21661975.0          11016135.0  \n",
       "4       Tottenham Hotspur  150000000            7389999.0           1660408.0  "
      ]
     },
     "execution_count": 14,
     "metadata": {},
     "output_type": "execute_result"
    }
   ],
   "source": [
    "df.head()"
   ]
  },
  {
   "cell_type": "markdown",
   "metadata": {},
   "source": [
    "### *Twitter*"
   ]
  },
  {
   "cell_type": "markdown",
   "metadata": {},
   "source": [
    "In questo caso, per estrarre i followers, ho utilizzato BeautifulSoup, in quanto risulta il modo più agevole (seppur più lento)."
   ]
  },
  {
   "cell_type": "code",
   "execution_count": 17,
   "metadata": {},
   "outputs": [
    {
     "name": "stdout",
     "output_type": "stream",
     "text": [
      "1--------------------------------------------------------------------------------------------------100%\n",
      "====================================================================================================\n",
      "\n",
      "[]\n"
     ]
    }
   ],
   "source": [
    "df['twitter_followers'] =  getFollowers(table_url.twitter, 'Twitter', Output=True)"
   ]
  },
  {
   "cell_type": "code",
   "execution_count": 18,
   "metadata": {},
   "outputs": [
    {
     "data": {
      "text/html": [
       "<div>\n",
       "<style scoped>\n",
       "    .dataframe tbody tr th:only-of-type {\n",
       "        vertical-align: middle;\n",
       "    }\n",
       "\n",
       "    .dataframe tbody tr th {\n",
       "        vertical-align: top;\n",
       "    }\n",
       "\n",
       "    .dataframe thead th {\n",
       "        text-align: right;\n",
       "    }\n",
       "</style>\n",
       "<table border=\"1\" class=\"dataframe\">\n",
       "  <thead>\n",
       "    <tr style=\"text-align: right;\">\n",
       "      <th></th>\n",
       "      <th>id</th>\n",
       "      <th>nome</th>\n",
       "      <th>eta</th>\n",
       "      <th>nazione</th>\n",
       "      <th>ruolo</th>\n",
       "      <th>ruolo_detail</th>\n",
       "      <th>squadra</th>\n",
       "      <th>valore</th>\n",
       "      <th>instagram_followers</th>\n",
       "      <th>facebook_followers</th>\n",
       "      <th>twitter_followers</th>\n",
       "    </tr>\n",
       "  </thead>\n",
       "  <tbody>\n",
       "    <tr>\n",
       "      <th>0</th>\n",
       "      <td>342229</td>\n",
       "      <td>Kylian Mbappé</td>\n",
       "      <td>19</td>\n",
       "      <td>Francia</td>\n",
       "      <td>Attaccante</td>\n",
       "      <td>Ala destra</td>\n",
       "      <td>FC Paris Saint-Germain</td>\n",
       "      <td>180000000</td>\n",
       "      <td>24019703.0</td>\n",
       "      <td>1639467.0</td>\n",
       "      <td>2252200.0</td>\n",
       "    </tr>\n",
       "    <tr>\n",
       "      <th>1</th>\n",
       "      <td>68290</td>\n",
       "      <td>Neymar</td>\n",
       "      <td>26</td>\n",
       "      <td>Brasile</td>\n",
       "      <td>Attaccante</td>\n",
       "      <td>Ala sinistra</td>\n",
       "      <td>FC Paris Saint-Germain</td>\n",
       "      <td>180000000</td>\n",
       "      <td>107716768.0</td>\n",
       "      <td>60699722.0</td>\n",
       "      <td>41636656.0</td>\n",
       "    </tr>\n",
       "    <tr>\n",
       "      <th>2</th>\n",
       "      <td>28003</td>\n",
       "      <td>Lionel Messi</td>\n",
       "      <td>31</td>\n",
       "      <td>Argentina</td>\n",
       "      <td>Attaccante</td>\n",
       "      <td>Ala destra</td>\n",
       "      <td>FC Barcellona</td>\n",
       "      <td>180000000</td>\n",
       "      <td>103764191.0</td>\n",
       "      <td>89898268.0</td>\n",
       "      <td>NaN</td>\n",
       "    </tr>\n",
       "    <tr>\n",
       "      <th>3</th>\n",
       "      <td>148455</td>\n",
       "      <td>Mohamed Salah</td>\n",
       "      <td>26</td>\n",
       "      <td>Egitto</td>\n",
       "      <td>Attaccante</td>\n",
       "      <td>Ala destra</td>\n",
       "      <td>FC Liverpool</td>\n",
       "      <td>150000000</td>\n",
       "      <td>21661975.0</td>\n",
       "      <td>11016135.0</td>\n",
       "      <td>7457524.0</td>\n",
       "    </tr>\n",
       "    <tr>\n",
       "      <th>4</th>\n",
       "      <td>132098</td>\n",
       "      <td>Harry Kane</td>\n",
       "      <td>25</td>\n",
       "      <td>Inghilterra</td>\n",
       "      <td>Attaccante</td>\n",
       "      <td>Punta centrale</td>\n",
       "      <td>Tottenham Hotspur</td>\n",
       "      <td>150000000</td>\n",
       "      <td>7389999.0</td>\n",
       "      <td>1660408.0</td>\n",
       "      <td>2453183.0</td>\n",
       "    </tr>\n",
       "  </tbody>\n",
       "</table>\n",
       "</div>"
      ],
      "text/plain": [
       "       id           nome eta      nazione       ruolo    ruolo_detail  \\\n",
       "0  342229  Kylian Mbappé  19      Francia  Attaccante      Ala destra   \n",
       "1   68290         Neymar  26      Brasile  Attaccante    Ala sinistra   \n",
       "2   28003   Lionel Messi  31    Argentina  Attaccante      Ala destra   \n",
       "3  148455  Mohamed Salah  26       Egitto  Attaccante      Ala destra   \n",
       "4  132098     Harry Kane  25  Inghilterra  Attaccante  Punta centrale   \n",
       "\n",
       "                  squadra     valore  instagram_followers  facebook_followers  \\\n",
       "0  FC Paris Saint-Germain  180000000           24019703.0           1639467.0   \n",
       "1  FC Paris Saint-Germain  180000000          107716768.0          60699722.0   \n",
       "2           FC Barcellona  180000000          103764191.0          89898268.0   \n",
       "3            FC Liverpool  150000000           21661975.0          11016135.0   \n",
       "4       Tottenham Hotspur  150000000            7389999.0           1660408.0   \n",
       "\n",
       "   twitter_followers  \n",
       "0          2252200.0  \n",
       "1         41636656.0  \n",
       "2                NaN  \n",
       "3          7457524.0  \n",
       "4          2453183.0  "
      ]
     },
     "execution_count": 18,
     "metadata": {},
     "output_type": "execute_result"
    }
   ],
   "source": [
    "df.head()"
   ]
  },
  {
   "cell_type": "code",
   "execution_count": 19,
   "metadata": {},
   "outputs": [],
   "source": [
    "df.to_csv('columns/df1.csv', index=False, encoding='ansi')"
   ]
  },
  {
   "cell_type": "markdown",
   "metadata": {},
   "source": [
    "# 02 - Nazione delle squadre"
   ]
  },
  {
   "cell_type": "code",
   "execution_count": 4,
   "metadata": {},
   "outputs": [
    {
     "data": {
      "text/html": [
       "<div>\n",
       "<style scoped>\n",
       "    .dataframe tbody tr th:only-of-type {\n",
       "        vertical-align: middle;\n",
       "    }\n",
       "\n",
       "    .dataframe tbody tr th {\n",
       "        vertical-align: top;\n",
       "    }\n",
       "\n",
       "    .dataframe thead th {\n",
       "        text-align: right;\n",
       "    }\n",
       "</style>\n",
       "<table border=\"1\" class=\"dataframe\">\n",
       "  <thead>\n",
       "    <tr style=\"text-align: right;\">\n",
       "      <th></th>\n",
       "      <th>nome</th>\n",
       "      <th>squadra</th>\n",
       "    </tr>\n",
       "  </thead>\n",
       "  <tbody>\n",
       "    <tr>\n",
       "      <th>0</th>\n",
       "      <td>Kylian Mbappé</td>\n",
       "      <td>FC Paris Saint-Germain</td>\n",
       "    </tr>\n",
       "    <tr>\n",
       "      <th>1</th>\n",
       "      <td>Neymar</td>\n",
       "      <td>FC Paris Saint-Germain</td>\n",
       "    </tr>\n",
       "    <tr>\n",
       "      <th>2</th>\n",
       "      <td>Lionel Messi</td>\n",
       "      <td>FC Barcellona</td>\n",
       "    </tr>\n",
       "    <tr>\n",
       "      <th>3</th>\n",
       "      <td>Mohamed Salah</td>\n",
       "      <td>FC Liverpool</td>\n",
       "    </tr>\n",
       "    <tr>\n",
       "      <th>4</th>\n",
       "      <td>Harry Kane</td>\n",
       "      <td>Tottenham Hotspur</td>\n",
       "    </tr>\n",
       "  </tbody>\n",
       "</table>\n",
       "</div>"
      ],
      "text/plain": [
       "            nome                 squadra\n",
       "0  Kylian Mbappé  FC Paris Saint-Germain\n",
       "1         Neymar  FC Paris Saint-Germain\n",
       "2   Lionel Messi           FC Barcellona\n",
       "3  Mohamed Salah            FC Liverpool\n",
       "4     Harry Kane       Tottenham Hotspur"
      ]
     },
     "execution_count": 4,
     "metadata": {},
     "output_type": "execute_result"
    }
   ],
   "source": [
    "df1 = read_csv('tables/nome_squadra.csv')\n",
    "df1.head()"
   ]
  },
  {
   "cell_type": "code",
   "execution_count": 6,
   "metadata": {},
   "outputs": [
    {
     "data": {
      "text/html": [
       "<div>\n",
       "<style scoped>\n",
       "    .dataframe tbody tr th:only-of-type {\n",
       "        vertical-align: middle;\n",
       "    }\n",
       "\n",
       "    .dataframe tbody tr th {\n",
       "        vertical-align: top;\n",
       "    }\n",
       "\n",
       "    .dataframe thead th {\n",
       "        text-align: right;\n",
       "    }\n",
       "</style>\n",
       "<table border=\"1\" class=\"dataframe\">\n",
       "  <thead>\n",
       "    <tr style=\"text-align: right;\">\n",
       "      <th></th>\n",
       "      <th>Squadra</th>\n",
       "      <th>Nazione</th>\n",
       "    </tr>\n",
       "  </thead>\n",
       "  <tbody>\n",
       "    <tr>\n",
       "      <th>0</th>\n",
       "      <td>FC Barcellona</td>\n",
       "      <td>Spagna</td>\n",
       "    </tr>\n",
       "    <tr>\n",
       "      <th>1</th>\n",
       "      <td>Real Madrid CF</td>\n",
       "      <td>Spagna</td>\n",
       "    </tr>\n",
       "    <tr>\n",
       "      <th>2</th>\n",
       "      <td>Atlético de Madrid</td>\n",
       "      <td>Spagna</td>\n",
       "    </tr>\n",
       "    <tr>\n",
       "      <th>3</th>\n",
       "      <td>Valencia CF</td>\n",
       "      <td>Spagna</td>\n",
       "    </tr>\n",
       "    <tr>\n",
       "      <th>4</th>\n",
       "      <td>FC Siviglia</td>\n",
       "      <td>Spagna</td>\n",
       "    </tr>\n",
       "  </tbody>\n",
       "</table>\n",
       "</div>"
      ],
      "text/plain": [
       "              Squadra Nazione\n",
       "0       FC Barcellona  Spagna\n",
       "1      Real Madrid CF  Spagna\n",
       "2  Atlético de Madrid  Spagna\n",
       "3         Valencia CF  Spagna\n",
       "4         FC Siviglia  Spagna"
      ]
     },
     "execution_count": 6,
     "metadata": {},
     "output_type": "execute_result"
    }
   ],
   "source": [
    "df2 = read_csv('tables/squadra_nazione.csv', encoding='ansi')\n",
    "df2.head()"
   ]
  },
  {
   "cell_type": "code",
   "execution_count": 9,
   "metadata": {},
   "outputs": [
    {
     "data": {
      "text/html": [
       "<div>\n",
       "<style scoped>\n",
       "    .dataframe tbody tr th:only-of-type {\n",
       "        vertical-align: middle;\n",
       "    }\n",
       "\n",
       "    .dataframe tbody tr th {\n",
       "        vertical-align: top;\n",
       "    }\n",
       "\n",
       "    .dataframe thead th {\n",
       "        text-align: right;\n",
       "    }\n",
       "</style>\n",
       "<table border=\"1\" class=\"dataframe\">\n",
       "  <thead>\n",
       "    <tr style=\"text-align: right;\">\n",
       "      <th></th>\n",
       "      <th>Nazione</th>\n",
       "    </tr>\n",
       "    <tr>\n",
       "      <th>Squadra</th>\n",
       "      <th></th>\n",
       "    </tr>\n",
       "  </thead>\n",
       "  <tbody>\n",
       "    <tr>\n",
       "      <th>FC Barcellona</th>\n",
       "      <td>Spagna</td>\n",
       "    </tr>\n",
       "    <tr>\n",
       "      <th>Real Madrid CF</th>\n",
       "      <td>Spagna</td>\n",
       "    </tr>\n",
       "    <tr>\n",
       "      <th>Atlético de Madrid</th>\n",
       "      <td>Spagna</td>\n",
       "    </tr>\n",
       "    <tr>\n",
       "      <th>Valencia CF</th>\n",
       "      <td>Spagna</td>\n",
       "    </tr>\n",
       "    <tr>\n",
       "      <th>FC Siviglia</th>\n",
       "      <td>Spagna</td>\n",
       "    </tr>\n",
       "  </tbody>\n",
       "</table>\n",
       "</div>"
      ],
      "text/plain": [
       "                   Nazione\n",
       "Squadra                   \n",
       "FC Barcellona       Spagna\n",
       "Real Madrid CF      Spagna\n",
       "Atlético de Madrid  Spagna\n",
       "Valencia CF         Spagna\n",
       "FC Siviglia         Spagna"
      ]
     },
     "execution_count": 9,
     "metadata": {},
     "output_type": "execute_result"
    }
   ],
   "source": [
    "df2.index = df2.Squadra\n",
    "df2.drop('Squadra',axis=1,inplace=True)\n",
    "df2.head()"
   ]
  },
  {
   "cell_type": "code",
   "execution_count": 10,
   "metadata": {},
   "outputs": [
    {
     "data": {
      "text/html": [
       "<div>\n",
       "<style scoped>\n",
       "    .dataframe tbody tr th:only-of-type {\n",
       "        vertical-align: middle;\n",
       "    }\n",
       "\n",
       "    .dataframe tbody tr th {\n",
       "        vertical-align: top;\n",
       "    }\n",
       "\n",
       "    .dataframe thead th {\n",
       "        text-align: right;\n",
       "    }\n",
       "</style>\n",
       "<table border=\"1\" class=\"dataframe\">\n",
       "  <thead>\n",
       "    <tr style=\"text-align: right;\">\n",
       "      <th></th>\n",
       "      <th>nome</th>\n",
       "      <th>squadra</th>\n",
       "      <th>Nazione</th>\n",
       "    </tr>\n",
       "  </thead>\n",
       "  <tbody>\n",
       "    <tr>\n",
       "      <th>0</th>\n",
       "      <td>Kylian Mbappé</td>\n",
       "      <td>FC Paris Saint-Germain</td>\n",
       "      <td>Francia</td>\n",
       "    </tr>\n",
       "    <tr>\n",
       "      <th>1</th>\n",
       "      <td>Neymar</td>\n",
       "      <td>FC Paris Saint-Germain</td>\n",
       "      <td>Francia</td>\n",
       "    </tr>\n",
       "    <tr>\n",
       "      <th>2</th>\n",
       "      <td>Lionel Messi</td>\n",
       "      <td>FC Barcellona</td>\n",
       "      <td>Spagna</td>\n",
       "    </tr>\n",
       "    <tr>\n",
       "      <th>3</th>\n",
       "      <td>Mohamed Salah</td>\n",
       "      <td>FC Liverpool</td>\n",
       "      <td>Inghilterra</td>\n",
       "    </tr>\n",
       "    <tr>\n",
       "      <th>4</th>\n",
       "      <td>Harry Kane</td>\n",
       "      <td>Tottenham Hotspur</td>\n",
       "      <td>Inghilterra</td>\n",
       "    </tr>\n",
       "  </tbody>\n",
       "</table>\n",
       "</div>"
      ],
      "text/plain": [
       "            nome                 squadra      Nazione\n",
       "0  Kylian Mbappé  FC Paris Saint-Germain      Francia\n",
       "1         Neymar  FC Paris Saint-Germain      Francia\n",
       "2   Lionel Messi           FC Barcellona       Spagna\n",
       "3  Mohamed Salah            FC Liverpool  Inghilterra\n",
       "4     Harry Kane       Tottenham Hotspur  Inghilterra"
      ]
     },
     "execution_count": 10,
     "metadata": {},
     "output_type": "execute_result"
    }
   ],
   "source": [
    "df3 = df1.join(df2, on='squadra')\n",
    "df3.head()"
   ]
  },
  {
   "cell_type": "code",
   "execution_count": 11,
   "metadata": {},
   "outputs": [],
   "source": [
    "df3.to_csv('columns/nazione_squadra.csv', index=False, encoding='ansi')"
   ]
  },
  {
   "cell_type": "markdown",
   "metadata": {},
   "source": [
    "# 03 - Google Hits"
   ]
  },
  {
   "cell_type": "markdown",
   "metadata": {},
   "source": [
    "Quante volte un giocatore appare facendo una ricerca Google?"
   ]
  },
  {
   "cell_type": "code",
   "execution_count": 19,
   "metadata": {},
   "outputs": [],
   "source": [
    "import numpy as np\n",
    "import pandas as pd\n",
    "import requests\n",
    "from bs4 import BeautifulSoup as BS\n",
    "from numpy import log\n",
    "from io import StringIO\n",
    "import re\n",
    "from unidecode import unidecode"
   ]
  },
  {
   "cell_type": "code",
   "execution_count": 4,
   "metadata": {},
   "outputs": [],
   "source": [
    "url = 'https://docs.google.com/spreadsheets/d/1RPiYmNxy8NWKp-uu_swOkRkTuq9cqJNnzJpl5BPliDM/export?format=csv&id=1RPiYmNxy8NWKp-uu_swOkRkTuq9cqJNnzJpl5BPliDM&gid=2001946666'\n",
    "r = requests.get(url)\n",
    "data = r.content.decode('utf-8')\n",
    "df = pd.read_csv(StringIO(data))\n",
    "df = pd.DataFrame(df[['nome_chiave']])\n",
    "df['nome_url'] = [x.replace(\" \",\"+\").replace(\"-\",\"+\").lower() for x in df.nome_chiave]"
   ]
  },
  {
   "cell_type": "markdown",
   "metadata": {},
   "source": [
    "Funzione per scaricare hit di Google "
   ]
  },
  {
   "cell_type": "code",
   "execution_count": 13,
   "metadata": {},
   "outputs": [],
   "source": [
    "s1 = 'https://www.google.com/search?q='\n",
    "lista_1 = [s1 + x for x in df.nome_url]\n",
    "df['google_hits'] = np.nan"
   ]
  },
  {
   "cell_type": "code",
   "execution_count": 14,
   "metadata": {},
   "outputs": [],
   "source": [
    "for i in range(300):\n",
    "    link = lista_1[i]\n",
    "    if isinstance(df.google_hits[i], float):\n",
    "        soup = BS(requests.get(link).text, 'lxml')\n",
    "        result = soup.find('div', attrs = {'id': 'resultStats'}).text.strip()\n",
    "        df.loc[i, 'google_hits'] = result"
   ]
  },
  {
   "cell_type": "code",
   "execution_count": 23,
   "metadata": {},
   "outputs": [],
   "source": [
    "l = [''.join(re.findall('(\\d)',unidecode(x))) for x in df.google_hits]\n",
    "df['google_hits1'] = l\n",
    "df[['google_hits1']].to_csv('columns/google_hits.csv', index=False)"
   ]
  },
  {
   "cell_type": "markdown",
   "metadata": {},
   "source": [
    "# 04 - Instagram Media Likes"
   ]
  },
  {
   "cell_type": "markdown",
   "metadata": {},
   "source": [
    "Average of latest 12 posts likes"
   ]
  },
  {
   "cell_type": "code",
   "execution_count": 3,
   "metadata": {},
   "outputs": [],
   "source": [
    "df = read_csv('tables/nome_instagram.csv', encoding='ansi')\n",
    "df.instagram[df.instagram.isnull()]=''\n",
    "df['urls'] = ['https://web.stagram.com/'+x.strip('/').split('/')[-1] for x in df.instagram.values]\n",
    "df['likes_avg'] = np.nan\n",
    "df.loc[df.instagram=='', 'urls'] = np.nan"
   ]
  },
  {
   "cell_type": "code",
   "execution_count": 26,
   "metadata": {},
   "outputs": [],
   "source": [
    "driver = webdriver.Chrome(executable_path='driver/chromedriver')\n",
    "driver.maximize_window()\n",
    "i = 0\n",
    "for url in df.urls:\n",
    "    if df.loc[i,'likes_avg'] > 0:\n",
    "        i+=1\n",
    "        pass\n",
    "    else:\n",
    "        if isinstance(url,float):\n",
    "            i+=1\n",
    "            pass\n",
    "        else:\n",
    "            try:  \n",
    "                driver.get(url)\n",
    "                sleep(3)\n",
    "                divs = [x.text for x in driver.find_elements_by_class_name('card-footer')]\n",
    "                if divs:\n",
    "                    total_likes = []\n",
    "                    for div in divs:\n",
    "                        total_likes.append(int(div.split(' ')[0].replace(',','')))\n",
    "                    likes_avg = np.array(total_likes).mean().round(1)\n",
    "                    df.loc[i,'likes_avg'] = likes_avg      \n",
    "            except:\n",
    "                pass\n",
    "            i += 1\n",
    "driver.quit()\n",
    "df.to_csv('columns/insta_likes_avg.csv', encoding='ansi')"
   ]
  },
  {
   "cell_type": "markdown",
   "metadata": {},
   "source": [
    "# 05 - Instagram Hashtags"
   ]
  },
  {
   "cell_type": "markdown",
   "metadata": {},
   "source": [
    "Quante foto hanno come **#hashtag** il nome di un calciatore?"
   ]
  },
  {
   "cell_type": "code",
   "execution_count": 3,
   "metadata": {},
   "outputs": [],
   "source": [
    "def f(x):\n",
    "    return unidecode(x).replace(' ', '').replace('-','').replace(\"'\", '').lower()\n",
    "\n",
    "dfNames = pd.read_csv('tables/nome_nomechiave.csv')\n",
    "dfNames['nome2'] = dfNames['nome_chiave'].apply(f)\n",
    "dfNames['hashtag_tot'] = np.nan"
   ]
  },
  {
   "cell_type": "code",
   "execution_count": null,
   "metadata": {},
   "outputs": [],
   "source": [
    "i = 0\n",
    "for n in dfNames.nome2:\n",
    "    if dfNames.hashtag_tot[i] > 0:\n",
    "        i += 1\n",
    "    else:\n",
    "        try:\n",
    "            url = 'https://www.instagram.com/explore/tags/'+ n +'/'\n",
    "            page = get(url).text\n",
    "            dfNames.iloc[i,-1] = int(re.findall('\"edge_hashtag_to_media\":{\"count\":+(\\d+)', page)[0])\n",
    "            i += 1\n",
    "            sleep(3)\n",
    "        except:\n",
    "            i += 1\n",
    "#     print(i-1,dfNames.nome[i-1])\n",
    "\n",
    "dfNames.to_csv('columns/insta_hashtags.csv', encoding='ansi', index=False)"
   ]
  },
  {
   "cell_type": "markdown",
   "metadata": {},
   "source": [
    "# 06 - Statistiche Wikipedia"
   ]
  },
  {
   "cell_type": "markdown",
   "metadata": {},
   "source": [
    "### Scraping Wikipedia Stats"
   ]
  },
  {
   "cell_type": "code",
   "execution_count": null,
   "metadata": {},
   "outputs": [],
   "source": [
    "df = read_csv('tables/Top300_Urls - Sheet1.csv')\n",
    "df = df[['nome','wiki']]"
   ]
  },
  {
   "cell_type": "code",
   "execution_count": null,
   "metadata": {},
   "outputs": [],
   "source": [
    "s1 = 'https://tools.wmflabs.org/pageviews/?project=en.wikipedia.org&platform=all-access&agent=user&start=2018-01-01&end=2018-12-20&pages='\n",
    "df['urls'] = [s1 + x.split('/')[-1] for x in df.wiki]\n",
    "df['wiki_visual'] = np.nan\n",
    "df['wiki_avg'] = np.nan"
   ]
  },
  {
   "cell_type": "code",
   "execution_count": null,
   "metadata": {},
   "outputs": [],
   "source": [
    "driver = webdriver.Chrome(executable_path='driver/chromedriver')\n",
    "driver.maximize_window()\n",
    "\n",
    "#=======================\n",
    "\n",
    "i = 0\n",
    "for url in df.urls:\n",
    "    if isinstance(df.wiki_visual[i], float):\n",
    "        driver.get(url)\n",
    "        sleep(3)       \n",
    "        try:\n",
    "            stats = driver.find_elements_by_class_name('linear-legend--counts')\n",
    "            d = dict([tuple(x.text.split(':')) for x in stats if x.text])\n",
    "            df.loc[i, 'wiki_visual'] = d['Visualizzazioni per pagina'].strip().replace(\".\",\"\")\n",
    "            df.loc[i, 'wiki_avg'] = d['Media giornaliera'].strip().replace(\".\",\"\")\n",
    "            #print(i, end=' ')\n",
    "            i += 1\n",
    "        except:\n",
    "            i += 1\n",
    "    else:\n",
    "        i += 1\n",
    "\n",
    "#=======================\n",
    "\n",
    "driver.quit()\n",
    "\n",
    "df.to_csv('columns/wiki_visual_and_avg.csv',index=False,encoding='ansi')"
   ]
  },
  {
   "cell_type": "markdown",
   "metadata": {},
   "source": [
    "# 07 - Kicker Data"
   ]
  },
  {
   "cell_type": "code",
   "execution_count": null,
   "metadata": {},
   "outputs": [],
   "source": [
    "df = read_csv('tables/nome_nomechiave.csv', encoding='ansi')\n",
    "df['nome_chiave_link'] = [x.replace(' ', '+').replace('-','+').lower() for x in df['nome_chiave']]\n",
    "s1 = 'http://www.kicker.de/home/24-09-1970/24-12-2018/0-1100-31000-37000-36000-39000-33000-22000-508024-1200-1000-/25/0/0/suchergebnisseartikel.html?suchbegriff='\n",
    "s2 = 'http://www.kicker.de/home/01-01-2018/24-12-2018/0-1100-31000-37000-36000-39000-33000-22000-508024-1200-1000-/25/0/0/suchergebnisseartikel.html?suchbegriff='\n",
    "df['urls_all'] = [s1+x for x in df.nome_chiave_link]\n",
    "df['urls_18'] = [s2+x for x in df.nome_chiave_link]\n",
    "df['kicker_all'] = np.nan\n",
    "df['kicker_18'] = np.nan\n",
    "df = df[['nome', 'urls_all', 'urls_18', 'kicker_all', 'kicker_18']]"
   ]
  },
  {
   "cell_type": "code",
   "execution_count": null,
   "metadata": {},
   "outputs": [],
   "source": [
    "for i in range(300):\n",
    "    url1 = df.urls_all[i]\n",
    "    url2 = df.urls_18[i]\n",
    "    \n",
    "    if isinstance(df.kicker_google_all[i], float):\n",
    "        page = get(url1).text\n",
    "        result1 = BS(page, 'lxml').find('div', attrs={'class': 'suchdachzeile'}).text\n",
    "        df.loc[i,'kicker_all'] = result1\n",
    "    else:\n",
    "        pass\n",
    "    \n",
    "    if isinstance(df.kicker_google_18[i], float):\n",
    "        page = get(url2).text\n",
    "        result2 = BS(page, 'lxml').find('div', attrs={'class': 'suchdachzeile'}).text\n",
    "        df.loc[i,'kicker_18'] = result2\n",
    "    else:\n",
    "        pass\n",
    "    \n",
    "    #print(i, end=' ')"
   ]
  },
  {
   "cell_type": "code",
   "execution_count": 9,
   "metadata": {},
   "outputs": [],
   "source": [
    "def f(x):\n",
    "    return x.split(' ')[0]\n",
    "\n",
    "df['kicker_all'] = df['kicker_all'].apply(f) \n",
    "\n",
    "df['kicker_18'] = df['kicker_18'].apply(f) \n",
    "\n",
    "df.iloc[:,-2:].to_csv('columns/kicker_data.csv', index=False)"
   ]
  },
  {
   "cell_type": "markdown",
   "metadata": {},
   "source": [
    "# 08 - Corriere dello Sport"
   ]
  },
  {
   "cell_type": "markdown",
   "metadata": {},
   "source": [
    "## Articoli di qualunque data"
   ]
  },
  {
   "cell_type": "code",
   "execution_count": null,
   "metadata": {},
   "outputs": [],
   "source": [
    "df = read_csv('tables/nome_nomechiave.csv', encoding='ansi')\n",
    "df['nome_chiave_link'] = [x.replace(' ', '+').replace('-','+').lower() for x in df['nome_chiave']]\n",
    "s1 = 'http://www.corrieredellosport.it/search?key=('\n",
    "df['urls_all'] = [s1+x+')' for x in df.nome_chiave_link]\n",
    "df['corriere_all'] = np.nan\n",
    "df = df[['nome', 'urls_all', 'corriere_all']]"
   ]
  },
  {
   "cell_type": "code",
   "execution_count": 22,
   "metadata": {
    "scrolled": true
   },
   "outputs": [],
   "source": [
    "for i in range(300):\n",
    "    url = df.urls_all[i]\n",
    "    \n",
    "    # solito trucco per riempire man mano la colonna\n",
    "    # così se da errore non perdo nulla\n",
    "    # e posso proseguire riavviando la cella:\n",
    "    \n",
    "    if isinstance(df.corriere_all[i], float):\n",
    "        \n",
    "        # uso espressione regex (pacchetto \"re\")\n",
    "        # per non passare da Beautiful Soup\n",
    "        \n",
    "        l = re.findall('>+(\\d+)\\s+articoli</a>', get(url).text)\n",
    "        \n",
    "        # if lista: <--- questa espressione dà True\n",
    "        # se la lista ha almeno un elemento dentro di essa.\n",
    "        # serve per evitare errori banali tipo lista[0]\n",
    "        # ma la lista è vuota quindi [0] non esiste --> errore\n",
    "        \n",
    "        if l:\n",
    "            df.loc[i, 'corriere_all'] = l[0]"
   ]
  },
  {
   "cell_type": "markdown",
   "metadata": {},
   "source": [
    "## Articoli del 2018"
   ]
  },
  {
   "cell_type": "code",
   "execution_count": 79,
   "metadata": {},
   "outputs": [],
   "source": [
    "df['corriere_18'] = np.nan"
   ]
  },
  {
   "cell_type": "markdown",
   "metadata": {},
   "source": [
    "Funzione che prende in input una pagina e restituisce il numero di volte che appare 2018 nei link agli articoli di quella pagina:"
   ]
  },
  {
   "cell_type": "code",
   "execution_count": 80,
   "metadata": {},
   "outputs": [],
   "source": [
    "def sum18(url):\n",
    "    p = BS(get(url).text,'lxml')\n",
    "    y = p.select('div.main-section__main article.article div.article__content a')\n",
    "    return sum(['2018' in x['href'] for x in y])"
   ]
  },
  {
   "cell_type": "code",
   "execution_count": null,
   "metadata": {},
   "outputs": [],
   "source": [
    "for i in range(300):\n",
    "    s = np.nan\n",
    "    \n",
    "    # solito trucco per riempire man mano la colonna\n",
    "    # così se da errore non perdo nulla\n",
    "    # e posso proseguire riavviando la cella:\n",
    "    \n",
    "    if isinstance(df.corriere_18[i], float):\n",
    "        \n",
    "        url = df.urls_all[i]+'%20AND%20(type%3Aarticolo)'\n",
    "        s = sum18(url)\n",
    "        N = int(p.select('span.page')[0].text.split(' ')[-1])\n",
    "        \n",
    "        # ciclo for nelle pagine alla ricerca delle date con 2018 nei link\n",
    "        # in ogni pagina ci sono 10 link i quali possono contenere o meno 2018\n",
    "        # se nessun link contiene 2018 vuol dire che posso uscire dal ciclo\n",
    "        # infatti pare che siano ordinati cronologicamente (grazie a dio)\n",
    "        # sommo ad ogni passo il numero di volte che il link contiene 2018\n",
    "        # cumulo le somme, e se la somma è 0 allora break\n",
    "        \n",
    "        for j in range(2,N+1):\n",
    "            \n",
    "            url2 = url+'&p='+str(j)\n",
    "            s2 = sum18(url2) \n",
    "            s += s2\n",
    "            \n",
    "            if s2 == 0:\n",
    "                break\n",
    "        \n",
    "        # salvo come stringa per assicurarmi che non venga visto come numeric\n",
    "        \n",
    "        df.loc[i, 'corriere_18'] = str(s)\n",
    "\n",
    "df[['corriere_all', 'corriere_18']].to_csv('columns/corriere_dello_sport.csv')"
   ]
  },
  {
   "cell_type": "markdown",
   "metadata": {},
   "source": [
    "# 09 - Skysport, Sky Italia e Eurosport"
   ]
  },
  {
   "cell_type": "markdown",
   "metadata": {},
   "source": [
    "## Skysport.com"
   ]
  },
  {
   "cell_type": "markdown",
   "metadata": {},
   "source": [
    "### Qualunque anno"
   ]
  },
  {
   "cell_type": "code",
   "execution_count": null,
   "metadata": {},
   "outputs": [],
   "source": [
    "df = read_csv('tables/nome_nomechiave.csv', encoding='utf8')\n",
    "s1 = 'https://www.google.com/search?q='\n",
    "s2 = '+site:skysports.com&source=lnms&tbm=nws'\n",
    "df['urls_all'] = [s1 + x.replace(' ', '+').lower() + s2 for x in df.nome_chiave]\n",
    "df['skysport_google_all'] = np.nan"
   ]
  },
  {
   "cell_type": "code",
   "execution_count": null,
   "metadata": {},
   "outputs": [],
   "source": [
    "for i in range(300):\n",
    "    if isinstance(df.skysport_google_all[i], float):\n",
    "        url = df.urls_all[i]\n",
    "        result = BS(get(url).text, 'lxml').select('#resultStats')[0].text\n",
    "        df.loc[i, 'skysport_google_all'] = result\n",
    "        #print((i, df.nome[i]), end=' ')"
   ]
  },
  {
   "cell_type": "markdown",
   "metadata": {},
   "source": [
    "### 2018"
   ]
  },
  {
   "cell_type": "code",
   "execution_count": null,
   "metadata": {},
   "outputs": [],
   "source": [
    "s1 = 'https://www.google.com/search?q='\n",
    "s2 = '+site:skysports.com&tbm=nws&source=lnt&tbs=qdr:y'\n",
    "df['url_18'] = [s1 + x.replace(' ', '+').lower() + s2 for x in df.nome_chiave]\n",
    "df['skysport_google_18'] = np.nan"
   ]
  },
  {
   "cell_type": "code",
   "execution_count": null,
   "metadata": {},
   "outputs": [],
   "source": [
    "driver = webdriver.Chrome(executable_path='driver/chromedriver')\n",
    "driver.maximize_window()\n",
    "\n",
    "results = []\n",
    "\n",
    "for i in range(300):\n",
    "    if isinstance(df.skysport_google_18[i], float):\n",
    "        url = df.url_18[i]\n",
    "        driver.get(url)\n",
    "        sleep(np.random.uniform(2))\n",
    "        el = driver.find_element_by_link_text('Strumenti')\n",
    "        webdriver.ActionChains(driver).move_to_element(el).click(el).perform()\n",
    "        sleep(np.random.uniform(2))\n",
    "        result = driver.find_element_by_id('resultStats').text\n",
    "        df.loc[i, 'skysport_google_18'] = result\n",
    "        #print((i,df.nome[i]), end=' ')\n",
    "    \n",
    "driver.quit()"
   ]
  },
  {
   "cell_type": "markdown",
   "metadata": {},
   "source": [
    "## Sky Sport Italia"
   ]
  },
  {
   "cell_type": "markdown",
   "metadata": {},
   "source": [
    "### Qualunque anno"
   ]
  },
  {
   "cell_type": "code",
   "execution_count": null,
   "metadata": {},
   "outputs": [],
   "source": [
    "s1 = 'https://www.google.com/search?q='\n",
    "s2 = '+site:sport.sky.it&source=lnms&tbm=nws'\n",
    "df['urls_all'] = [s1 + x.replace(' ', '+').lower() + s2 for x in df.nome_chiave]\n",
    "df['skyitalia_google_all'] = np.nan"
   ]
  },
  {
   "cell_type": "code",
   "execution_count": null,
   "metadata": {},
   "outputs": [],
   "source": [
    "for i in range(300):\n",
    "    if isinstance(df.skyitalia_google_all[i], float):\n",
    "        url = df.urls_all[i]\n",
    "        result = BS(get(url).text, 'lxml').select('#resultStats')[0].text\n",
    "        df.loc[i, 'skyitalia_google_all'] = result\n",
    "        #print((i, df.nome[i]), end=' ')"
   ]
  },
  {
   "cell_type": "markdown",
   "metadata": {},
   "source": [
    "### 2018"
   ]
  },
  {
   "cell_type": "code",
   "execution_count": null,
   "metadata": {},
   "outputs": [],
   "source": [
    "s1 = 'https://www.google.com/search?q='\n",
    "s2 = '+site:sport.sky.it&tbm=nws&source=lnt&tbs=qdr:y'\n",
    "df['url_18'] = [s1 + x.replace(' ', '+').lower() + s2 for x in df.nome_chiave]\n",
    "df['skyitalia_google_18'] = np.nan"
   ]
  },
  {
   "cell_type": "code",
   "execution_count": null,
   "metadata": {},
   "outputs": [],
   "source": [
    "driver = webdriver.Chrome(executable_path='driver/chromedriver')\n",
    "driver.maximize_window()\n",
    "\n",
    "results = []\n",
    "\n",
    "for i in range(290,300):\n",
    "    if isinstance(df.skyitalia_google_18[i], float):\n",
    "        url = df.url_18[i]\n",
    "        driver.get(url)\n",
    "        sleep(np.random.uniform(2))\n",
    "        el = driver.find_element_by_link_text('Strumenti')\n",
    "        webdriver.ActionChains(driver).move_to_element(el).click(el).perform()\n",
    "        sleep(np.random.uniform(2))\n",
    "        result = driver.find_element_by_id('resultStats').text\n",
    "        df.loc[i, 'skyitalia_google_18'] = result\n",
    "        #print((i,df.nome[i]), end=' ')\n",
    "    \n",
    "driver.quit()"
   ]
  },
  {
   "cell_type": "markdown",
   "metadata": {},
   "source": [
    "## Eurosport"
   ]
  },
  {
   "cell_type": "markdown",
   "metadata": {},
   "source": [
    "### Qualunque anno"
   ]
  },
  {
   "cell_type": "code",
   "execution_count": 144,
   "metadata": {},
   "outputs": [],
   "source": [
    "s1 = 'https://www.google.com/search?q='\n",
    "s2 = '+site:eurosport.com&source=lnms&tbm=nws'\n",
    "df['urls_all'] = [s1 + x.replace(' ', '+').lower() + s2 for x in df.nome_chiave]\n",
    "df['eurosport_google_all'] = np.nan"
   ]
  },
  {
   "cell_type": "code",
   "execution_count": null,
   "metadata": {},
   "outputs": [],
   "source": [
    "for i in range(300):\n",
    "    if isinstance(df.eurosport_google_all[i], float):\n",
    "        url = df.urls_all[i]\n",
    "        result = BS(get(url).text, 'lxml').select('#resultStats')[0].text\n",
    "        df.loc[i, 'eurosport_google_all'] = result\n",
    "        #print((i, df.nome[i]), end=' ')"
   ]
  },
  {
   "cell_type": "markdown",
   "metadata": {},
   "source": [
    "### 2018"
   ]
  },
  {
   "cell_type": "code",
   "execution_count": null,
   "metadata": {},
   "outputs": [],
   "source": [
    "s1 = 'https://www.google.com/search?q='\n",
    "s2 = '+site:eurosport.com&tbm=nws&source=lnt&tbs=qdr:y'\n",
    "df['url_18'] = [s1 + x.replace(' ', '+').lower() + s2 for x in df.nome_chiave]\n",
    "df['eurosport_google_18'] = np.nan"
   ]
  },
  {
   "cell_type": "code",
   "execution_count": null,
   "metadata": {},
   "outputs": [],
   "source": [
    "driver = webdriver.Chrome(executable_path='driver/chromedriver')\n",
    "driver.maximize_window()\n",
    "\n",
    "results = []\n",
    "\n",
    "for i in range(300):\n",
    "    if isinstance(df.eurosport_google_18[i], float):\n",
    "        url = df.url_18[i]\n",
    "        driver.get(url)\n",
    "        sleep(np.random.uniform(2))\n",
    "        el = driver.find_element_by_link_text('Strumenti')\n",
    "        webdriver.ActionChains(driver).move_to_element(el).click(el).perform()\n",
    "        sleep(np.random.uniform(2))\n",
    "        result = driver.find_element_by_id('resultStats').text\n",
    "        df.loc[i, 'eurosport_google_18'] = result\n",
    "        #print((i,df.nome[i]), end=' ')\n",
    "    \n",
    "driver.quit()"
   ]
  },
  {
   "cell_type": "markdown",
   "metadata": {},
   "source": [
    "### Pulizia dati"
   ]
  },
  {
   "cell_type": "code",
   "execution_count": null,
   "metadata": {},
   "outputs": [],
   "source": [
    "c = ['skysport_google_all', 'skysport_google_18', \n",
    "     'skyitalia_google_all', 'skyitalia_google_18', \n",
    "     'eurosport_google_all', 'eurosport_google_18']\n",
    "df2 = df[c]"
   ]
  },
  {
   "cell_type": "code",
   "execution_count": null,
   "metadata": {},
   "outputs": [],
   "source": [
    "for col in df2.columns:\n",
    "    df2.loc[df2[col].isnull(), col] = 'Circa 0 risultati'\n",
    "\n",
    "def f(x):\n",
    "    return x.replace('.', '')\n",
    "\n",
    "for j in range(6):\n",
    "    df2.iloc[:, j] = df2.iloc[:, j].apply(f)\n",
    "\n",
    "def f2(x):\n",
    "    return re.findall('\\d+',x)[0]\n",
    "\n",
    "for nomecol in df2.columns:\n",
    "    df2[nomecol] = df2[nomecol].apply(f2)\n",
    "    \n",
    "df2.to_csv('columns/skysports_skyitalia_eurosport.csv')"
   ]
  },
  {
   "cell_type": "markdown",
   "metadata": {},
   "source": [
    "# 10 - The Guardian"
   ]
  },
  {
   "cell_type": "markdown",
   "metadata": {},
   "source": [
    "## Qualunque anno"
   ]
  },
  {
   "cell_type": "code",
   "execution_count": 2,
   "metadata": {},
   "outputs": [],
   "source": [
    "df = read_csv('tables/nome_nomechiave.csv', encoding='utf8')\n",
    "s1 = 'https://www.google.com/search?q='\n",
    "s2 = '+site:www.theguardian.com&source=lnms&tbm=nws'\n",
    "df['urls_all'] = [s1 + x.replace(' ', '+').lower() + s2 for x in df.nome_chiave]\n",
    "df['guardian_google_all'] = np.nan"
   ]
  },
  {
   "cell_type": "code",
   "execution_count": null,
   "metadata": {},
   "outputs": [],
   "source": [
    "for i in range(300):\n",
    "    if isinstance(df.guardian_google_all[i], float):\n",
    "        url = df.urls_all[i]\n",
    "        result = BS(get(url).text, 'lxml').select('#resultStats')[0].text\n",
    "        df.loc[i, 'guardian_google_all'] = result\n",
    "        #print((i, df.nome[i]), end=' ')"
   ]
  },
  {
   "cell_type": "markdown",
   "metadata": {},
   "source": [
    "## 2018"
   ]
  },
  {
   "cell_type": "code",
   "execution_count": 7,
   "metadata": {},
   "outputs": [],
   "source": [
    "s1 = 'https://www.google.com/search?q='\n",
    "s2 = '+site:www.theguardian.com&tbm=nws&source=lnt&tbs=qdr:y'\n",
    "df['url_18'] = [s1 + x.replace(' ', '+').lower() + s2 for x in df.nome_chiave]\n",
    "df['guardian_google_18'] = np.nan"
   ]
  },
  {
   "cell_type": "code",
   "execution_count": null,
   "metadata": {},
   "outputs": [],
   "source": [
    "driver = webdriver.Chrome(executable_path='driver/chromedriver')\n",
    "driver.maximize_window()\n",
    "\n",
    "results = []\n",
    "\n",
    "for i in range(300):\n",
    "    if isinstance(df.guardian_google_18[i], float):\n",
    "        url = df.url_18[i]\n",
    "        driver.get(url)\n",
    "        sleep(np.random.uniform(2))\n",
    "        el = driver.find_element_by_link_text('Strumenti')\n",
    "        webdriver.ActionChains(driver).move_to_element(el).click(el).perform()\n",
    "        sleep(np.random.uniform(2))\n",
    "        result = driver.find_element_by_id('resultStats').text\n",
    "        df.loc[i, 'guardian_google_18'] = result\n",
    "        #print((i,df.nome[i]), end=' ')\n",
    "    \n",
    "driver.quit()"
   ]
  },
  {
   "cell_type": "markdown",
   "metadata": {},
   "source": [
    "## Pulizia dati"
   ]
  },
  {
   "cell_type": "code",
   "execution_count": 50,
   "metadata": {},
   "outputs": [
    {
     "data": {
      "text/html": [
       "<div>\n",
       "<style scoped>\n",
       "    .dataframe tbody tr th:only-of-type {\n",
       "        vertical-align: middle;\n",
       "    }\n",
       "\n",
       "    .dataframe tbody tr th {\n",
       "        vertical-align: top;\n",
       "    }\n",
       "\n",
       "    .dataframe thead th {\n",
       "        text-align: right;\n",
       "    }\n",
       "</style>\n",
       "<table border=\"1\" class=\"dataframe\">\n",
       "  <thead>\n",
       "    <tr style=\"text-align: right;\">\n",
       "      <th></th>\n",
       "      <th>guardian_google_all</th>\n",
       "      <th>guardian_google_18</th>\n",
       "    </tr>\n",
       "  </thead>\n",
       "  <tbody>\n",
       "    <tr>\n",
       "      <th>0</th>\n",
       "      <td>Circa 639 risultati</td>\n",
       "      <td>Circa 354 risultati (0,22 secondi)</td>\n",
       "    </tr>\n",
       "    <tr>\n",
       "      <th>1</th>\n",
       "      <td>Circa 3.300 risultati</td>\n",
       "      <td>Circa 687 risultati (0,16 secondi)</td>\n",
       "    </tr>\n",
       "    <tr>\n",
       "      <th>2</th>\n",
       "      <td>Circa 5.860 risultati</td>\n",
       "      <td>Circa 964 risultati (0,19 secondi)</td>\n",
       "    </tr>\n",
       "    <tr>\n",
       "      <th>3</th>\n",
       "      <td>Circa 1.960 risultati</td>\n",
       "      <td>Circa 852 risultati (0,20 secondi)</td>\n",
       "    </tr>\n",
       "    <tr>\n",
       "      <th>4</th>\n",
       "      <td>Circa 4.420 risultati</td>\n",
       "      <td>Circa 1.000 risultati (0,21 secondi)</td>\n",
       "    </tr>\n",
       "  </tbody>\n",
       "</table>\n",
       "</div>"
      ],
      "text/plain": [
       "     guardian_google_all                     guardian_google_18\n",
       "0    Circa 639 risultati    Circa 354 risultati (0,22 secondi) \n",
       "1  Circa 3.300 risultati    Circa 687 risultati (0,16 secondi) \n",
       "2  Circa 5.860 risultati    Circa 964 risultati (0,19 secondi) \n",
       "3  Circa 1.960 risultati    Circa 852 risultati (0,20 secondi) \n",
       "4  Circa 4.420 risultati  Circa 1.000 risultati (0,21 secondi) "
      ]
     },
     "execution_count": 50,
     "metadata": {},
     "output_type": "execute_result"
    }
   ],
   "source": [
    "df[['guardian_google_all', 'guardian_google_18']].head()"
   ]
  },
  {
   "cell_type": "code",
   "execution_count": null,
   "metadata": {},
   "outputs": [],
   "source": [
    "def f(x):\n",
    "    x=x.replace('.','')\n",
    "    x=re.findall('(\\d+)',x)\n",
    "    if x:\n",
    "        return x[0]\n",
    "\n",
    "df2 = df[['guardian_google_all', 'guardian_google_18']]\n",
    "\n",
    "df2.loc[0:300, 'guardian_google_all'] = df2.guardian_google_all.apply(f)\n",
    "df2.loc[0:300, 'guardian_google_18'] = df2.guardian_google_18.apply(f)\n",
    "\n",
    "df2.to_csv('columns/guardian_data.csv')"
   ]
  },
  {
   "cell_type": "markdown",
   "metadata": {},
   "source": [
    "# 11 - Gazzetta dello Sport"
   ]
  },
  {
   "cell_type": "markdown",
   "metadata": {},
   "source": [
    "## Qualunque anno"
   ]
  },
  {
   "cell_type": "code",
   "execution_count": 2,
   "metadata": {},
   "outputs": [],
   "source": [
    "df = read_csv('tables/nome_nomechiave.csv', encoding='utf8')\n",
    "s1 = 'https://www.google.com/search?q='\n",
    "s2 = '+site:www.gazzetta.it&source=lnms&tbm=nws'\n",
    "df['urls_all'] = [s1 + x.replace(' ', '+').lower() + s2 for x in df.nome_chiave]\n",
    "df['gs_google_all'] = np.nan"
   ]
  },
  {
   "cell_type": "code",
   "execution_count": null,
   "metadata": {},
   "outputs": [],
   "source": [
    "for i in range(300):\n",
    "    if isinstance(df.gs_google_all[i], float):\n",
    "        url = df.urls_all[i]\n",
    "        result = BS(get(url).text, 'lxml').select('#resultStats')[0].text\n",
    "        df.loc[i, 'gs_google_all'] = result\n",
    "        print((i, df.nome[i]), end=' ')"
   ]
  },
  {
   "cell_type": "markdown",
   "metadata": {},
   "source": [
    "## 2018"
   ]
  },
  {
   "cell_type": "code",
   "execution_count": 2,
   "metadata": {},
   "outputs": [],
   "source": [
    "df = read_csv('tables/nome_nomechiave.csv', encoding='utf8')\n",
    "s1 = 'https://www.google.com/search?q='\n",
    "s2 = '+site:www.gazzetta.it&tbm=nws&source=lnt&tbs=qdr:y'\n",
    "df['url_18'] = [s1 + x.replace(' ', '+').lower() + s2 for x in df.nome_chiave]\n",
    "df['gs_google_18'] = np.nan\n",
    "\n",
    "# ------\n",
    "\n",
    "driver = webdriver.Chrome(executable_path='driver/chromedriver')\n",
    "driver.maximize_window()\n",
    "\n",
    "results = []\n",
    "\n",
    "for i in range(300):\n",
    "    if isinstance(df.gs_google_18[i], float):\n",
    "        url = df.url_18[i]\n",
    "        driver.get(url)\n",
    "        sleep(np.random.uniform(1))\n",
    "        el = driver.find_element_by_link_text('Strumenti')\n",
    "        webdriver.ActionChains(driver).move_to_element(el).click(el).perform()\n",
    "        sleep(np.random.uniform(1))\n",
    "        result = driver.find_element_by_id('resultStats').text\n",
    "        df.loc[i, 'gs_google_18'] = result\n",
    "        print((i,df.nome[i]), end=' ')\n",
    "    \n",
    "driver.quit()"
   ]
  },
  {
   "cell_type": "markdown",
   "metadata": {},
   "source": [
    "### Pulizia dati"
   ]
  },
  {
   "cell_type": "code",
   "execution_count": 16,
   "metadata": {},
   "outputs": [],
   "source": [
    "def f(x):\n",
    "    x = x.replace(',', '')\n",
    "    x = re.findall('(\\d+)', x)\n",
    "    if x:\n",
    "        return x[0]\n",
    "df2 = df.gs_google_all\n",
    "pd.DataFrame(df2.apply(f)).to_csv('columns/gazzetta_google_all.csv', index=False)"
   ]
  },
  {
   "cell_type": "code",
   "execution_count": 34,
   "metadata": {},
   "outputs": [],
   "source": [
    "def f(x):\n",
    "    x = x.replace('.', '')\n",
    "    x = re.findall('(\\d+)', x)\n",
    "    if x:\n",
    "        return x[0]\n",
    "df2 = df.gs_google_18\n",
    "pd.DataFrame(df2.apply(f)).to_csv('columns/gazzetta_google_18.csv', index=False)"
   ]
  },
  {
   "cell_type": "markdown",
   "metadata": {},
   "source": [
    "# 12 - France Football e AS"
   ]
  },
  {
   "cell_type": "markdown",
   "metadata": {},
   "source": [
    "## France Football"
   ]
  },
  {
   "cell_type": "markdown",
   "metadata": {},
   "source": [
    "### Qualunque anno"
   ]
  },
  {
   "cell_type": "code",
   "execution_count": null,
   "metadata": {},
   "outputs": [],
   "source": [
    "df = read_csv('tables/nome_nomechiave.csv', encoding='utf8')\n",
    "s1 = 'https://www.google.com/search?q='\n",
    "s2 = '+site:francefootball.com&source=lnms&tbm=nws'\n",
    "df['url_ff'] = [s1 + x.replace(' ', '+').lower() + s2 for x in df.nome_chiave]\n",
    "\n",
    "headers = {\"User-Agent\":\"Mozilla/5.0\"}\n",
    "results_ff = []\n",
    "\n",
    "# si estrae il numero di risultati di google in corrispondenza della ricerca di ciascun giocatore sulla rivista FranceFootball\n",
    "for link in df.url_ff:\n",
    "    soup = BS(get(link).text,'lxml')\n",
    "    stringa = soup.find('div', attrs = {'id': 'resultStats'}).text.strip().replace('.','')\n",
    "    results_ff.append(int(str([int(s) for s in stringa if s.isdigit()]).strip('[]').replace(',','').replace(' ','')))\n",
    "\n",
    "# si aggiorna il dataset df con la nuova colonna\n",
    "df['ff_google_all'] = results_ff"
   ]
  },
  {
   "cell_type": "markdown",
   "metadata": {},
   "source": [
    "### 2018"
   ]
  },
  {
   "cell_type": "code",
   "execution_count": null,
   "metadata": {},
   "outputs": [],
   "source": [
    "df = read_csv('tables/nome_nomechiave.csv', encoding='utf8')\n",
    "s1 = 'https://www.google.com/search?q='\n",
    "s2 = '+site:francefootball.com&tbm=nws&source=lnt&tbs=qdr:y'\n",
    "df['url_ff'] = [s1 + x.replace(' ', '+').lower() + s2 for x in df.nome_chiave]\n",
    "df['ff_google_18'] = np.nan\n",
    "\n",
    "# ------\n",
    "\n",
    "driver = webdriver.Chrome(executable_path='driver/chromedriver')\n",
    "driver.maximize_window()\n",
    "\n",
    "results = []\n",
    "\n",
    "for i in range(300):\n",
    "    if isinstance(df.ff_google_18[i], float):\n",
    "        url = df.url_ff[i]\n",
    "        driver.get(url)\n",
    "        sleep(np.random.uniform(1))\n",
    "        el = driver.find_element_by_link_text('Strumenti')\n",
    "        webdriver.ActionChains(driver).move_to_element(el).click(el).perform()\n",
    "        sleep(np.random.uniform(1))\n",
    "        result = driver.find_element_by_id('resultStats').text.strip().replace('.','')\n",
    "        result = int(str([int(s) for s in result if s.isdigit()]).strip('[]').replace(',','').replace(' ',''))\n",
    "        df.loc[i, 'ff_google_18'] = result\n",
    "        print((i,df.nome[i]), end=' ')\n",
    "    \n",
    "driver.quit()"
   ]
  },
  {
   "cell_type": "markdown",
   "metadata": {},
   "source": [
    "## AS.com"
   ]
  },
  {
   "cell_type": "markdown",
   "metadata": {},
   "source": [
    "### Qualunque anno"
   ]
  },
  {
   "cell_type": "code",
   "execution_count": null,
   "metadata": {},
   "outputs": [],
   "source": [
    "s1 = 'https://www.google.com/search?q='\n",
    "s2 = '+site:as.com&source=lnms&tbm=nws'\n",
    "df['url_as'] = [s1 + x.replace(' ', '+').lower() + s2 for x in df.nome_chiave]\n",
    "\n",
    "headers = {\"User-Agent\":\"Mozilla/5.0\"}\n",
    "results_as = []\n",
    "\n",
    "# si estrae il numero di risultati di google in corrispondenza della ricerca di ciascun giocatore sulla rivista AS\n",
    "for link in df.url_as:\n",
    "    soup = BS(get(link).text,'lxml')\n",
    "    results_as.append(soup.find('div', attrs = {'id': 'resultStats'}).text.strip().split(' ')[1].replace('.',''))\n",
    "\n",
    "# si aggiorna il dataset df con la nuova colonna\n",
    "df['as_google_all'] = results_as"
   ]
  },
  {
   "cell_type": "markdown",
   "metadata": {},
   "source": [
    "### 2018"
   ]
  },
  {
   "cell_type": "code",
   "execution_count": null,
   "metadata": {},
   "outputs": [],
   "source": [
    "df = read_csv('tables/nome_nomechiave.csv', encoding='utf8')\n",
    "s1 = 'https://www.google.com/search?q='\n",
    "s2 = '+site:as.com&tbm=nws&source=lnt&tbs=qdr:y'\n",
    "df['url_as'] = [s1 + x.replace(' ', '+').lower() + s2 for x in df.nome_chiave]\n",
    "df['as_google_18'] = np.nan\n",
    "\n",
    "# ------\n",
    "\n",
    "driver = webdriver.Chrome(executable_path='driver/chromedriver')\n",
    "driver.maximize_window()\n",
    "\n",
    "results = []\n",
    "\n",
    "for i in range(300):\n",
    "    if isinstance(df.as_google_18[i], float):\n",
    "        url = df.url_as[i]\n",
    "        driver.get(url)\n",
    "        sleep(np.random.uniform(1))\n",
    "        el = driver.find_element_by_link_text('Strumenti')\n",
    "        webdriver.ActionChains(driver).move_to_element(el).click(el).perform()\n",
    "        sleep(np.random.uniform(1))\n",
    "        result = driver.find_element_by_id('resultStats').text.strip().replace('.','')\n",
    "        result = int(str([int(s) for s in result if s.isdigit()]).strip('[]').replace(',','').replace(' ',''))\n",
    "        df.loc[i, 'as_google_18'] = result\n",
    "        print((i,df.nome[i]), end=' ')\n",
    "    \n",
    "driver.quit()"
   ]
  },
  {
   "cell_type": "code",
   "execution_count": null,
   "metadata": {},
   "outputs": [],
   "source": [
    "d = df[['ff_google_all', 'ff_google_18', 'as_google_all', 'as_google_18']]\n",
    "d.to_csv('columns/ff_as_google.csv', index=False)"
   ]
  },
  {
   "cell_type": "markdown",
   "metadata": {},
   "source": [
    "# 13 - Presenze, Goal e Assist"
   ]
  },
  {
   "cell_type": "code",
   "execution_count": 1,
   "metadata": {},
   "outputs": [],
   "source": [
    "from selenium import webdriver\n",
    "from selenium.webdriver.common.keys import Keys\n",
    "from selenium.webdriver.common.by import By\n",
    "from selenium.webdriver.support.ui import WebDriverWait\n",
    "from selenium.webdriver.support import expected_conditions as EC\n",
    "from selenium.webdriver.common.action_chains import ActionChains\n",
    "from time import sleep\n",
    "import re\n",
    "import numpy as np\n",
    "import pandas as pd\n",
    "from requests import get\n",
    "from pandas import read_csv\n",
    "from unidecode import unidecode\n",
    "from bs4 import BeautifulSoup as BS"
   ]
  },
  {
   "cell_type": "code",
   "execution_count": 45,
   "metadata": {},
   "outputs": [],
   "source": [
    "df_urls = read_csv('tables/Top300_Urls - Sheet1.csv')\n",
    "df_ruolo = read_csv('tables/ruolo.csv')\n",
    "names = [x.split('/')[3] for x in df_urls.transfermarkt]\n",
    "ids = [x.split('/')[6] for x in df_urls.transfermarkt]\n",
    "ruolo = df_ruolo.ruolo"
   ]
  },
  {
   "cell_type": "code",
   "execution_count": 50,
   "metadata": {},
   "outputs": [],
   "source": [
    "df = pd.DataFrame({\n",
    "    'pres_2018_tot':[np.nan]*300,\n",
    "    'goal_2018_tot':[np.nan]*300,\n",
    "    'assist_2018_tot':[np.nan]*300,\n",
    "    'pres_2018_CL':[np.nan]*300,\n",
    "    'goal_2018_CL':[np.nan]*300,\n",
    "    'assist_2018_CL':[np.nan]*300,\n",
    "    'pres_2017_tot':[np.nan]*300,\n",
    "    'goal_2017_tot':[np.nan]*300,\n",
    "    'assist_2017_tot':[np.nan]*300,\n",
    "    'pres_2017_CL':[np.nan]*300,\n",
    "    'goal_2017_CL':[np.nan]*300,\n",
    "    'assist_2017_CL':[np.nan]*300,\n",
    "    'pres_tot':[np.nan]*300,\n",
    "    'goal_tot':[np.nan]*300,\n",
    "    'assist_tot':[np.nan]*300,\n",
    "    'pres_tot_CL':[np.nan]*300,\n",
    "    'goal_tot_CL':[np.nan]*300,\n",
    "    'assist_tot_CL':[np.nan]*300,\n",
    "})"
   ]
  },
  {
   "cell_type": "code",
   "execution_count": 65,
   "metadata": {},
   "outputs": [
    {
     "name": "stdout",
     "output_type": "stream",
     "text": [
      "(298, 'Danilo Pereira') (299, 'José Callejón') "
     ]
    }
   ],
   "source": [
    "for i in range(300):\n",
    "    url18 = 'https://www.transfermarkt.it/'+names[i]+'/leistungsdaten/spieler/'+ids[i]+'/saison/2018/plus/1#gesamt'\n",
    "    url17 = 'https://www.transfermarkt.it/'+names[i]+'/leistungsdaten/spieler/'+ids[i]+'/saison/2017/plus/1#gesamt'\n",
    "    urltot = 'https://www.transfermarkt.it/'+names[i]+'/leistungsdaten/spieler/'+ids[i]+'/plus/1?saison=ges'\n",
    "    \n",
    "    if isinstance(df.assist_tot_CL[i], float):\n",
    "        \n",
    "        page18 = BS(get(url18, headers = {\"User-Agent\":\"Mozilla/5.0\"}).text, 'lxml')\n",
    "        page17 = BS(get(url17, headers = {\"User-Agent\":\"Mozilla/5.0\"}).text, 'lxml')\n",
    "        pagetot = BS(get(urltot, headers = {\"User-Agent\":\"Mozilla/5.0\"}).text, 'lxml')\n",
    "\n",
    "\n",
    "        # all 2018 =============================================================\n",
    "        try:\n",
    "            trs = page18.select('div#yw2 tfoot')[0].find_all('tr')        \n",
    "            for tr in trs:\n",
    "                tds = tr.find_all('td')\n",
    "                pres = tds[2].text.strip()\n",
    "                gol = tds[3].text.strip()\n",
    "                assist = tds[4].text.strip()\n",
    "            df.loc[i, 'pres_2018_tot'] = pres\n",
    "            df.loc[i, 'goal_2018_tot'] = gol\n",
    "            df.loc[i, 'assist_2018_tot'] = assist\n",
    "        except:\n",
    "            df.loc[i, 'pres_2018_tot'] = '-'\n",
    "            df.loc[i, 'goal_2018_tot'] = '-'\n",
    "            df.loc[i, 'assist_2018_tot'] = '-'\n",
    "\n",
    "        # all 2017 =============================================================\n",
    "\n",
    "        trs = page17.select('div#yw2 tfoot')[0].find_all('tr')        \n",
    "        for tr in trs:\n",
    "            tds = tr.find_all('td')\n",
    "            pres = tds[2].text.strip()\n",
    "            gol = tds[3].text.strip()\n",
    "            assist = tds[4].text.strip()\n",
    "        df.loc[i, 'pres_2017_tot'] = pres\n",
    "        df.loc[i, 'goal_2017_tot'] = gol\n",
    "        df.loc[i, 'assist_2017_tot'] = assist\n",
    "\n",
    "        # all tot =============================================================\n",
    "\n",
    "        trs = pagetot.select('div#yw2 tfoot')[0].find_all('tr')        \n",
    "        for tr in trs:\n",
    "            tds = tr.find_all('td')\n",
    "            pres = tds[2].text.strip()\n",
    "            gol = tds[3].text.strip()\n",
    "            assist = tds[4].text.strip()\n",
    "        df.loc[i, 'pres_tot'] = pres\n",
    "        df.loc[i, 'goal_tot'] = gol\n",
    "        df.loc[i, 'assist_tot'] = assist\n",
    "\n",
    "        # champions 2018 ========================================================\n",
    "        \n",
    "        try:\n",
    "            trs = page18.select('div#yw2 tbody')[0].find_all('tr')\n",
    "            for tr in trs:\n",
    "                tds = tr.find_all('td')\n",
    "                pres = '-'\n",
    "                gol = '-'\n",
    "                assist = '-'\n",
    "                if tds[1].text.strip()=='Champions League':\n",
    "                    pres = tds[2].text.strip()\n",
    "                    gol = tds[3].text.strip()\n",
    "                    assist = tds[4].text.strip()\n",
    "                    break\n",
    "            df.loc[i, 'pres_2018_CL'] = pres\n",
    "            df.loc[i, 'goal_2018_CL'] = gol\n",
    "            df.loc[i, 'assist_2018_CL'] = assist\n",
    "        except:\n",
    "            df.loc[i, 'pres_2018_CL'] = '-'\n",
    "            df.loc[i, 'goal_2018_CL'] = '-'\n",
    "            df.loc[i, 'assist_2018_CL'] = '-'\n",
    "\n",
    "        # champions 2017 ========================================================\n",
    "\n",
    "        trs = page17.select('div#yw2 tbody')[0].find_all('tr')\n",
    "        for tr in trs:\n",
    "            tds = tr.find_all('td')\n",
    "            pres = '-'\n",
    "            gol = '-'\n",
    "            assist = '-'\n",
    "            if tds[1].text.strip()=='Champions League':\n",
    "                pres = tds[2].text.strip()\n",
    "                gol = tds[3].text.strip()\n",
    "                assist = tds[4].text.strip()\n",
    "                break\n",
    "        df.loc[i, 'pres_2017_CL'] = pres\n",
    "        df.loc[i, 'goal_2017_CL'] = gol\n",
    "        df.loc[i, 'assist_2017_CL'] = assist\n",
    "\n",
    "        # champions tot  ========================================================\n",
    "\n",
    "        trs = pagetot.select('div#yw2 tbody')[0].find_all('tr')\n",
    "        for tr in trs:\n",
    "            tds = tr.find_all('td')\n",
    "            pres = '-'\n",
    "            gol = '-'\n",
    "            assist = '-'\n",
    "            if tds[1].text.strip()=='Champions League':\n",
    "                pres = tds[2].text.strip()\n",
    "                gol = tds[3].text.strip()\n",
    "                assist = tds[4].text.strip()\n",
    "                break\n",
    "        df.loc[i, 'pres_tot_CL'] = pres\n",
    "        df.loc[i, 'goal_tot_CL'] = gol\n",
    "        df.loc[i, 'assist_tot_CL'] = assist\n",
    "        \n",
    "        print((i,df_urls.nome[i]), end=' ')"
   ]
  },
  {
   "cell_type": "code",
   "execution_count": 67,
   "metadata": {},
   "outputs": [],
   "source": [
    "df.to_csv('columns/performances.csv', index=False)"
   ]
  },
  {
   "cell_type": "markdown",
   "metadata": {},
   "source": [
    "# 14 - Ultimi newspaper"
   ]
  },
  {
   "cell_type": "code",
   "execution_count": null,
   "metadata": {},
   "outputs": [],
   "source": [
    "df = read_csv('tables/nome_nomechiave.csv')\n",
    "df['nome_url'] = [x.replace(\" \",\"+\").replace(\"-\",\"+\").lower() for x in df.nome_chiave]"
   ]
  },
  {
   "cell_type": "markdown",
   "metadata": {},
   "source": [
    "## onzemondial.com"
   ]
  },
  {
   "cell_type": "code",
   "execution_count": 21,
   "metadata": {},
   "outputs": [],
   "source": [
    "s1 = 'https://www.google.com/search?q='\n",
    "s2 = '+site:www.gazzetta.it&source=lnms&tbm=nws'\n",
    "lista_1 = [s1 + x + s2 for x in df.nome_url]\n",
    "df['onzemondial_google'] = np.nan"
   ]
  },
  {
   "cell_type": "code",
   "execution_count": null,
   "metadata": {},
   "outputs": [],
   "source": [
    "for i in range(300):\n",
    "    if isinstance(df.onzemondial_google[i], float):\n",
    "        url = lista_1[i]\n",
    "        result = BS(get(url).text, 'lxml').select('#resultStats')[0].text\n",
    "        df.loc[i, 'onzemondial_google'] = result\n",
    "        print((i, df.nome[i]), end=' ')"
   ]
  },
  {
   "cell_type": "code",
   "execution_count": null,
   "metadata": {},
   "outputs": [],
   "source": [
    "l = [x.replace('About ', '').replace(' results', '').replace(',', '').replace(' result','') for x in df.onzemondial_google]\n",
    "df1 = pd.DataFrame({'onzemondial_google': l})"
   ]
  },
  {
   "cell_type": "markdown",
   "metadata": {},
   "source": [
    "## thesun"
   ]
  },
  {
   "cell_type": "code",
   "execution_count": 33,
   "metadata": {},
   "outputs": [],
   "source": [
    "df['thesun'] = np.nan"
   ]
  },
  {
   "cell_type": "code",
   "execution_count": 34,
   "metadata": {},
   "outputs": [],
   "source": [
    "s1 = \"https://www.thesun.co.uk/?s=\"\n",
    "\n",
    "lista_2 = [s1+x for x in df.nome_url]"
   ]
  },
  {
   "cell_type": "code",
   "execution_count": null,
   "metadata": {},
   "outputs": [],
   "source": [
    "for i in range(300):\n",
    "    if isinstance(df.thesun[i], float):\n",
    "        url = lista_2[i]\n",
    "        page = BS(get(url).text,'lxml')\n",
    "        n_pages = page.select(\"div.search-result-count p\")[0].text.strip().split(\" \")[0].replace(\",\",\"\")\n",
    "        df.loc[i, 'thesun'] = n_pages\n",
    "        print((i, df.nome[i]), end=' ')"
   ]
  },
  {
   "cell_type": "code",
   "execution_count": 46,
   "metadata": {},
   "outputs": [],
   "source": [
    "df1['thesun'] = df.thesun"
   ]
  },
  {
   "cell_type": "markdown",
   "metadata": {},
   "source": [
    "## marca.com"
   ]
  },
  {
   "cell_type": "code",
   "execution_count": 37,
   "metadata": {},
   "outputs": [],
   "source": [
    "df['marca'] = np.nan"
   ]
  },
  {
   "cell_type": "code",
   "execution_count": 38,
   "metadata": {},
   "outputs": [],
   "source": [
    "s1 = \"https://cgi.marca.com/buscador/archivo_marca.html?q=\"\n",
    "\n",
    "lista_3 = [s1+unidecode(x) for x in df.nome_url]"
   ]
  },
  {
   "cell_type": "code",
   "execution_count": 44,
   "metadata": {},
   "outputs": [],
   "source": [
    "df.loc[256, 'marca'] = '0'"
   ]
  },
  {
   "cell_type": "code",
   "execution_count": null,
   "metadata": {},
   "outputs": [],
   "source": [
    "driver = webdriver.Chrome(executable_path='driver/chromedriver')\n",
    "driver.maximize_window()\n",
    "\n",
    "results = []\n",
    "\n",
    "for i in range(300):\n",
    "    if isinstance(df.marca[i], float):\n",
    "        url = lista_3[i]\n",
    "        driver.get(url)\n",
    "        sleep(np.random.uniform(2))\n",
    "        \n",
    "        result = driver.find_element_by_class_name('porsecciones').find_element_by_tag_name('a').text\n",
    "        result = re.findall(r'\\d+', result)\n",
    "        df.loc[i, 'marca'] = result\n",
    "        print((i,df.nome[i]), end=' ')\n",
    "    \n",
    "driver.quit()\n",
    "df1['marca'] = [x[0] for x in df.marca]"
   ]
  },
  {
   "cell_type": "markdown",
   "metadata": {},
   "source": [
    "## bild.de"
   ]
  },
  {
   "cell_type": "code",
   "execution_count": 56,
   "metadata": {},
   "outputs": [],
   "source": [
    "s1 = 'https://www.google.com/search?q='\n",
    "s2 = '+site:bild.de&source=lnms&tbm=nws'\n",
    "lista_1 = [s1 + x + s2 for x in df.nome_url]\n",
    "df['bild_google'] = np.nan"
   ]
  },
  {
   "cell_type": "code",
   "execution_count": null,
   "metadata": {},
   "outputs": [],
   "source": [
    "for i in range(300):\n",
    "    if isinstance(df.bild_google[i], float):\n",
    "        url = lista_1[i]\n",
    "        result = BS(get(url).text, 'lxml').select('#resultStats')[0].text\n",
    "        df.loc[i, 'bild_google'] = result\n",
    "        print((i, df.nome[i]), end=' ')"
   ]
  },
  {
   "cell_type": "code",
   "execution_count": null,
   "metadata": {},
   "outputs": [],
   "source": [
    "l = [x.replace('Ungefähr ', '').replace(' Ergebnisse', '').replace(' Ergebnis', '').replace('.', '') for x in df.bild_google]\n",
    "df1['bild.de'] = l"
   ]
  },
  {
   "cell_type": "markdown",
   "metadata": {},
   "source": [
    "## eurosport.de"
   ]
  },
  {
   "cell_type": "code",
   "execution_count": 66,
   "metadata": {},
   "outputs": [],
   "source": [
    "s1 = 'https://www.google.com/search?q='\n",
    "s2 = '+site:eurosport.de&source=lnms&tbm=nws'\n",
    "lista_1 = [s1 + x + s2 for x in df.nome_url]\n",
    "df['eurosportDE_google'] = np.nan"
   ]
  },
  {
   "cell_type": "code",
   "execution_count": null,
   "metadata": {},
   "outputs": [],
   "source": [
    "for i in range(300):\n",
    "    if isinstance(df.eurosportDE_google[i], float):\n",
    "        url = lista_1[i]\n",
    "        result = BS(get(url).text, 'lxml').select('#resultStats')[0].text\n",
    "        df.loc[i, 'eurosportDE_google'] = result\n",
    "        print((i, df.nome[i]), end=' ')"
   ]
  },
  {
   "cell_type": "code",
   "execution_count": null,
   "metadata": {},
   "outputs": [],
   "source": [
    "l = [x.replace('Ungefähr ', '').replace(' Ergebnisse', '').replace(' Ergebnis', '').replace('.', '') for x in df.eurosportDE_google]\n",
    "df1['eurosportDE_google'] = l"
   ]
  },
  {
   "cell_type": "markdown",
   "metadata": {},
   "source": [
    "## lequipe"
   ]
  },
  {
   "cell_type": "code",
   "execution_count": 73,
   "metadata": {},
   "outputs": [],
   "source": [
    "s1 = 'https://www.google.com/search?q='\n",
    "s2 = '+site:lequipe.fr&source=lnms&tbm=nws'\n",
    "lista_1 = [s1 + x + s2 for x in df.nome_url]\n",
    "df['lequipe_google'] = np.nan"
   ]
  },
  {
   "cell_type": "code",
   "execution_count": null,
   "metadata": {},
   "outputs": [],
   "source": [
    "for i in range(300):\n",
    "    if isinstance(df.lequipe_google[i], float):\n",
    "        url = lista_1[i]\n",
    "        result = BS(get(url).text, 'lxml').select('#resultStats')[0].text\n",
    "        df.loc[i, 'lequipe_google'] = result\n",
    "        print((i, df.nome[i]), end=' ')"
   ]
  },
  {
   "cell_type": "code",
   "execution_count": null,
   "metadata": {},
   "outputs": [],
   "source": [
    "l = [''.join(re.findall('(\\d)',unidecode(x))) for x in df.lequipe_google]\n",
    "df1['lequipe_google'] = l"
   ]
  },
  {
   "cell_type": "markdown",
   "metadata": {},
   "source": [
    "## mundodeportivo"
   ]
  },
  {
   "cell_type": "code",
   "execution_count": 87,
   "metadata": {},
   "outputs": [],
   "source": [
    "s1 = 'https://www.google.com/search?q='\n",
    "s2 = '+site:mundodeportivo.com&source=lnms&tbm=nws'\n",
    "lista_1 = [s1 + x + s2 for x in df.nome_url]\n",
    "df['mundodeportivo_google'] = np.nan"
   ]
  },
  {
   "cell_type": "code",
   "execution_count": null,
   "metadata": {},
   "outputs": [],
   "source": [
    "for i in range(300):\n",
    "    if isinstance(df.mundodeportivo_google[i], float):\n",
    "        url = lista_1[i]\n",
    "        result = BS(get(url).text, 'lxml').select('#resultStats')[0].text\n",
    "        df.loc[i, 'mundodeportivo_google'] = result\n",
    "        print((i, df.nome[i]), end=' ')"
   ]
  },
  {
   "cell_type": "code",
   "execution_count": null,
   "metadata": {},
   "outputs": [],
   "source": [
    "l = [''.join(re.findall('(\\d)',unidecode(x))) for x in df.mundodeportivo_google]\n",
    "df1['mundodeportivo_google'] = l"
   ]
  },
  {
   "cell_type": "markdown",
   "metadata": {},
   "source": [
    "## espn"
   ]
  },
  {
   "cell_type": "code",
   "execution_count": 94,
   "metadata": {},
   "outputs": [],
   "source": [
    "s1 = 'https://www.google.com/search?q='\n",
    "s2 = '+site:espn.com&source=lnms&tbm=nws'\n",
    "lista_1 = [s1 + x + s2 for x in df.nome_url]\n",
    "df['espn_google'] = np.nan"
   ]
  },
  {
   "cell_type": "code",
   "execution_count": null,
   "metadata": {},
   "outputs": [],
   "source": [
    "for i in range(300):\n",
    "    if isinstance(df.espn_google[i], float):\n",
    "        url = lista_1[i]\n",
    "        result = BS(get(url).text, 'lxml').select('#resultStats')[0].text\n",
    "        df.loc[i, 'espn_google'] = result\n",
    "        print((i, df.nome[i]), end=' ')"
   ]
  },
  {
   "cell_type": "code",
   "execution_count": null,
   "metadata": {},
   "outputs": [],
   "source": [
    "l = [''.join(re.findall('(\\d)',unidecode(x))) for x in df.espn_google]\n",
    "df1['espn_google'] = l"
   ]
  },
  {
   "cell_type": "markdown",
   "metadata": {},
   "source": [
    "## beinsports"
   ]
  },
  {
   "cell_type": "code",
   "execution_count": 100,
   "metadata": {},
   "outputs": [],
   "source": [
    "s1 = 'https://www.google.com/search?q='\n",
    "s2 = '+site:beinsports.com&source=lnms&tbm=nws'\n",
    "lista_1 = [s1 + x + s2 for x in df.nome_url]\n",
    "df['bein_google'] = np.nan"
   ]
  },
  {
   "cell_type": "code",
   "execution_count": null,
   "metadata": {},
   "outputs": [],
   "source": [
    "for i in range(300):\n",
    "    if isinstance(df.bein_google[i], float):\n",
    "        url = lista_1[i]\n",
    "        result = BS(get(url).text, 'lxml').select('#resultStats')[0].text\n",
    "        df.loc[i, 'bein_google'] = result\n",
    "        print((i, df.nome[i]), end=' ')"
   ]
  },
  {
   "cell_type": "code",
   "execution_count": null,
   "metadata": {},
   "outputs": [],
   "source": [
    "l = [''.join(re.findall('(\\d)',unidecode(x))) for x in df.bein_google]\n",
    "df1['bein_google'] = l"
   ]
  },
  {
   "cell_type": "markdown",
   "metadata": {},
   "source": [
    "## eurosport.fr"
   ]
  },
  {
   "cell_type": "code",
   "execution_count": 5,
   "metadata": {
    "scrolled": true
   },
   "outputs": [],
   "source": [
    "url = 'https://docs.google.com/spreadsheets/d/1RPiYmNxy8NWKp-uu_swOkRkTuq9cqJNnzJpl5BPliDM/export?format=csv&id=1RPiYmNxy8NWKp-uu_swOkRkTuq9cqJNnzJpl5BPliDM&gid=2001946666'\n",
    "r = get(url)\n",
    "data = r.content.decode('utf-8')\n",
    "df = pd.read_csv(StringIO(data))\n",
    "df = pd.DataFrame(df[['nome_chiave']])\n",
    "df['nome_url'] = [x.replace(\" \",\"+\").replace(\"-\",\"+\").lower() for x in df.nome_chiave]"
   ]
  },
  {
   "cell_type": "code",
   "execution_count": 6,
   "metadata": {},
   "outputs": [],
   "source": [
    "s1 = 'https://www.google.com/search?q='\n",
    "s2 = '+site:eurosport.fr&source=lnms&tbm=nws'\n",
    "lista_1 = [s1 + x + s2 for x in df.nome_url]\n",
    "df['eurosportFR'] = np.nan"
   ]
  },
  {
   "cell_type": "code",
   "execution_count": null,
   "metadata": {},
   "outputs": [],
   "source": [
    "for i in range(300):\n",
    "    if isinstance(df.eurosportFR[i], float):\n",
    "        url = lista_1[i]\n",
    "        result = BS(get(url).text, 'lxml').select('#resultStats')[0].text\n",
    "        df.loc[i, 'eurosportFR'] = result\n",
    "        if result == '':\n",
    "            df.loc[i, 'eurosportFR'] = np.nan\n",
    "        print((i, df.nome_chiave[i], result), end=' ')"
   ]
  },
  {
   "cell_type": "code",
   "execution_count": 11,
   "metadata": {},
   "outputs": [],
   "source": [
    "l = [''.join(re.findall('(\\d)',unidecode(x))) for x in df.eurosportFR]\n",
    "df['eurosportFR'] = l\n",
    "df.eurosportFR[df['eurosportFR'] == ''] = '1'\n",
    "df[['eurosportFR']].to_csv('columns/eurosportFR.csv', index=False)"
   ]
  },
  {
   "cell_type": "code",
   "execution_count": null,
   "metadata": {},
   "outputs": [],
   "source": []
  }
 ],
 "metadata": {
  "kernelspec": {
   "display_name": "Python 3",
   "language": "python",
   "name": "python3"
  },
  "language_info": {
   "codemirror_mode": {
    "name": "ipython",
    "version": 3
   },
   "file_extension": ".py",
   "mimetype": "text/x-python",
   "name": "python",
   "nbconvert_exporter": "python",
   "pygments_lexer": "ipython3",
   "version": "3.6.5"
  }
 },
 "nbformat": 4,
 "nbformat_minor": 2
}
