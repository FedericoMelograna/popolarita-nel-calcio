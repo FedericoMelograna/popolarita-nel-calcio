{
 "cells": [
  {
   "cell_type": "code",
   "execution_count": 1,
   "metadata": {},
   "outputs": [],
   "source": [
    "import requests\n",
    "from bs4 import BeautifulSoup\n",
    "import ast\n",
    "import numpy as np\n",
    "import pandas as pd"
   ]
  },
  {
   "cell_type": "code",
   "execution_count": 2,
   "metadata": {},
   "outputs": [],
   "source": [
    "headers = {\"User-Agent\":\"Mozilla/5.0\"}\n",
    "\n",
    "page = requests.get('https://www.transfermarkt.it/gianluigi-buffon/profil/spieler/5023', headers=headers)"
   ]
  },
  {
   "cell_type": "code",
   "execution_count": 3,
   "metadata": {
    "scrolled": true
   },
   "outputs": [],
   "source": [
    "soup = BeautifulSoup(page.text, 'lxml')"
   ]
  },
  {
   "cell_type": "code",
   "execution_count": 5,
   "metadata": {},
   "outputs": [],
   "source": [
    "a = 'https://www.transfermarkt.it/gianluigi-buffon/profil/spieler/5023'"
   ]
  },
  {
   "cell_type": "code",
   "execution_count": 9,
   "metadata": {},
   "outputs": [
    {
     "data": {
      "text/plain": [
       "'gianluigi-buffon'"
      ]
     },
     "execution_count": 9,
     "metadata": {},
     "output_type": "execute_result"
    }
   ],
   "source": [
    "a.split('/')[-4]"
   ]
  },
  {
   "cell_type": "code",
   "execution_count": null,
   "metadata": {
    "scrolled": true
   },
   "outputs": [],
   "source": [
    "soup"
   ]
  },
  {
   "cell_type": "code",
   "execution_count": 9,
   "metadata": {},
   "outputs": [
    {
     "data": {
      "text/plain": [
       "'Ligue 1'"
      ]
     },
     "execution_count": 9,
     "metadata": {},
     "output_type": "execute_result"
    }
   ],
   "source": [
    "soup.find('span', attrs = {'class': 'mediumpunkt'}).text.strip()"
   ]
  },
  {
   "cell_type": "code",
   "execution_count": null,
   "metadata": {
    "scrolled": true
   },
   "outputs": [],
   "source": [
    "league = soup.find('div', attrs={'class': 'keys'}).find_all('span')[0].text\n",
    "league"
   ]
  },
  {
   "cell_type": "code",
   "execution_count": null,
   "metadata": {},
   "outputs": [],
   "source": [
    "posizione = soup.find(\"table\", attrs = {\"class\": \"auflistung\"}).find_all(\"tr\")[6].find(\"td\").text.strip()\n",
    "posizione"
   ]
  },
  {
   "cell_type": "code",
   "execution_count": null,
   "metadata": {},
   "outputs": [],
   "source": [
    "righeTab = soup.find(\"table\", attrs = {\"class\": \"auflistung\"}).find_all(\"tr\")"
   ]
  },
  {
   "cell_type": "code",
   "execution_count": null,
   "metadata": {
    "scrolled": true
   },
   "outputs": [],
   "source": [
    "righeTab"
   ]
  },
  {
   "cell_type": "code",
   "execution_count": null,
   "metadata": {},
   "outputs": [],
   "source": [
    "for r in righeTab:\n",
    "    if \"Posizione\" in str(r):\n",
    "        posizione = r.find(\"td\").text.strip()"
   ]
  },
  {
   "cell_type": "code",
   "execution_count": null,
   "metadata": {},
   "outputs": [],
   "source": [
    "posizione"
   ]
  },
  {
   "cell_type": "code",
   "execution_count": null,
   "metadata": {},
   "outputs": [],
   "source": []
  },
  {
   "cell_type": "code",
   "execution_count": null,
   "metadata": {},
   "outputs": [],
   "source": []
  },
  {
   "cell_type": "code",
   "execution_count": null,
   "metadata": {},
   "outputs": [],
   "source": [
    "foot = soup.find(\"table\", attrs = {\"class\": \"auflistung\"}).find_all(\"tr\")[7].find(\"td\").text.strip()"
   ]
  },
  {
   "cell_type": "code",
   "execution_count": null,
   "metadata": {},
   "outputs": [],
   "source": [
    "nome = soup.title.text"
   ]
  },
  {
   "cell_type": "code",
   "execution_count": null,
   "metadata": {},
   "outputs": [],
   "source": [
    "nation = soup.find(\"span\",attrs = {\"itemprop\":\"nationality\"}).text"
   ]
  },
  {
   "cell_type": "code",
   "execution_count": null,
   "metadata": {},
   "outputs": [],
   "source": [
    "height = soup.find(\"span\",attrs = {\"itemprop\":\"height\"}).text"
   ]
  },
  {
   "cell_type": "code",
   "execution_count": null,
   "metadata": {},
   "outputs": [],
   "source": [
    "str_soup = str(soup)"
   ]
  },
  {
   "cell_type": "code",
   "execution_count": null,
   "metadata": {},
   "outputs": [],
   "source": [
    "a = \"jQuery(window).on('load',function()\" \n",
    "b = str_soup.split(a)[1]"
   ]
  },
  {
   "cell_type": "code",
   "execution_count": null,
   "metadata": {},
   "outputs": [],
   "source": [
    "c = b.split(\"'data'\")[1]"
   ]
  },
  {
   "cell_type": "code",
   "execution_count": null,
   "metadata": {},
   "outputs": [],
   "source": [
    "c = c[1:]"
   ]
  },
  {
   "cell_type": "code",
   "execution_count": null,
   "metadata": {},
   "outputs": [],
   "source": [
    "c = c[:(c.find(']')+1)]"
   ]
  },
  {
   "cell_type": "code",
   "execution_count": null,
   "metadata": {},
   "outputs": [],
   "source": [
    "lista = ast.literal_eval(c)"
   ]
  },
  {
   "cell_type": "code",
   "execution_count": null,
   "metadata": {},
   "outputs": [],
   "source": [
    "df = pd.DataFrame(lista)"
   ]
  },
  {
   "cell_type": "code",
   "execution_count": null,
   "metadata": {},
   "outputs": [],
   "source": [
    "df = df.drop(['marker','mw','x'], axis=1)"
   ]
  },
  {
   "cell_type": "code",
   "execution_count": null,
   "metadata": {},
   "outputs": [],
   "source": [
    "df.head()"
   ]
  },
  {
   "cell_type": "markdown",
   "metadata": {},
   "source": [
    "# FUNZIONE"
   ]
  },
  {
   "cell_type": "code",
   "execution_count": 2,
   "metadata": {},
   "outputs": [],
   "source": [
    "def ExtractData(url):\n",
    "    headers = {\"User-Agent\":\"Mozilla/5.0\"}\n",
    "    page = requests.get(url, headers=headers)\n",
    "    soup = BeautifulSoup(page.text, 'lxml')\n",
    "        \n",
    "    righeTab = soup.find(\"table\", attrs = {\"class\": \"auflistung\"}).find_all(\"tr\")    \n",
    "    for r in righeTab:\n",
    "        if \"Posizione\" in str(r):\n",
    "            posizione = r.find(\"td\").text.strip()\n",
    "        elif \"Piede\" in str(r):\n",
    "            foot = r.find(\"td\").text.strip()\n",
    "\n",
    "    nome = soup.title.text\n",
    "    league = soup.find('div', attrs={'class': 'keys'}).find_all('span')[0].text\n",
    "    nation = soup.find(\"span\",attrs = {\"itemprop\":\"nationality\"}).text\n",
    "    age2 = int(soup.find(\"span\",attrs = {\"itemprop\":\"birthDate\"}).text.strip()[-3:-1])\n",
    "    try:\n",
    "        height = float(soup.find(\"span\",attrs = {\"itemprop\":\"height\"}).text[0:4].replace(\",\",\".\"))\n",
    "    except:\n",
    "        height = np.nan\n",
    "    \n",
    "    soup = str(soup)\n",
    "    soup = soup.split(\"jQuery(window).on('load',function()\")[1].split(\"'data'\")[1]\n",
    "    soup = soup[1:(soup.find(']')+1)]\n",
    "    lista = ast.literal_eval(soup)\n",
    "    df = pd.DataFrame(lista).drop(['marker','mw','x'], axis=1)\n",
    "    df['name'] = nome.split(' - ')[0]\n",
    "    df['role'] = posizione\n",
    "    df['league'] = league\n",
    "    df['nation'] = nation\n",
    "    df['height'] = height \n",
    "    df['foot'] = foot\n",
    "    df['age2'] = age2\n",
    "    \n",
    "    return df"
   ]
  },
  {
   "cell_type": "code",
   "execution_count": null,
   "metadata": {
    "scrolled": true
   },
   "outputs": [],
   "source": [
    "ExtractData('https://www.transfermarkt.it/franck-ribery/profil/spieler/22068')"
   ]
  },
  {
   "cell_type": "code",
   "execution_count": null,
   "metadata": {},
   "outputs": [],
   "source": [
    "aa='07/apr/1983\\t\\t\\t\\t\\t\\t\\t\\t\\t\\t\\t\\t\\t\\t\\t\\t\\t\\t\\t(35)'"
   ]
  },
  {
   "cell_type": "code",
   "execution_count": null,
   "metadata": {},
   "outputs": [],
   "source": [
    "aa[-3:-1]"
   ]
  },
  {
   "cell_type": "code",
   "execution_count": null,
   "metadata": {},
   "outputs": [],
   "source": []
  },
  {
   "cell_type": "code",
   "execution_count": null,
   "metadata": {},
   "outputs": [],
   "source": []
  },
  {
   "cell_type": "code",
   "execution_count": null,
   "metadata": {},
   "outputs": [],
   "source": [
    "links_leagues = ['https://www.transfermarkt.it/jumplist/startseite/wettbewerb/IT1',\n",
    "                \"https://www.transfermarkt.it/jumplist/startseite/wettbewerb/L1\",\n",
    "                \"https://www.transfermarkt.it/jumplist/startseite/wettbewerb/FR1\",\n",
    "                \"https://www.transfermarkt.it/jumplist/startseite/wettbewerb/ES1\",\n",
    "                \"https://www.transfermarkt.it/jumplist/startseite/wettbewerb/GB1\"]"
   ]
  },
  {
   "cell_type": "code",
   "execution_count": null,
   "metadata": {},
   "outputs": [],
   "source": [
    "listone = []\n",
    "\n",
    "headers = {\"User-Agent\":\"Mozilla/5.0\"}\n",
    "for url in links_leagues:\n",
    "    index = BeautifulSoup(requests.get(url, headers=headers).text, 'lxml')\n",
    "    div1 = index.find('div', attrs={'id': 'yw1'})\n",
    "    table1 = div1.find('table')\n",
    "    linksTeam = list(set(['https://www.transfermarkt.it'+x['href'] for x in table1.find_all('a', attrs={'class': 'vereinprofil_tooltip'})]))\n",
    "    for link in linksTeam:\n",
    "        page = BeautifulSoup(requests.get(link, headers=headers).text, 'lxml')\n",
    "        table_i = page.find_all('table', attrs={'class': 'items'})[0]\n",
    "        url_giocatori = list(set(['https://www.transfermarkt.it'+x['href'] for x in table_i.find_all('a', attrs={'class':'spielprofil_tooltip'})]))\n",
    "        listone += url_giocatori\n",
    "        "
   ]
  },
  {
   "cell_type": "code",
   "execution_count": null,
   "metadata": {
    "scrolled": true
   },
   "outputs": [],
   "source": [
    "listone\n",
    "len(listone)"
   ]
  },
  {
   "cell_type": "code",
   "execution_count": null,
   "metadata": {},
   "outputs": [],
   "source": [
    "df_links_players = pd.DataFrame({'urls': listone})"
   ]
  },
  {
   "cell_type": "code",
   "execution_count": null,
   "metadata": {},
   "outputs": [],
   "source": [
    "df_links_players.head()"
   ]
  },
  {
   "cell_type": "code",
   "execution_count": null,
   "metadata": {},
   "outputs": [],
   "source": [
    "df_links_players.to_csv('urls.csv', index=False)"
   ]
  },
  {
   "cell_type": "code",
   "execution_count": null,
   "metadata": {},
   "outputs": [],
   "source": []
  },
  {
   "cell_type": "code",
   "execution_count": 3,
   "metadata": {},
   "outputs": [],
   "source": [
    "df_links_players = pd.read_csv('urls.csv')"
   ]
  },
  {
   "cell_type": "code",
   "execution_count": 4,
   "metadata": {
    "scrolled": false
   },
   "outputs": [
    {
     "name": "stdout",
     "output_type": "stream",
     "text": [
      "0 200 400 600 800 1000 1200 1400 1600 1800 2000 2200 2400 2600 126\n"
     ]
    }
   ],
   "source": [
    "mydata = pd.DataFrame()\n",
    "errori_tot = 0\n",
    "\n",
    "#len(df_links_players.urls)\n",
    "for i in range(len(df_links_players.urls)):\n",
    "    try:\n",
    "        df_help = ExtractData(df_links_players.urls[i])\n",
    "        mydata = pd.concat([mydata,df_help])\n",
    "        mydata.reset_index(drop=True, inplace=True)\n",
    "    except:\n",
    "        errori_tot+=1\n",
    "    \n",
    "    if (i%200)==0:\n",
    "        print(i, end=' ')\n",
    "        \n",
    "print(errori_tot)"
   ]
  },
  {
   "cell_type": "code",
   "execution_count": 7,
   "metadata": {},
   "outputs": [
    {
     "data": {
      "text/plain": [
       "(39918, 11)"
      ]
     },
     "execution_count": 7,
     "metadata": {},
     "output_type": "execute_result"
    }
   ],
   "source": [
    "mydata.shape"
   ]
  },
  {
   "cell_type": "code",
   "execution_count": 8,
   "metadata": {},
   "outputs": [],
   "source": [
    "mydata.to_csv('mydata.csv', index=False)"
   ]
  },
  {
   "cell_type": "code",
   "execution_count": 12,
   "metadata": {},
   "outputs": [
    {
     "data": {
      "text/plain": [
       "16972"
      ]
     },
     "execution_count": 12,
     "metadata": {},
     "output_type": "execute_result"
    }
   ],
   "source": [
    "sum(mydata.age2 >= 29)"
   ]
  },
  {
   "cell_type": "code",
   "execution_count": null,
   "metadata": {},
   "outputs": [],
   "source": []
  }
 ],
 "metadata": {
  "kernelspec": {
   "display_name": "Python 2",
   "language": "python",
   "name": "python2"
  },
  "language_info": {
   "codemirror_mode": {
    "name": "ipython",
    "version": 2
   },
   "file_extension": ".py",
   "mimetype": "text/x-python",
   "name": "python",
   "nbconvert_exporter": "python",
   "pygments_lexer": "ipython2",
   "version": "2.7.15"
  }
 },
 "nbformat": 4,
 "nbformat_minor": 2
}
