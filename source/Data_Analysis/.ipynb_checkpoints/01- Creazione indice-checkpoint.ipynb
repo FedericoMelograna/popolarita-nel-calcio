{
 "cells": [
  {
   "cell_type": "markdown",
   "metadata": {},
   "source": [
    "# 01 - Creazione indice"
   ]
  },
  {
   "cell_type": "code",
   "execution_count": 25,
   "metadata": {},
   "outputs": [],
   "source": [
    "import pandas as pd\n",
    "import numpy as np\n",
    "from numpy import log\n",
    "from sklearn.decomposition import PCA\n",
    "from sklearn.preprocessing import StandardScaler\n",
    "from sklearn.linear_model import LinearRegression\n",
    "import matplotlib.pyplot as plt\n",
    "from requests import get\n",
    "from io import StringIO\n",
    "from sklearn import preprocessing\n",
    "%matplotlib inline  \n",
    "plt.rcParams['figure.dpi'] = 120"
   ]
  },
  {
   "cell_type": "code",
   "execution_count": 26,
   "metadata": {},
   "outputs": [
    {
     "data": {
      "text/html": [
       "<div>\n",
       "<style scoped>\n",
       "    .dataframe tbody tr th:only-of-type {\n",
       "        vertical-align: middle;\n",
       "    }\n",
       "\n",
       "    .dataframe tbody tr th {\n",
       "        vertical-align: top;\n",
       "    }\n",
       "\n",
       "    .dataframe thead th {\n",
       "        text-align: right;\n",
       "    }\n",
       "</style>\n",
       "<table border=\"1\" class=\"dataframe\">\n",
       "  <thead>\n",
       "    <tr style=\"text-align: right;\">\n",
       "      <th></th>\n",
       "      <th>nome</th>\n",
       "      <th>nome_chiave</th>\n",
       "      <th>eta</th>\n",
       "      <th>ruolo</th>\n",
       "      <th>ruolo_dettaglio</th>\n",
       "      <th>squadra</th>\n",
       "      <th>nazione_squadra</th>\n",
       "      <th>nazione_giocatore</th>\n",
       "      <th>instagram_followers</th>\n",
       "      <th>facebook_followers</th>\n",
       "      <th>...</th>\n",
       "      <th>goal_2017_CL</th>\n",
       "      <th>assist_2017_CL</th>\n",
       "      <th>pres_tot</th>\n",
       "      <th>goal_tot</th>\n",
       "      <th>assist_tot</th>\n",
       "      <th>pres_tot_CL</th>\n",
       "      <th>goal_tot_CL</th>\n",
       "      <th>assist_tot_CL</th>\n",
       "      <th>whoscored1819</th>\n",
       "      <th>valore</th>\n",
       "    </tr>\n",
       "  </thead>\n",
       "  <tbody>\n",
       "    <tr>\n",
       "      <th>0</th>\n",
       "      <td>Kylian Mbappé</td>\n",
       "      <td>Mbappé</td>\n",
       "      <td>19</td>\n",
       "      <td>Attaccante</td>\n",
       "      <td>Ala destra</td>\n",
       "      <td>FC Paris Saint-Germain</td>\n",
       "      <td>Francia</td>\n",
       "      <td>Francia</td>\n",
       "      <td>24019703.0</td>\n",
       "      <td>1639467.0</td>\n",
       "      <td>...</td>\n",
       "      <td>4</td>\n",
       "      <td>3</td>\n",
       "      <td>124</td>\n",
       "      <td>64</td>\n",
       "      <td>42</td>\n",
       "      <td>23</td>\n",
       "      <td>13</td>\n",
       "      <td>7</td>\n",
       "      <td>7.96</td>\n",
       "      <td>180000000</td>\n",
       "    </tr>\n",
       "    <tr>\n",
       "      <th>1</th>\n",
       "      <td>Neymar</td>\n",
       "      <td>Neymar</td>\n",
       "      <td>26</td>\n",
       "      <td>Attaccante</td>\n",
       "      <td>Ala sinistra</td>\n",
       "      <td>FC Paris Saint-Germain</td>\n",
       "      <td>Francia</td>\n",
       "      <td>Brasile</td>\n",
       "      <td>107716768.0</td>\n",
       "      <td>60699722.0</td>\n",
       "      <td>...</td>\n",
       "      <td>6</td>\n",
       "      <td>3</td>\n",
       "      <td>369</td>\n",
       "      <td>219</td>\n",
       "      <td>135</td>\n",
       "      <td>53</td>\n",
       "      <td>32</td>\n",
       "      <td>23</td>\n",
       "      <td>8.41</td>\n",
       "      <td>180000000</td>\n",
       "    </tr>\n",
       "    <tr>\n",
       "      <th>2</th>\n",
       "      <td>Leo Messi</td>\n",
       "      <td>Messi</td>\n",
       "      <td>31</td>\n",
       "      <td>Attaccante</td>\n",
       "      <td>Ala destra</td>\n",
       "      <td>FC Barcellona</td>\n",
       "      <td>Spagna</td>\n",
       "      <td>Argentina</td>\n",
       "      <td>103764191.0</td>\n",
       "      <td>89898268.0</td>\n",
       "      <td>...</td>\n",
       "      <td>6</td>\n",
       "      <td>2</td>\n",
       "      <td>657</td>\n",
       "      <td>573</td>\n",
       "      <td>229</td>\n",
       "      <td>129</td>\n",
       "      <td>106</td>\n",
       "      <td>28</td>\n",
       "      <td>8.71</td>\n",
       "      <td>180000000</td>\n",
       "    </tr>\n",
       "    <tr>\n",
       "      <th>3</th>\n",
       "      <td>Mohamed Salah</td>\n",
       "      <td>Salah</td>\n",
       "      <td>26</td>\n",
       "      <td>Attaccante</td>\n",
       "      <td>Ala destra</td>\n",
       "      <td>FC Liverpool</td>\n",
       "      <td>Inghilterra</td>\n",
       "      <td>Egitto</td>\n",
       "      <td>21661975.0</td>\n",
       "      <td>11016135.0</td>\n",
       "      <td>...</td>\n",
       "      <td>10</td>\n",
       "      <td>5</td>\n",
       "      <td>328</td>\n",
       "      <td>135</td>\n",
       "      <td>77</td>\n",
       "      <td>34</td>\n",
       "      <td>16</td>\n",
       "      <td>6</td>\n",
       "      <td>7.61</td>\n",
       "      <td>150000000</td>\n",
       "    </tr>\n",
       "    <tr>\n",
       "      <th>4</th>\n",
       "      <td>Harry Kane</td>\n",
       "      <td>Kane</td>\n",
       "      <td>25</td>\n",
       "      <td>Attaccante</td>\n",
       "      <td>Punta centrale</td>\n",
       "      <td>Tottenham Hotspur</td>\n",
       "      <td>Inghilterra</td>\n",
       "      <td>Inghilterra</td>\n",
       "      <td>7389999.0</td>\n",
       "      <td>1660408.0</td>\n",
       "      <td>...</td>\n",
       "      <td>7</td>\n",
       "      <td>2</td>\n",
       "      <td>317</td>\n",
       "      <td>182</td>\n",
       "      <td>43</td>\n",
       "      <td>16</td>\n",
       "      <td>13</td>\n",
       "      <td>3</td>\n",
       "      <td>7.32</td>\n",
       "      <td>150000000</td>\n",
       "    </tr>\n",
       "  </tbody>\n",
       "</table>\n",
       "<p>5 rows × 55 columns</p>\n",
       "</div>"
      ],
      "text/plain": [
       "            nome nome_chiave  eta       ruolo ruolo_dettaglio  \\\n",
       "0  Kylian Mbappé      Mbappé   19  Attaccante      Ala destra   \n",
       "1         Neymar      Neymar   26  Attaccante    Ala sinistra   \n",
       "2      Leo Messi       Messi   31  Attaccante      Ala destra   \n",
       "3  Mohamed Salah       Salah   26  Attaccante      Ala destra   \n",
       "4     Harry Kane        Kane   25  Attaccante  Punta centrale   \n",
       "\n",
       "                  squadra nazione_squadra nazione_giocatore  \\\n",
       "0  FC Paris Saint-Germain         Francia           Francia   \n",
       "1  FC Paris Saint-Germain         Francia           Brasile   \n",
       "2           FC Barcellona          Spagna         Argentina   \n",
       "3            FC Liverpool     Inghilterra            Egitto   \n",
       "4       Tottenham Hotspur     Inghilterra       Inghilterra   \n",
       "\n",
       "   instagram_followers  facebook_followers    ...      goal_2017_CL  \\\n",
       "0           24019703.0           1639467.0    ...                 4   \n",
       "1          107716768.0          60699722.0    ...                 6   \n",
       "2          103764191.0          89898268.0    ...                 6   \n",
       "3           21661975.0          11016135.0    ...                10   \n",
       "4            7389999.0           1660408.0    ...                 7   \n",
       "\n",
       "   assist_2017_CL  pres_tot  goal_tot  assist_tot  pres_tot_CL  goal_tot_CL  \\\n",
       "0               3       124        64          42           23           13   \n",
       "1               3       369       219         135           53           32   \n",
       "2               2       657       573         229          129          106   \n",
       "3               5       328       135          77           34           16   \n",
       "4               2       317       182          43           16           13   \n",
       "\n",
       "   assist_tot_CL  whoscored1819     valore  \n",
       "0              7           7.96  180000000  \n",
       "1             23           8.41  180000000  \n",
       "2             28           8.71  180000000  \n",
       "3              6           7.61  150000000  \n",
       "4              3           7.32  150000000  \n",
       "\n",
       "[5 rows x 55 columns]"
      ]
     },
     "execution_count": 26,
     "metadata": {},
     "output_type": "execute_result"
    }
   ],
   "source": [
    "#url = 'https://docs.google.com/spreadsheets/d/1RPiYmNxy8NWKp-uu_swOkRkTuq9cqJNnzJpl5BPliDM/export?format=csv&id=1RPiYmNxy8NWKp-uu_swOkRkTuq9cqJNnzJpl5BPliDM&gid=2001946666'\n",
    "#r = get(url)\n",
    "#data = r.content.decode('utf-8')\n",
    "\n",
    "df = pd.read_csv('data/full_dataset.csv')\n",
    "df.head()"
   ]
  },
  {
   "cell_type": "markdown",
   "metadata": {},
   "source": [
    "Costruiamo una funzione per normalizzare i dati"
   ]
  },
  {
   "cell_type": "code",
   "execution_count": 27,
   "metadata": {},
   "outputs": [],
   "source": [
    "def Normalize(df):\n",
    "    n = df.shape[1]\n",
    "    c = df.columns\n",
    "    o = pd.DataFrame(columns=c)\n",
    "    for i in range(n):\n",
    "        x = df.iloc[:, i].values\n",
    "        z = (x-x.min())/(x.max()-x.min())\n",
    "        o[c[i]] = z\n",
    "    return o"
   ]
  },
  {
   "cell_type": "markdown",
   "metadata": {},
   "source": [
    "## Correzione missing e rimozione unità statistiche"
   ]
  },
  {
   "cell_type": "markdown",
   "metadata": {},
   "source": [
    "## Instagram"
   ]
  },
  {
   "cell_type": "markdown",
   "metadata": {},
   "source": [
    "Identifichiamo 4 giocatori che non hanno Instagram e decidiamo di rimuoverli dal dataframe in quanto nessuno di loro ha un social ufficiale"
   ]
  },
  {
   "cell_type": "code",
   "execution_count": 28,
   "metadata": {},
   "outputs": [
    {
     "data": {
      "text/html": [
       "<div>\n",
       "<style scoped>\n",
       "    .dataframe tbody tr th:only-of-type {\n",
       "        vertical-align: middle;\n",
       "    }\n",
       "\n",
       "    .dataframe tbody tr th {\n",
       "        vertical-align: top;\n",
       "    }\n",
       "\n",
       "    .dataframe thead th {\n",
       "        text-align: right;\n",
       "    }\n",
       "</style>\n",
       "<table border=\"1\" class=\"dataframe\">\n",
       "  <thead>\n",
       "    <tr style=\"text-align: right;\">\n",
       "      <th></th>\n",
       "      <th>nome</th>\n",
       "      <th>nome_chiave</th>\n",
       "      <th>eta</th>\n",
       "      <th>ruolo</th>\n",
       "      <th>ruolo_dettaglio</th>\n",
       "      <th>squadra</th>\n",
       "      <th>nazione_squadra</th>\n",
       "      <th>nazione_giocatore</th>\n",
       "      <th>instagram_followers</th>\n",
       "      <th>facebook_followers</th>\n",
       "      <th>...</th>\n",
       "      <th>goal_2017_CL</th>\n",
       "      <th>assist_2017_CL</th>\n",
       "      <th>pres_tot</th>\n",
       "      <th>goal_tot</th>\n",
       "      <th>assist_tot</th>\n",
       "      <th>pres_tot_CL</th>\n",
       "      <th>goal_tot_CL</th>\n",
       "      <th>assist_tot_CL</th>\n",
       "      <th>whoscored1819</th>\n",
       "      <th>valore</th>\n",
       "    </tr>\n",
       "  </thead>\n",
       "  <tbody>\n",
       "    <tr>\n",
       "      <th>31</th>\n",
       "      <td>Sergio Busquets</td>\n",
       "      <td>Busquets</td>\n",
       "      <td>30</td>\n",
       "      <td>Centrocampista</td>\n",
       "      <td>Mediano</td>\n",
       "      <td>FC Barcellona</td>\n",
       "      <td>Spagna</td>\n",
       "      <td>Spagna</td>\n",
       "      <td>NaN</td>\n",
       "      <td>3113955.0</td>\n",
       "      <td>...</td>\n",
       "      <td>0</td>\n",
       "      <td>0</td>\n",
       "      <td>507</td>\n",
       "      <td>13</td>\n",
       "      <td>34</td>\n",
       "      <td>100</td>\n",
       "      <td>4</td>\n",
       "      <td>6</td>\n",
       "      <td>7.08</td>\n",
       "      <td>80000000</td>\n",
       "    </tr>\n",
       "    <tr>\n",
       "      <th>116</th>\n",
       "      <td>Rodrigo Hernández</td>\n",
       "      <td>Rodrigo Hernandez</td>\n",
       "      <td>22</td>\n",
       "      <td>Centrocampista</td>\n",
       "      <td>Mediano</td>\n",
       "      <td>Atlético de Madrid</td>\n",
       "      <td>Spagna</td>\n",
       "      <td>Spagna</td>\n",
       "      <td>NaN</td>\n",
       "      <td>NaN</td>\n",
       "      <td>...</td>\n",
       "      <td>0</td>\n",
       "      <td>0</td>\n",
       "      <td>149</td>\n",
       "      <td>6</td>\n",
       "      <td>6</td>\n",
       "      <td>6</td>\n",
       "      <td>0</td>\n",
       "      <td>0</td>\n",
       "      <td>7.35</td>\n",
       "      <td>40000000</td>\n",
       "    </tr>\n",
       "    <tr>\n",
       "      <th>220</th>\n",
       "      <td>Danny Rose</td>\n",
       "      <td>Danny Rose</td>\n",
       "      <td>28</td>\n",
       "      <td>Difensore</td>\n",
       "      <td>Terzino sinistro</td>\n",
       "      <td>Tottenham Hotspur</td>\n",
       "      <td>Inghilterra</td>\n",
       "      <td>Inghilterra</td>\n",
       "      <td>NaN</td>\n",
       "      <td>NaN</td>\n",
       "      <td>...</td>\n",
       "      <td>0</td>\n",
       "      <td>0</td>\n",
       "      <td>233</td>\n",
       "      <td>11</td>\n",
       "      <td>27</td>\n",
       "      <td>8</td>\n",
       "      <td>0</td>\n",
       "      <td>1</td>\n",
       "      <td>6.70</td>\n",
       "      <td>30000000</td>\n",
       "    </tr>\n",
       "    <tr>\n",
       "      <th>260</th>\n",
       "      <td>Abdou Diallo</td>\n",
       "      <td>Diallo</td>\n",
       "      <td>22</td>\n",
       "      <td>Difensore</td>\n",
       "      <td>Difensore centrale</td>\n",
       "      <td>Borussia Dortmund</td>\n",
       "      <td>Germania</td>\n",
       "      <td>Francia</td>\n",
       "      <td>NaN</td>\n",
       "      <td>NaN</td>\n",
       "      <td>...</td>\n",
       "      <td>0</td>\n",
       "      <td>0</td>\n",
       "      <td>109</td>\n",
       "      <td>7</td>\n",
       "      <td>2</td>\n",
       "      <td>6</td>\n",
       "      <td>0</td>\n",
       "      <td>0</td>\n",
       "      <td>6.90</td>\n",
       "      <td>25000000</td>\n",
       "    </tr>\n",
       "  </tbody>\n",
       "</table>\n",
       "<p>4 rows × 55 columns</p>\n",
       "</div>"
      ],
      "text/plain": [
       "                  nome        nome_chiave  eta           ruolo  \\\n",
       "31     Sergio Busquets           Busquets   30  Centrocampista   \n",
       "116  Rodrigo Hernández  Rodrigo Hernandez   22  Centrocampista   \n",
       "220         Danny Rose         Danny Rose   28       Difensore   \n",
       "260       Abdou Diallo             Diallo   22       Difensore   \n",
       "\n",
       "        ruolo_dettaglio             squadra nazione_squadra nazione_giocatore  \\\n",
       "31              Mediano       FC Barcellona          Spagna            Spagna   \n",
       "116             Mediano  Atlético de Madrid          Spagna            Spagna   \n",
       "220    Terzino sinistro   Tottenham Hotspur     Inghilterra       Inghilterra   \n",
       "260  Difensore centrale   Borussia Dortmund        Germania           Francia   \n",
       "\n",
       "     instagram_followers  facebook_followers    ...     goal_2017_CL  \\\n",
       "31                   NaN           3113955.0    ...                0   \n",
       "116                  NaN                 NaN    ...                0   \n",
       "220                  NaN                 NaN    ...                0   \n",
       "260                  NaN                 NaN    ...                0   \n",
       "\n",
       "     assist_2017_CL  pres_tot  goal_tot  assist_tot  pres_tot_CL  goal_tot_CL  \\\n",
       "31                0       507        13          34          100            4   \n",
       "116               0       149         6           6            6            0   \n",
       "220               0       233        11          27            8            0   \n",
       "260               0       109         7           2            6            0   \n",
       "\n",
       "     assist_tot_CL  whoscored1819    valore  \n",
       "31               6           7.08  80000000  \n",
       "116              0           7.35  40000000  \n",
       "220              1           6.70  30000000  \n",
       "260              0           6.90  25000000  \n",
       "\n",
       "[4 rows x 55 columns]"
      ]
     },
     "execution_count": 28,
     "metadata": {},
     "output_type": "execute_result"
    }
   ],
   "source": [
    "df[df.instagram_followers.isnull()]"
   ]
  },
  {
   "cell_type": "markdown",
   "metadata": {},
   "source": [
    "Rimuoviamo Paulinho per problemi di omonimia e i giocatori dei campionati minori in quanto abbiamo difficoltà a raccogliere dati relativamente a questi campionati, soprattutto per quanto riguarda la Cina."
   ]
  },
  {
   "cell_type": "code",
   "execution_count": 29,
   "metadata": {},
   "outputs": [],
   "source": [
    "df = df[-df.instagram_followers.isnull()]\n",
    "df = df[df['nome']!='Paulinho']\n",
    "df = df[df['nazione_squadra'] != 'Cina']\n",
    "df = df[df['nazione_squadra'] != 'Olanda']\n",
    "df = df[df['nazione_squadra'] != 'Portogallo']\n",
    "df.reset_index(inplace=True,drop=True)"
   ]
  },
  {
   "cell_type": "markdown",
   "metadata": {},
   "source": [
    "Normalizzo le colonne relative a follower, likes e hashtag su Instragram."
   ]
  },
  {
   "cell_type": "code",
   "execution_count": 30,
   "metadata": {
    "scrolled": true
   },
   "outputs": [],
   "source": [
    "cols=['instagram_followers','insta_likes_avg', 'insta_hashtag']\n",
    "\n",
    "X1 = Normalize(log(df[cols]))\n",
    "df['Instagram'] = X1.mean(axis=1)"
   ]
  },
  {
   "cell_type": "markdown",
   "metadata": {},
   "source": [
    "## Facebook"
   ]
  },
  {
   "cell_type": "markdown",
   "metadata": {},
   "source": [
    "Vediamo dal plot che in generale la correlazione tra follower su facebook e su instagram coi logaritmi è elevata, per cui fittiamo un modello di regressione lineare per imputare i missing di facebook, in quanto il modello lineare tra queste due variabili è ottimo. Senza i logaritmi non si riesce, invece, a riconoscere alcuna relazione chiara."
   ]
  },
  {
   "cell_type": "code",
   "execution_count": 31,
   "metadata": {},
   "outputs": [
    {
     "data": {
      "text/plain": [
       "Text(0,0.5,'Follower Facebook')"
      ]
     },
     "execution_count": 31,
     "metadata": {},
     "output_type": "execute_result"
    },
    {
     "data": {
      "image/png": "[encoded data removed]",
      "text/plain": [
       "<Figure size 720x480 with 1 Axes>"
      ]
     },
     "metadata": {
      "needs_background": "light"
     },
     "output_type": "display_data"
    }
   ],
   "source": [
    "plt.plot(df.instagram_followers, df.facebook_followers, '.')\n",
    "plt.xlabel('Follower Instagram')\n",
    "plt.ylabel('Follower Facebook')"
   ]
  },
  {
   "cell_type": "code",
   "execution_count": 32,
   "metadata": {},
   "outputs": [
    {
     "data": {
      "text/plain": [
       "Text(0,0.5,'Follower Facebook (log)')"
      ]
     },
     "execution_count": 32,
     "metadata": {},
     "output_type": "execute_result"
    },
    {
     "data": {
      "image/png": "[encoded data removed]",
      "text/plain": [
       "<Figure size 720x480 with 1 Axes>"
      ]
     },
     "metadata": {
      "needs_background": "light"
     },
     "output_type": "display_data"
    }
   ],
   "source": [
    "plt.plot(log(df.instagram_followers), log(df.facebook_followers), '.')\n",
    "plt.xlabel('Follower Instagram (log)')\n",
    "plt.ylabel('Follower Facebook (log)')"
   ]
  },
  {
   "cell_type": "code",
   "execution_count": 33,
   "metadata": {},
   "outputs": [],
   "source": [
    "X_train = df.loc[-df.facebook_followers.isnull(),['instagram_followers','facebook_followers']]\n",
    "y_train = log(X_train.facebook_followers)\n",
    "X_train = pd.DataFrame(log(X_train['instagram_followers']))\n",
    "\n",
    "X_test = log(df.loc[df.facebook_followers.isnull(),['instagram_followers']])"
   ]
  },
  {
   "cell_type": "code",
   "execution_count": 34,
   "metadata": {},
   "outputs": [
    {
     "data": {
      "text/html": [
       "<table class=\"simpletable\">\n",
       "<caption>OLS Regression Results</caption>\n",
       "<tr>\n",
       "  <th>Dep. Variable:</th>    <td>facebook_followers</td> <th>  R-squared:         </th> <td>   0.993</td> \n",
       "</tr>\n",
       "<tr>\n",
       "  <th>Model:</th>                    <td>OLS</td>        <th>  Adj. R-squared:    </th> <td>   0.993</td> \n",
       "</tr>\n",
       "<tr>\n",
       "  <th>Method:</th>              <td>Least Squares</td>   <th>  F-statistic:       </th> <td>3.114e+04</td>\n",
       "</tr>\n",
       "<tr>\n",
       "  <th>Date:</th>              <td>Wed, 23 Jan 2019</td>  <th>  Prob (F-statistic):</th> <td>2.99e-230</td>\n",
       "</tr>\n",
       "<tr>\n",
       "  <th>Time:</th>                  <td>13:43:38</td>      <th>  Log-Likelihood:    </th> <td> -318.74</td> \n",
       "</tr>\n",
       "<tr>\n",
       "  <th>No. Observations:</th>       <td>   211</td>       <th>  AIC:               </th> <td>   639.5</td> \n",
       "</tr>\n",
       "<tr>\n",
       "  <th>Df Residuals:</th>           <td>   210</td>       <th>  BIC:               </th> <td>   642.8</td> \n",
       "</tr>\n",
       "<tr>\n",
       "  <th>Df Model:</th>               <td>     1</td>       <th>                     </th>     <td> </td>    \n",
       "</tr>\n",
       "<tr>\n",
       "  <th>Covariance Type:</th>       <td>nonrobust</td>     <th>                     </th>     <td> </td>    \n",
       "</tr>\n",
       "</table>\n",
       "<table class=\"simpletable\">\n",
       "<tr>\n",
       "           <td></td>              <th>coef</th>     <th>std err</th>      <th>t</th>      <th>P>|t|</th>  <th>[0.025</th>    <th>0.975]</th>  \n",
       "</tr>\n",
       "<tr>\n",
       "  <th>instagram_followers</th> <td>    0.9187</td> <td>    0.005</td> <td>  176.455</td> <td> 0.000</td> <td>    0.908</td> <td>    0.929</td>\n",
       "</tr>\n",
       "</table>\n",
       "<table class=\"simpletable\">\n",
       "<tr>\n",
       "  <th>Omnibus:</th>       <td>14.620</td> <th>  Durbin-Watson:     </th> <td>   1.545</td>\n",
       "</tr>\n",
       "<tr>\n",
       "  <th>Prob(Omnibus):</th> <td> 0.001</td> <th>  Jarque-Bera (JB):  </th> <td>  15.699</td>\n",
       "</tr>\n",
       "<tr>\n",
       "  <th>Skew:</th>          <td>-0.606</td> <th>  Prob(JB):          </th> <td>0.000390</td>\n",
       "</tr>\n",
       "<tr>\n",
       "  <th>Kurtosis:</th>      <td> 3.565</td> <th>  Cond. No.          </th> <td>    1.00</td>\n",
       "</tr>\n",
       "</table><br/><br/>Warnings:<br/>[1] Standard Errors assume that the covariance matrix of the errors is correctly specified."
      ],
      "text/plain": [
       "<class 'statsmodels.iolib.summary.Summary'>\n",
       "\"\"\"\n",
       "                            OLS Regression Results                            \n",
       "==============================================================================\n",
       "Dep. Variable:     facebook_followers   R-squared:                       0.993\n",
       "Model:                            OLS   Adj. R-squared:                  0.993\n",
       "Method:                 Least Squares   F-statistic:                 3.114e+04\n",
       "Date:                Wed, 23 Jan 2019   Prob (F-statistic):          2.99e-230\n",
       "Time:                        13:43:38   Log-Likelihood:                -318.74\n",
       "No. Observations:                 211   AIC:                             639.5\n",
       "Df Residuals:                     210   BIC:                             642.8\n",
       "Df Model:                           1                                         \n",
       "Covariance Type:            nonrobust                                         \n",
       "=======================================================================================\n",
       "                          coef    std err          t      P>|t|      [0.025      0.975]\n",
       "---------------------------------------------------------------------------------------\n",
       "instagram_followers     0.9187      0.005    176.455      0.000       0.908       0.929\n",
       "==============================================================================\n",
       "Omnibus:                       14.620   Durbin-Watson:                   1.545\n",
       "Prob(Omnibus):                  0.001   Jarque-Bera (JB):               15.699\n",
       "Skew:                          -0.606   Prob(JB):                     0.000390\n",
       "Kurtosis:                       3.565   Cond. No.                         1.00\n",
       "==============================================================================\n",
       "\n",
       "Warnings:\n",
       "[1] Standard Errors assume that the covariance matrix of the errors is correctly specified.\n",
       "\"\"\""
      ]
     },
     "execution_count": 34,
     "metadata": {},
     "output_type": "execute_result"
    }
   ],
   "source": [
    "import statsmodels.api as sm\n",
    "X = sm.OLS(y_train,X_train).fit()\n",
    "X.summary()"
   ]
  },
  {
   "cell_type": "code",
   "execution_count": 35,
   "metadata": {},
   "outputs": [
    {
     "data": {
      "text/plain": [
       "Text(0,0.5,'Facebook follower (log)')"
      ]
     },
     "execution_count": 35,
     "metadata": {},
     "output_type": "execute_result"
    },
    {
     "data": {
      "image/png": "[encoded data removed]",
      "text/plain": [
       "<Figure size 720x480 with 1 Axes>"
      ]
     },
     "metadata": {
      "needs_background": "light"
     },
     "output_type": "display_data"
    }
   ],
   "source": [
    "mod_lm = LinearRegression()\n",
    "mod_lm.fit(X_train,y_train)\n",
    "\n",
    "ypred_f = mod_lm.predict(X_test).round(2)\n",
    "\n",
    "df['Facebook'] = log(df.facebook_followers)\n",
    "df.loc[df.Facebook.isnull(),'Facebook'] = ypred_f\n",
    "df['Facebook'] = (df.Facebook-df.Facebook.min())/(df.Facebook.max()-df.Facebook.min())\n",
    "\n",
    "plt.plot(log(df.instagram_followers), log(df.facebook_followers), '.')\n",
    "plt.plot(log(df.instagram_followers[df.facebook_followers.isnull()]), ypred_f, '.')\n",
    "plt.xlabel('Instagram follower (log)')\n",
    "plt.ylabel('Facebook follower (log)')"
   ]
  },
  {
   "cell_type": "markdown",
   "metadata": {},
   "source": [
    "# Twitter"
   ]
  },
  {
   "cell_type": "markdown",
   "metadata": {},
   "source": [
    "Anche nel caso di Twitter la regressione con i follower su instagram e facebook è ottima, ragion per cui la utilizziamo per imputare i dati mancanti."
   ]
  },
  {
   "cell_type": "code",
   "execution_count": 36,
   "metadata": {},
   "outputs": [
    {
     "data": {
      "text/html": [
       "<table class=\"simpletable\">\n",
       "<caption>OLS Regression Results</caption>\n",
       "<tr>\n",
       "  <th>Dep. Variable:</th>    <td>twitter_followers</td> <th>  R-squared:         </th> <td>   0.990</td> \n",
       "</tr>\n",
       "<tr>\n",
       "  <th>Model:</th>                   <td>OLS</td>        <th>  Adj. R-squared:    </th> <td>   0.990</td> \n",
       "</tr>\n",
       "<tr>\n",
       "  <th>Method:</th>             <td>Least Squares</td>   <th>  F-statistic:       </th> <td>1.114e+04</td>\n",
       "</tr>\n",
       "<tr>\n",
       "  <th>Date:</th>             <td>Wed, 23 Jan 2019</td>  <th>  Prob (F-statistic):</th> <td>1.43e-222</td>\n",
       "</tr>\n",
       "<tr>\n",
       "  <th>Time:</th>                 <td>13:43:42</td>      <th>  Log-Likelihood:    </th> <td> -373.74</td> \n",
       "</tr>\n",
       "<tr>\n",
       "  <th>No. Observations:</th>      <td>   223</td>       <th>  AIC:               </th> <td>   751.5</td> \n",
       "</tr>\n",
       "<tr>\n",
       "  <th>Df Residuals:</th>          <td>   221</td>       <th>  BIC:               </th> <td>   758.3</td> \n",
       "</tr>\n",
       "<tr>\n",
       "  <th>Df Model:</th>              <td>     2</td>       <th>                     </th>     <td> </td>    \n",
       "</tr>\n",
       "<tr>\n",
       "  <th>Covariance Type:</th>      <td>nonrobust</td>     <th>                     </th>     <td> </td>    \n",
       "</tr>\n",
       "</table>\n",
       "<table class=\"simpletable\">\n",
       "<tr>\n",
       "           <td></td>              <th>coef</th>     <th>std err</th>      <th>t</th>      <th>P>|t|</th>  <th>[0.025</th>    <th>0.975]</th>  \n",
       "</tr>\n",
       "<tr>\n",
       "  <th>instagram_followers</th> <td>    0.8664</td> <td>    0.020</td> <td>   42.344</td> <td> 0.000</td> <td>    0.826</td> <td>    0.907</td>\n",
       "</tr>\n",
       "<tr>\n",
       "  <th>Facebook</th>            <td>    1.0796</td> <td>    0.565</td> <td>    1.911</td> <td> 0.057</td> <td>   -0.034</td> <td>    2.193</td>\n",
       "</tr>\n",
       "</table>\n",
       "<table class=\"simpletable\">\n",
       "<tr>\n",
       "  <th>Omnibus:</th>       <td>77.663</td> <th>  Durbin-Watson:     </th> <td>   1.957</td>\n",
       "</tr>\n",
       "<tr>\n",
       "  <th>Prob(Omnibus):</th> <td> 0.000</td> <th>  Jarque-Bera (JB):  </th> <td> 299.521</td>\n",
       "</tr>\n",
       "<tr>\n",
       "  <th>Skew:</th>          <td>-1.376</td> <th>  Prob(JB):          </th> <td>9.12e-66</td>\n",
       "</tr>\n",
       "<tr>\n",
       "  <th>Kurtosis:</th>      <td> 7.966</td> <th>  Cond. No.          </th> <td>    93.4</td>\n",
       "</tr>\n",
       "</table><br/><br/>Warnings:<br/>[1] Standard Errors assume that the covariance matrix of the errors is correctly specified."
      ],
      "text/plain": [
       "<class 'statsmodels.iolib.summary.Summary'>\n",
       "\"\"\"\n",
       "                            OLS Regression Results                            \n",
       "==============================================================================\n",
       "Dep. Variable:      twitter_followers   R-squared:                       0.990\n",
       "Model:                            OLS   Adj. R-squared:                  0.990\n",
       "Method:                 Least Squares   F-statistic:                 1.114e+04\n",
       "Date:                Wed, 23 Jan 2019   Prob (F-statistic):          1.43e-222\n",
       "Time:                        13:43:42   Log-Likelihood:                -373.74\n",
       "No. Observations:                 223   AIC:                             751.5\n",
       "Df Residuals:                     221   BIC:                             758.3\n",
       "Df Model:                           2                                         \n",
       "Covariance Type:            nonrobust                                         \n",
       "=======================================================================================\n",
       "                          coef    std err          t      P>|t|      [0.025      0.975]\n",
       "---------------------------------------------------------------------------------------\n",
       "instagram_followers     0.8664      0.020     42.344      0.000       0.826       0.907\n",
       "Facebook                1.0796      0.565      1.911      0.057      -0.034       2.193\n",
       "==============================================================================\n",
       "Omnibus:                       77.663   Durbin-Watson:                   1.957\n",
       "Prob(Omnibus):                  0.000   Jarque-Bera (JB):              299.521\n",
       "Skew:                          -1.376   Prob(JB):                     9.12e-66\n",
       "Kurtosis:                       7.966   Cond. No.                         93.4\n",
       "==============================================================================\n",
       "\n",
       "Warnings:\n",
       "[1] Standard Errors assume that the covariance matrix of the errors is correctly specified.\n",
       "\"\"\""
      ]
     },
     "execution_count": 36,
     "metadata": {},
     "output_type": "execute_result"
    }
   ],
   "source": [
    "X_train = df.loc[-df.twitter_followers.isnull(),['instagram_followers','Facebook','twitter_followers']]\n",
    "y_train = log(X_train.twitter_followers)\n",
    "X_train = X_train[['instagram_followers','Facebook']]\n",
    "X_train.instagram_followers = log(X_train.instagram_followers)\n",
    "\n",
    "X = sm.OLS(y_train,X_train).fit()\n",
    "X.summary()"
   ]
  },
  {
   "cell_type": "code",
   "execution_count": 37,
   "metadata": {},
   "outputs": [
    {
     "data": {
      "text/plain": [
       "Text(0,0.5,'Twitter follower (log)')"
      ]
     },
     "execution_count": 37,
     "metadata": {},
     "output_type": "execute_result"
    },
    {
     "data": {
      "image/png": "[encoded data removed]",
      "text/plain": [
       "<Figure size 720x480 with 1 Axes>"
      ]
     },
     "metadata": {
      "needs_background": "light"
     },
     "output_type": "display_data"
    }
   ],
   "source": [
    "X_test = df.loc[df.twitter_followers.isnull(),['instagram_followers','Facebook']]\n",
    "X_test.instagram_followers = log(X_test.instagram_followers)\n",
    "\n",
    "mod_lm = LinearRegression()\n",
    "mod_lm.fit(X_train,y_train)\n",
    "\n",
    "ypredtwitter = mod_lm.predict(X_test)\n",
    "\n",
    "df['Twitter'] = log(df.twitter_followers)\n",
    "df.loc[df.Twitter.isnull(),'Twitter'] = ypredtwitter\n",
    "df['Twitter'] = (df.Twitter-df.Twitter.min())/(df.Twitter.max()-df.Twitter.min())\n",
    "\n",
    "plt.plot(log(df.instagram_followers), log(df.twitter_followers), '.')\n",
    "plt.plot(log(df.instagram_followers[df.twitter_followers.isnull()]), ypredtwitter, '.')\n",
    "plt.xlabel('Instagram follower (log)')\n",
    "plt.ylabel('Twitter follower (log)')"
   ]
  },
  {
   "cell_type": "code",
   "execution_count": 38,
   "metadata": {},
   "outputs": [
    {
     "data": {
      "text/plain": [
       "Text(0,0.5,'Twitter follower (log)')"
      ]
     },
     "execution_count": 38,
     "metadata": {},
     "output_type": "execute_result"
    },
    {
     "data": {
      "image/png": "[encoded data removed]",
      "text/plain": [
       "<Figure size 720x480 with 1 Axes>"
      ]
     },
     "metadata": {
      "needs_background": "light"
     },
     "output_type": "display_data"
    }
   ],
   "source": [
    "plt.plot(log(df.facebook_followers), log(df.twitter_followers), '.')\n",
    "plt.plot(log(df.facebook_followers[df.twitter_followers.isnull()]), ypredtwitter, '.')\n",
    "plt.xlabel('Facebook follower (log)')\n",
    "plt.ylabel('Twitter follower (log)')"
   ]
  },
  {
   "cell_type": "markdown",
   "metadata": {},
   "source": [
    "# DIMENSIONE SOCIAL"
   ]
  },
  {
   "cell_type": "code",
   "execution_count": 39,
   "metadata": {},
   "outputs": [],
   "source": [
    "df['SOCIAL'] = (df.Instagram+df.Facebook+df.Twitter)/3"
   ]
  },
  {
   "cell_type": "markdown",
   "metadata": {},
   "source": [
    "# DIMENSIONE MEDIA"
   ]
  },
  {
   "cell_type": "code",
   "execution_count": 40,
   "metadata": {},
   "outputs": [],
   "source": [
    "# Germania\n",
    "\n",
    "cols1=['GER_bild_G', 'GER_eurosport_G', 'GER_kicker']\n",
    "X = Normalize(log(df[cols1]))\n",
    "df['Germania'] = X.mean(axis=1)\n",
    "\n",
    "# Francia\n",
    "\n",
    "cols1=['FRA_francefootball_G', 'FRA_lequipe_G', 'FRA_eurosport_G']\n",
    "X = Normalize(log(df[cols1]))\n",
    "df['Francia'] = X.mean(axis=1)\n",
    "\n",
    "# Italia\n",
    "\n",
    "cols1=['ITA_corriere', 'ITA_sky_G', 'ITA_gazzetta_G']\n",
    "X = Normalize(log(df[cols1]))\n",
    "df['Italia'] = X.mean(axis=1)\n",
    "\n",
    "# Spagna\n",
    "\n",
    "cols1=['SPA_marca', 'SPA_as_G', 'SPA_mundodep_G']\n",
    "X = Normalize(log(df[cols1]))\n",
    "df['Spagna'] = X.mean(axis=1)\n",
    "\n",
    "# Inghilterra\n",
    "\n",
    "cols1=['ENG_thesun', 'ENG_guardian_G', 'ENG_sky_G']\n",
    "X = Normalize(log(df[cols1]))\n",
    "df['Inghilterra'] = X.mean(axis=1)\n",
    "\n",
    "# Internazionale\n",
    "\n",
    "cols1=['INT_eurosport_G', 'INT_espn_G', 'INT_bein_G']\n",
    "X = Normalize(log(df[cols1]))\n",
    "df['Internazionale'] = X.mean(axis=1)"
   ]
  },
  {
   "cell_type": "markdown",
   "metadata": {},
   "source": [
    "Per costruire la colonna _media_ facciamo una media tra le misure ottenute prima; essenso le precedenti misure in (0,1), anche tale misura lo sarà."
   ]
  },
  {
   "cell_type": "code",
   "execution_count": 41,
   "metadata": {},
   "outputs": [],
   "source": [
    "df['MEDIA'] = (df.Germania+df.Francia+df.Italia+df.Spagna+df.Inghilterra+df.Internazionale)/6"
   ]
  },
  {
   "cell_type": "markdown",
   "metadata": {},
   "source": [
    "# WEB"
   ]
  },
  {
   "cell_type": "code",
   "execution_count": 42,
   "metadata": {},
   "outputs": [
    {
     "data": {
      "text/plain": [
       "Text(0.5,0,'Istogramma numero di Google hits')"
      ]
     },
     "execution_count": 42,
     "metadata": {},
     "output_type": "execute_result"
    },
    {
     "data": {
      "image/png": "[encoded data removed]",
      "text/plain": [
       "<Figure size 720x480 with 1 Axes>"
      ]
     },
     "metadata": {
      "needs_background": "light"
     },
     "output_type": "display_data"
    }
   ],
   "source": [
    "plt.hist(df.google_hits_1)\n",
    "plt.xlabel('Istogramma numero di Google hits')"
   ]
  },
  {
   "cell_type": "code",
   "execution_count": 43,
   "metadata": {},
   "outputs": [
    {
     "data": {
      "text/plain": [
       "Text(0.5,0,'Istogramma Google hits (log)')"
      ]
     },
     "execution_count": 43,
     "metadata": {},
     "output_type": "execute_result"
    },
    {
     "data": {
      "image/png": "[encoded data removed]",
      "text/plain": [
       "<Figure size 720x480 with 1 Axes>"
      ]
     },
     "metadata": {
      "needs_background": "light"
     },
     "output_type": "display_data"
    }
   ],
   "source": [
    "plt.hist(log(df.google_hits_1))\n",
    "plt.xlabel('Istogramma Google hits (log)')"
   ]
  },
  {
   "cell_type": "code",
   "execution_count": 44,
   "metadata": {},
   "outputs": [],
   "source": [
    "df['GOOGLE'] = log(df.google_hits_1)\n",
    "df['GOOGLE'] = (df.GOOGLE-df.GOOGLE.min())/(df.GOOGLE.max()-df.GOOGLE.min())\n",
    "\n",
    "df['WIKIPEDIA'] = log(df.wiki_visual)\n",
    "df['WIKIPEDIA'] = (df.WIKIPEDIA-df.WIKIPEDIA.min())/(df.WIKIPEDIA.max()-df.WIKIPEDIA.min())"
   ]
  },
  {
   "cell_type": "markdown",
   "metadata": {},
   "source": [
    "# Indice di popolarità"
   ]
  },
  {
   "cell_type": "markdown",
   "metadata": {},
   "source": [
    "Decidiamo di definire il nostro indice come media pesata delle misure ottenute."
   ]
  },
  {
   "cell_type": "code",
   "execution_count": 45,
   "metadata": {},
   "outputs": [
    {
     "data": {
      "text/html": [
       "<div>\n",
       "<style scoped>\n",
       "    .dataframe tbody tr th:only-of-type {\n",
       "        vertical-align: middle;\n",
       "    }\n",
       "\n",
       "    .dataframe tbody tr th {\n",
       "        vertical-align: top;\n",
       "    }\n",
       "\n",
       "    .dataframe thead th {\n",
       "        text-align: right;\n",
       "    }\n",
       "</style>\n",
       "<table border=\"1\" class=\"dataframe\">\n",
       "  <thead>\n",
       "    <tr style=\"text-align: right;\">\n",
       "      <th></th>\n",
       "      <th>nome</th>\n",
       "      <th>Instagram</th>\n",
       "      <th>Facebook</th>\n",
       "      <th>Twitter</th>\n",
       "      <th>SOCIAL</th>\n",
       "      <th>Germania</th>\n",
       "      <th>Francia</th>\n",
       "      <th>Italia</th>\n",
       "      <th>Spagna</th>\n",
       "      <th>Inghilterra</th>\n",
       "      <th>Internazionale</th>\n",
       "      <th>MEDIA</th>\n",
       "      <th>GOOGLE</th>\n",
       "      <th>WIKIPEDIA</th>\n",
       "      <th>IPOP</th>\n",
       "    </tr>\n",
       "  </thead>\n",
       "  <tbody>\n",
       "    <tr>\n",
       "      <th>0</th>\n",
       "      <td>Kylian Mbappé</td>\n",
       "      <td>0.790</td>\n",
       "      <td>0.599</td>\n",
       "      <td>0.662</td>\n",
       "      <td>0.684</td>\n",
       "      <td>0.661</td>\n",
       "      <td>0.964</td>\n",
       "      <td>0.815</td>\n",
       "      <td>0.673</td>\n",
       "      <td>0.751</td>\n",
       "      <td>0.848</td>\n",
       "      <td>0.785</td>\n",
       "      <td>0.604</td>\n",
       "      <td>0.859</td>\n",
       "      <td>0.748</td>\n",
       "    </tr>\n",
       "    <tr>\n",
       "      <th>1</th>\n",
       "      <td>Neymar</td>\n",
       "      <td>0.930</td>\n",
       "      <td>0.935</td>\n",
       "      <td>0.943</td>\n",
       "      <td>0.936</td>\n",
       "      <td>0.879</td>\n",
       "      <td>0.962</td>\n",
       "      <td>0.888</td>\n",
       "      <td>0.898</td>\n",
       "      <td>0.842</td>\n",
       "      <td>0.952</td>\n",
       "      <td>0.903</td>\n",
       "      <td>0.715</td>\n",
       "      <td>0.842</td>\n",
       "      <td>0.890</td>\n",
       "    </tr>\n",
       "    <tr>\n",
       "      <th>2</th>\n",
       "      <td>Leo Messi</td>\n",
       "      <td>0.977</td>\n",
       "      <td>0.971</td>\n",
       "      <td>0.861</td>\n",
       "      <td>0.936</td>\n",
       "      <td>0.855</td>\n",
       "      <td>0.962</td>\n",
       "      <td>0.948</td>\n",
       "      <td>1.000</td>\n",
       "      <td>0.865</td>\n",
       "      <td>0.980</td>\n",
       "      <td>0.935</td>\n",
       "      <td>0.795</td>\n",
       "      <td>0.937</td>\n",
       "      <td>0.923</td>\n",
       "    </tr>\n",
       "    <tr>\n",
       "      <th>3</th>\n",
       "      <td>Mohamed Salah</td>\n",
       "      <td>0.815</td>\n",
       "      <td>0.776</td>\n",
       "      <td>0.777</td>\n",
       "      <td>0.789</td>\n",
       "      <td>0.683</td>\n",
       "      <td>0.755</td>\n",
       "      <td>0.868</td>\n",
       "      <td>0.609</td>\n",
       "      <td>0.867</td>\n",
       "      <td>0.861</td>\n",
       "      <td>0.774</td>\n",
       "      <td>0.832</td>\n",
       "      <td>0.852</td>\n",
       "      <td>0.790</td>\n",
       "    </tr>\n",
       "    <tr>\n",
       "      <th>4</th>\n",
       "      <td>Harry Kane</td>\n",
       "      <td>0.621</td>\n",
       "      <td>0.600</td>\n",
       "      <td>0.670</td>\n",
       "      <td>0.630</td>\n",
       "      <td>0.641</td>\n",
       "      <td>0.621</td>\n",
       "      <td>0.638</td>\n",
       "      <td>0.669</td>\n",
       "      <td>0.912</td>\n",
       "      <td>0.786</td>\n",
       "      <td>0.711</td>\n",
       "      <td>0.760</td>\n",
       "      <td>0.813</td>\n",
       "      <td>0.703</td>\n",
       "    </tr>\n",
       "  </tbody>\n",
       "</table>\n",
       "</div>"
      ],
      "text/plain": [
       "            nome  Instagram  Facebook  Twitter  SOCIAL  Germania  Francia  \\\n",
       "0  Kylian Mbappé      0.790     0.599    0.662   0.684     0.661    0.964   \n",
       "1         Neymar      0.930     0.935    0.943   0.936     0.879    0.962   \n",
       "2      Leo Messi      0.977     0.971    0.861   0.936     0.855    0.962   \n",
       "3  Mohamed Salah      0.815     0.776    0.777   0.789     0.683    0.755   \n",
       "4     Harry Kane      0.621     0.600    0.670   0.630     0.641    0.621   \n",
       "\n",
       "   Italia  Spagna  Inghilterra  Internazionale  MEDIA  GOOGLE  WIKIPEDIA  \\\n",
       "0   0.815   0.673        0.751           0.848  0.785   0.604      0.859   \n",
       "1   0.888   0.898        0.842           0.952  0.903   0.715      0.842   \n",
       "2   0.948   1.000        0.865           0.980  0.935   0.795      0.937   \n",
       "3   0.868   0.609        0.867           0.861  0.774   0.832      0.852   \n",
       "4   0.638   0.669        0.912           0.786  0.711   0.760      0.813   \n",
       "\n",
       "    IPOP  \n",
       "0  0.748  \n",
       "1  0.890  \n",
       "2  0.923  \n",
       "3  0.790  \n",
       "4  0.703  "
      ]
     },
     "execution_count": 45,
     "metadata": {},
     "output_type": "execute_result"
    }
   ],
   "source": [
    "df['IPOP'] = (df.SOCIAL*3 + df.MEDIA*6 + df.GOOGLE + df.WIKIPEDIA)/11\n",
    "c = ['nome','Instagram', 'Facebook', 'Twitter', 'SOCIAL', 'Germania', 'Francia',\n",
    "       'Italia', 'Spagna', 'Inghilterra', 'Internazionale', 'MEDIA', 'GOOGLE',\n",
    "       'WIKIPEDIA','IPOP']\n",
    "df1 = df[c].round(3)\n",
    "df1.head()"
   ]
  },
  {
   "cell_type": "markdown",
   "metadata": {},
   "source": [
    "Salvo i dati in due diversi dataset, uno solo con queste misure usate per creare l'indice (index) e uno completo."
   ]
  },
  {
   "cell_type": "code",
   "execution_count": 46,
   "metadata": {},
   "outputs": [],
   "source": [
    "df.to_csv('new_data/full_df.csv',index=False)\n",
    "df1.to_csv('new_data/indexes.csv',index=False)"
   ]
  }
 ],
 "metadata": {
  "kernelspec": {
   "display_name": "Python 3",
   "language": "python",
   "name": "python3"
  },
  "language_info": {
   "codemirror_mode": {
    "name": "ipython",
    "version": 3
   },
   "file_extension": ".py",
   "mimetype": "text/x-python",
   "name": "python",
   "nbconvert_exporter": "python",
   "pygments_lexer": "ipython3",
   "version": "3.7.0"
  }
 },
 "nbformat": 4,
 "nbformat_minor": 2
}
