{
 "cells": [
  {
   "cell_type": "markdown",
   "metadata": {},
   "source": [
    "# 02 - Creazione indice"
   ]
  },
  {
   "cell_type": "code",
   "execution_count": 114,
   "metadata": {},
   "outputs": [],
   "source": [
    "import pandas as pd\n",
    "import numpy as np\n",
    "from numpy import log\n",
    "from sklearn.decomposition import PCA\n",
    "from sklearn.preprocessing import StandardScaler\n",
    "from sklearn.linear_model import LinearRegression\n",
    "import matplotlib.pyplot as plt\n",
    "from requests import get\n",
    "from io import StringIO\n",
    "from sklearn import preprocessing\n",
    "import matplotlib.mlab as mlab\n",
    "import matplotlib.pyplot as plt"
   ]
  },
  {
   "cell_type": "code",
   "execution_count": 115,
   "metadata": {},
   "outputs": [
    {
     "data": {
      "text/html": [
       "<div>\n",
       "<style scoped>\n",
       "    .dataframe tbody tr th:only-of-type {\n",
       "        vertical-align: middle;\n",
       "    }\n",
       "\n",
       "    .dataframe tbody tr th {\n",
       "        vertical-align: top;\n",
       "    }\n",
       "\n",
       "    .dataframe thead th {\n",
       "        text-align: right;\n",
       "    }\n",
       "</style>\n",
       "<table border=\"1\" class=\"dataframe\">\n",
       "  <thead>\n",
       "    <tr style=\"text-align: right;\">\n",
       "      <th></th>\n",
       "      <th>nome</th>\n",
       "      <th>nome_chiave</th>\n",
       "      <th>eta</th>\n",
       "      <th>ruolo</th>\n",
       "      <th>ruolo_dettaglio</th>\n",
       "      <th>squadra</th>\n",
       "      <th>nazione_squadra</th>\n",
       "      <th>nazione_giocatore</th>\n",
       "      <th>instagram_followers</th>\n",
       "      <th>facebook_followers</th>\n",
       "      <th>...</th>\n",
       "      <th>goal_2017_CL</th>\n",
       "      <th>assist_2017_CL</th>\n",
       "      <th>pres_tot</th>\n",
       "      <th>goal_tot</th>\n",
       "      <th>assist_tot</th>\n",
       "      <th>pres_tot_CL</th>\n",
       "      <th>goal_tot_CL</th>\n",
       "      <th>assist_tot_CL</th>\n",
       "      <th>whoscored1819</th>\n",
       "      <th>valore</th>\n",
       "    </tr>\n",
       "  </thead>\n",
       "  <tbody>\n",
       "    <tr>\n",
       "      <th>0</th>\n",
       "      <td>Kylian Mbappé</td>\n",
       "      <td>Mbappé</td>\n",
       "      <td>19</td>\n",
       "      <td>Attaccante</td>\n",
       "      <td>Ala destra</td>\n",
       "      <td>FC Paris Saint-Germain</td>\n",
       "      <td>Francia</td>\n",
       "      <td>Francia</td>\n",
       "      <td>24019703.0</td>\n",
       "      <td>1639467.0</td>\n",
       "      <td>...</td>\n",
       "      <td>4</td>\n",
       "      <td>3</td>\n",
       "      <td>124</td>\n",
       "      <td>64</td>\n",
       "      <td>42</td>\n",
       "      <td>23</td>\n",
       "      <td>13</td>\n",
       "      <td>7</td>\n",
       "      <td>7.96</td>\n",
       "      <td>180000000</td>\n",
       "    </tr>\n",
       "    <tr>\n",
       "      <th>1</th>\n",
       "      <td>Neymar</td>\n",
       "      <td>Neymar</td>\n",
       "      <td>26</td>\n",
       "      <td>Attaccante</td>\n",
       "      <td>Ala sinistra</td>\n",
       "      <td>FC Paris Saint-Germain</td>\n",
       "      <td>Francia</td>\n",
       "      <td>Brasile</td>\n",
       "      <td>107716768.0</td>\n",
       "      <td>60699722.0</td>\n",
       "      <td>...</td>\n",
       "      <td>6</td>\n",
       "      <td>3</td>\n",
       "      <td>369</td>\n",
       "      <td>219</td>\n",
       "      <td>135</td>\n",
       "      <td>53</td>\n",
       "      <td>32</td>\n",
       "      <td>23</td>\n",
       "      <td>8.41</td>\n",
       "      <td>180000000</td>\n",
       "    </tr>\n",
       "    <tr>\n",
       "      <th>2</th>\n",
       "      <td>Leo Messi</td>\n",
       "      <td>Messi</td>\n",
       "      <td>31</td>\n",
       "      <td>Attaccante</td>\n",
       "      <td>Ala destra</td>\n",
       "      <td>FC Barcellona</td>\n",
       "      <td>Spagna</td>\n",
       "      <td>Argentina</td>\n",
       "      <td>103764191.0</td>\n",
       "      <td>89898268.0</td>\n",
       "      <td>...</td>\n",
       "      <td>6</td>\n",
       "      <td>2</td>\n",
       "      <td>657</td>\n",
       "      <td>573</td>\n",
       "      <td>229</td>\n",
       "      <td>129</td>\n",
       "      <td>106</td>\n",
       "      <td>28</td>\n",
       "      <td>8.71</td>\n",
       "      <td>180000000</td>\n",
       "    </tr>\n",
       "    <tr>\n",
       "      <th>3</th>\n",
       "      <td>Mohamed Salah</td>\n",
       "      <td>Salah</td>\n",
       "      <td>26</td>\n",
       "      <td>Attaccante</td>\n",
       "      <td>Ala destra</td>\n",
       "      <td>FC Liverpool</td>\n",
       "      <td>Inghilterra</td>\n",
       "      <td>Egitto</td>\n",
       "      <td>21661975.0</td>\n",
       "      <td>11016135.0</td>\n",
       "      <td>...</td>\n",
       "      <td>10</td>\n",
       "      <td>5</td>\n",
       "      <td>328</td>\n",
       "      <td>135</td>\n",
       "      <td>77</td>\n",
       "      <td>34</td>\n",
       "      <td>16</td>\n",
       "      <td>6</td>\n",
       "      <td>7.61</td>\n",
       "      <td>150000000</td>\n",
       "    </tr>\n",
       "    <tr>\n",
       "      <th>4</th>\n",
       "      <td>Harry Kane</td>\n",
       "      <td>Kane</td>\n",
       "      <td>25</td>\n",
       "      <td>Attaccante</td>\n",
       "      <td>Punta centrale</td>\n",
       "      <td>Tottenham Hotspur</td>\n",
       "      <td>Inghilterra</td>\n",
       "      <td>Inghilterra</td>\n",
       "      <td>7389999.0</td>\n",
       "      <td>1660408.0</td>\n",
       "      <td>...</td>\n",
       "      <td>7</td>\n",
       "      <td>2</td>\n",
       "      <td>317</td>\n",
       "      <td>182</td>\n",
       "      <td>43</td>\n",
       "      <td>16</td>\n",
       "      <td>13</td>\n",
       "      <td>3</td>\n",
       "      <td>7.32</td>\n",
       "      <td>150000000</td>\n",
       "    </tr>\n",
       "  </tbody>\n",
       "</table>\n",
       "<p>5 rows × 55 columns</p>\n",
       "</div>"
      ],
      "text/plain": [
       "            nome nome_chiave  eta       ruolo ruolo_dettaglio  \\\n",
       "0  Kylian Mbappé      Mbappé   19  Attaccante      Ala destra   \n",
       "1         Neymar      Neymar   26  Attaccante    Ala sinistra   \n",
       "2      Leo Messi       Messi   31  Attaccante      Ala destra   \n",
       "3  Mohamed Salah       Salah   26  Attaccante      Ala destra   \n",
       "4     Harry Kane        Kane   25  Attaccante  Punta centrale   \n",
       "\n",
       "                  squadra nazione_squadra nazione_giocatore  \\\n",
       "0  FC Paris Saint-Germain         Francia           Francia   \n",
       "1  FC Paris Saint-Germain         Francia           Brasile   \n",
       "2           FC Barcellona          Spagna         Argentina   \n",
       "3            FC Liverpool     Inghilterra            Egitto   \n",
       "4       Tottenham Hotspur     Inghilterra       Inghilterra   \n",
       "\n",
       "   instagram_followers  facebook_followers    ...      goal_2017_CL  \\\n",
       "0           24019703.0           1639467.0    ...                 4   \n",
       "1          107716768.0          60699722.0    ...                 6   \n",
       "2          103764191.0          89898268.0    ...                 6   \n",
       "3           21661975.0          11016135.0    ...                10   \n",
       "4            7389999.0           1660408.0    ...                 7   \n",
       "\n",
       "   assist_2017_CL  pres_tot  goal_tot  assist_tot  pres_tot_CL  goal_tot_CL  \\\n",
       "0               3       124        64          42           23           13   \n",
       "1               3       369       219         135           53           32   \n",
       "2               2       657       573         229          129          106   \n",
       "3               5       328       135          77           34           16   \n",
       "4               2       317       182          43           16           13   \n",
       "\n",
       "   assist_tot_CL  whoscored1819     valore  \n",
       "0              7           7.96  180000000  \n",
       "1             23           8.41  180000000  \n",
       "2             28           8.71  180000000  \n",
       "3              6           7.61  150000000  \n",
       "4              3           7.32  150000000  \n",
       "\n",
       "[5 rows x 55 columns]"
      ]
     },
     "execution_count": 115,
     "metadata": {},
     "output_type": "execute_result"
    }
   ],
   "source": [
    "url = 'https://docs.google.com/spreadsheets/d/1RPiYmNxy8NWKp-uu_swOkRkTuq9cqJNnzJpl5BPliDM/export?format=csv&id=1RPiYmNxy8NWKp-uu_swOkRkTuq9cqJNnzJpl5BPliDM&gid=2001946666'\n",
    "r = get(url)\n",
    "data = r.content.decode('utf-8')\n",
    "\n",
    "df = pd.read_csv(StringIO(data))\n",
    "df.head()"
   ]
  },
  {
   "cell_type": "code",
   "execution_count": 116,
   "metadata": {},
   "outputs": [
    {
     "data": {
      "text/plain": [
       "Index(['nome', 'nome_chiave', 'eta', 'ruolo', 'ruolo_dettaglio', 'squadra',\n",
       "       'nazione_squadra', 'nazione_giocatore', 'instagram_followers',\n",
       "       'facebook_followers', 'twitter_followers', 'insta_likes_avg',\n",
       "       'google_hits', 'google_hits_1', 'wiki_visual', 'insta_hashtag',\n",
       "       'GER_kicker', 'GER_bild_G', 'GER_eurosport_G', 'ITA_corriere',\n",
       "       'ITA_sky_G', 'ITA_gazzetta_G', 'ENG_thesun', 'ENG_sky_G',\n",
       "       'ENG_guardian_G', 'SPA_marca', 'SPA_as_G', 'SPA_mundodep_G',\n",
       "       'FRA_francefootball_G', 'FRA_lequipe_G', 'FRA_eurosport_G',\n",
       "       'FRA_le10sport_G', 'INT_eurosport_G', 'INT_espn_G', 'INT_bein_G',\n",
       "       'pres_2018_tot', 'goal_2018_tot', 'assist_2018_tot', 'pres_2018_CL',\n",
       "       'goal_2018_CL', 'assist_2018_CL', 'pres_2017_tot', 'goal_2017_tot',\n",
       "       'assist_2017_tot', 'pres_2017_CL', 'goal_2017_CL', 'assist_2017_CL',\n",
       "       'pres_tot', 'goal_tot', 'assist_tot', 'pres_tot_CL', 'goal_tot_CL',\n",
       "       'assist_tot_CL', 'whoscored1819', 'valore'],\n",
       "      dtype='object')"
      ]
     },
     "execution_count": 116,
     "metadata": {},
     "output_type": "execute_result"
    }
   ],
   "source": [
    "df.columns"
   ]
  },
  {
   "cell_type": "code",
   "execution_count": 117,
   "metadata": {},
   "outputs": [],
   "source": [
    "def Normalize(df):\n",
    "    n = df.shape[1]\n",
    "    c = df.columns\n",
    "    o = pd.DataFrame(columns=c)\n",
    "    for i in range(n):\n",
    "        x = df.iloc[:, i].values\n",
    "        z = (x-x.min())/(x.max()-x.min())\n",
    "        o[c[i]] = z\n",
    "    return o"
   ]
  },
  {
   "cell_type": "markdown",
   "metadata": {},
   "source": [
    "# DIMENSIONE MEDIA"
   ]
  },
  {
   "cell_type": "code",
   "execution_count": 118,
   "metadata": {},
   "outputs": [
    {
     "data": {
      "text/plain": [
       "Index(['nome', 'nome_chiave', 'eta', 'ruolo', 'ruolo_dettaglio', 'squadra',\n",
       "       'nazione_squadra', 'nazione_giocatore', 'instagram_followers',\n",
       "       'facebook_followers', 'twitter_followers', 'insta_likes_avg',\n",
       "       'google_hits', 'google_hits_1', 'wiki_visual', 'insta_hashtag',\n",
       "       'GER_kicker', 'GER_bild_G', 'GER_eurosport_G', 'ITA_corriere',\n",
       "       'ITA_sky_G', 'ITA_gazzetta_G', 'ENG_thesun', 'ENG_sky_G',\n",
       "       'ENG_guardian_G', 'SPA_marca', 'SPA_as_G', 'SPA_mundodep_G',\n",
       "       'FRA_francefootball_G', 'FRA_lequipe_G', 'FRA_eurosport_G',\n",
       "       'FRA_le10sport_G', 'INT_eurosport_G', 'INT_espn_G', 'INT_bein_G',\n",
       "       'pres_2018_tot', 'goal_2018_tot', 'assist_2018_tot', 'pres_2018_CL',\n",
       "       'goal_2018_CL', 'assist_2018_CL', 'pres_2017_tot', 'goal_2017_tot',\n",
       "       'assist_2017_tot', 'pres_2017_CL', 'goal_2017_CL', 'assist_2017_CL',\n",
       "       'pres_tot', 'goal_tot', 'assist_tot', 'pres_tot_CL', 'goal_tot_CL',\n",
       "       'assist_tot_CL', 'whoscored1819', 'valore'],\n",
       "      dtype='object')"
      ]
     },
     "execution_count": 118,
     "metadata": {},
     "output_type": "execute_result"
    }
   ],
   "source": [
    "df.columns"
   ]
  },
  {
   "cell_type": "code",
   "execution_count": 119,
   "metadata": {},
   "outputs": [],
   "source": [
    "# Germania\n",
    "\n",
    "cols1=['GER_bild_G', 'GER_eurosport_G', 'GER_kicker']\n",
    "X = Normalize(log(df[cols1]))\n",
    "df['Germania'] = X.mean(axis=1)\n",
    "\n",
    "# Francia\n",
    "\n",
    "cols1=['FRA_francefootball_G', 'FRA_lequipe_G', 'FRA_eurosport_G']\n",
    "X = Normalize(log(df[cols1]))\n",
    "df['Francia'] = X.mean(axis=1)\n",
    "\n",
    "# Italia\n",
    "\n",
    "cols1=['ITA_corriere', 'ITA_sky_G', 'ITA_gazzetta_G']\n",
    "X = Normalize(log(df[cols1]))\n",
    "df['Italia'] = X.mean(axis=1)\n",
    "\n",
    "# Spagna\n",
    "\n",
    "cols1=['SPA_marca', 'SPA_as_G', 'SPA_mundodep_G']\n",
    "X = Normalize(log(df[cols1]))\n",
    "df['Spagna'] = X.mean(axis=1)\n",
    "\n",
    "# Inghilterra\n",
    "\n",
    "cols1=['ENG_thesun', 'ENG_guardian_G', 'ENG_sky_G']\n",
    "X = Normalize(log(df[cols1]))\n",
    "df['Inghilterra'] = X.mean(axis=1)\n",
    "\n",
    "# Internazionale\n",
    "\n",
    "cols1=['INT_eurosport_G', 'INT_espn_G', 'INT_bein_G']\n",
    "X = Normalize(log(df[cols1]))\n",
    "df['Internazionale'] = X.mean(axis=1)"
   ]
  },
  {
   "cell_type": "code",
   "execution_count": 120,
   "metadata": {},
   "outputs": [],
   "source": [
    "df['MEDIA'] = (df.Germania+df.Francia+df.Italia+df.Spagna+df.Inghilterra+df.Internazionale)/6"
   ]
  },
  {
   "cell_type": "code",
   "execution_count": 121,
   "metadata": {},
   "outputs": [
    {
     "data": {
      "text/html": [
       "<div>\n",
       "<style scoped>\n",
       "    .dataframe tbody tr th:only-of-type {\n",
       "        vertical-align: middle;\n",
       "    }\n",
       "\n",
       "    .dataframe tbody tr th {\n",
       "        vertical-align: top;\n",
       "    }\n",
       "\n",
       "    .dataframe thead th {\n",
       "        text-align: right;\n",
       "    }\n",
       "</style>\n",
       "<table border=\"1\" class=\"dataframe\">\n",
       "  <thead>\n",
       "    <tr style=\"text-align: right;\">\n",
       "      <th></th>\n",
       "      <th>nome</th>\n",
       "      <th>nome_chiave</th>\n",
       "      <th>eta</th>\n",
       "      <th>ruolo</th>\n",
       "      <th>ruolo_dettaglio</th>\n",
       "      <th>squadra</th>\n",
       "      <th>nazione_squadra</th>\n",
       "      <th>nazione_giocatore</th>\n",
       "      <th>instagram_followers</th>\n",
       "      <th>facebook_followers</th>\n",
       "      <th>...</th>\n",
       "      <th>assist_tot_CL</th>\n",
       "      <th>whoscored1819</th>\n",
       "      <th>valore</th>\n",
       "      <th>Germania</th>\n",
       "      <th>Francia</th>\n",
       "      <th>Italia</th>\n",
       "      <th>Spagna</th>\n",
       "      <th>Inghilterra</th>\n",
       "      <th>Internazionale</th>\n",
       "      <th>MEDIA</th>\n",
       "    </tr>\n",
       "  </thead>\n",
       "  <tbody>\n",
       "    <tr>\n",
       "      <th>0</th>\n",
       "      <td>Kylian Mbappé</td>\n",
       "      <td>Mbappé</td>\n",
       "      <td>19</td>\n",
       "      <td>Attaccante</td>\n",
       "      <td>Ala destra</td>\n",
       "      <td>FC Paris Saint-Germain</td>\n",
       "      <td>Francia</td>\n",
       "      <td>Francia</td>\n",
       "      <td>24019703.0</td>\n",
       "      <td>1639467.0</td>\n",
       "      <td>...</td>\n",
       "      <td>7</td>\n",
       "      <td>7.96</td>\n",
       "      <td>180000000</td>\n",
       "      <td>0.661297</td>\n",
       "      <td>0.964054</td>\n",
       "      <td>0.814640</td>\n",
       "      <td>0.674346</td>\n",
       "      <td>0.751444</td>\n",
       "      <td>0.847766</td>\n",
       "      <td>0.785591</td>\n",
       "    </tr>\n",
       "    <tr>\n",
       "      <th>1</th>\n",
       "      <td>Neymar</td>\n",
       "      <td>Neymar</td>\n",
       "      <td>26</td>\n",
       "      <td>Attaccante</td>\n",
       "      <td>Ala sinistra</td>\n",
       "      <td>FC Paris Saint-Germain</td>\n",
       "      <td>Francia</td>\n",
       "      <td>Brasile</td>\n",
       "      <td>107716768.0</td>\n",
       "      <td>60699722.0</td>\n",
       "      <td>...</td>\n",
       "      <td>23</td>\n",
       "      <td>8.41</td>\n",
       "      <td>180000000</td>\n",
       "      <td>0.878533</td>\n",
       "      <td>0.961669</td>\n",
       "      <td>0.888165</td>\n",
       "      <td>0.898381</td>\n",
       "      <td>0.842264</td>\n",
       "      <td>0.952035</td>\n",
       "      <td>0.903508</td>\n",
       "    </tr>\n",
       "    <tr>\n",
       "      <th>2</th>\n",
       "      <td>Leo Messi</td>\n",
       "      <td>Messi</td>\n",
       "      <td>31</td>\n",
       "      <td>Attaccante</td>\n",
       "      <td>Ala destra</td>\n",
       "      <td>FC Barcellona</td>\n",
       "      <td>Spagna</td>\n",
       "      <td>Argentina</td>\n",
       "      <td>103764191.0</td>\n",
       "      <td>89898268.0</td>\n",
       "      <td>...</td>\n",
       "      <td>28</td>\n",
       "      <td>8.71</td>\n",
       "      <td>180000000</td>\n",
       "      <td>0.855078</td>\n",
       "      <td>0.962311</td>\n",
       "      <td>0.947850</td>\n",
       "      <td>1.000000</td>\n",
       "      <td>0.864732</td>\n",
       "      <td>0.980338</td>\n",
       "      <td>0.935052</td>\n",
       "    </tr>\n",
       "    <tr>\n",
       "      <th>3</th>\n",
       "      <td>Mohamed Salah</td>\n",
       "      <td>Salah</td>\n",
       "      <td>26</td>\n",
       "      <td>Attaccante</td>\n",
       "      <td>Ala destra</td>\n",
       "      <td>FC Liverpool</td>\n",
       "      <td>Inghilterra</td>\n",
       "      <td>Egitto</td>\n",
       "      <td>21661975.0</td>\n",
       "      <td>11016135.0</td>\n",
       "      <td>...</td>\n",
       "      <td>6</td>\n",
       "      <td>7.61</td>\n",
       "      <td>150000000</td>\n",
       "      <td>0.682767</td>\n",
       "      <td>0.758272</td>\n",
       "      <td>0.867892</td>\n",
       "      <td>0.610127</td>\n",
       "      <td>0.866545</td>\n",
       "      <td>0.861211</td>\n",
       "      <td>0.774469</td>\n",
       "    </tr>\n",
       "    <tr>\n",
       "      <th>4</th>\n",
       "      <td>Harry Kane</td>\n",
       "      <td>Kane</td>\n",
       "      <td>25</td>\n",
       "      <td>Attaccante</td>\n",
       "      <td>Punta centrale</td>\n",
       "      <td>Tottenham Hotspur</td>\n",
       "      <td>Inghilterra</td>\n",
       "      <td>Inghilterra</td>\n",
       "      <td>7389999.0</td>\n",
       "      <td>1660408.0</td>\n",
       "      <td>...</td>\n",
       "      <td>3</td>\n",
       "      <td>7.32</td>\n",
       "      <td>150000000</td>\n",
       "      <td>0.640757</td>\n",
       "      <td>0.626784</td>\n",
       "      <td>0.638071</td>\n",
       "      <td>0.670535</td>\n",
       "      <td>0.911609</td>\n",
       "      <td>0.786139</td>\n",
       "      <td>0.712316</td>\n",
       "    </tr>\n",
       "  </tbody>\n",
       "</table>\n",
       "<p>5 rows × 62 columns</p>\n",
       "</div>"
      ],
      "text/plain": [
       "            nome nome_chiave  eta       ruolo ruolo_dettaglio  \\\n",
       "0  Kylian Mbappé      Mbappé   19  Attaccante      Ala destra   \n",
       "1         Neymar      Neymar   26  Attaccante    Ala sinistra   \n",
       "2      Leo Messi       Messi   31  Attaccante      Ala destra   \n",
       "3  Mohamed Salah       Salah   26  Attaccante      Ala destra   \n",
       "4     Harry Kane        Kane   25  Attaccante  Punta centrale   \n",
       "\n",
       "                  squadra nazione_squadra nazione_giocatore  \\\n",
       "0  FC Paris Saint-Germain         Francia           Francia   \n",
       "1  FC Paris Saint-Germain         Francia           Brasile   \n",
       "2           FC Barcellona          Spagna         Argentina   \n",
       "3            FC Liverpool     Inghilterra            Egitto   \n",
       "4       Tottenham Hotspur     Inghilterra       Inghilterra   \n",
       "\n",
       "   instagram_followers  facebook_followers    ...     assist_tot_CL  \\\n",
       "0           24019703.0           1639467.0    ...                 7   \n",
       "1          107716768.0          60699722.0    ...                23   \n",
       "2          103764191.0          89898268.0    ...                28   \n",
       "3           21661975.0          11016135.0    ...                 6   \n",
       "4            7389999.0           1660408.0    ...                 3   \n",
       "\n",
       "   whoscored1819     valore  Germania   Francia    Italia    Spagna  \\\n",
       "0           7.96  180000000  0.661297  0.964054  0.814640  0.674346   \n",
       "1           8.41  180000000  0.878533  0.961669  0.888165  0.898381   \n",
       "2           8.71  180000000  0.855078  0.962311  0.947850  1.000000   \n",
       "3           7.61  150000000  0.682767  0.758272  0.867892  0.610127   \n",
       "4           7.32  150000000  0.640757  0.626784  0.638071  0.670535   \n",
       "\n",
       "   Inghilterra  Internazionale     MEDIA  \n",
       "0     0.751444        0.847766  0.785591  \n",
       "1     0.842264        0.952035  0.903508  \n",
       "2     0.864732        0.980338  0.935052  \n",
       "3     0.866545        0.861211  0.774469  \n",
       "4     0.911609        0.786139  0.712316  \n",
       "\n",
       "[5 rows x 62 columns]"
      ]
     },
     "execution_count": 121,
     "metadata": {},
     "output_type": "execute_result"
    }
   ],
   "source": [
    "df.head()"
   ]
  },
  {
   "cell_type": "code",
   "execution_count": 148,
   "metadata": {},
   "outputs": [],
   "source": [
    "from scipy.stats import ttest_ind"
   ]
  },
  {
   "cell_type": "markdown",
   "metadata": {},
   "source": [
    "# italia"
   ]
  },
  {
   "cell_type": "code",
   "execution_count": 122,
   "metadata": {},
   "outputs": [],
   "source": [
    "ITAita = df.loc[df.nazione_squadra == \"Italia\",\"Italia\"]"
   ]
  },
  {
   "cell_type": "code",
   "execution_count": 123,
   "metadata": {},
   "outputs": [],
   "source": [
    "ITAother = df.loc[df.nazione_squadra != \"Italia\",\"Italia\"]"
   ]
  },
  {
   "cell_type": "code",
   "execution_count": 181,
   "metadata": {
    "scrolled": true
   },
   "outputs": [
    {
     "data": {
      "image/png": "[encoded data removed]",
      "text/plain": [
       "<Figure size 432x288 with 1 Axes>"
      ]
     },
     "metadata": {
      "needs_background": "light"
     },
     "output_type": "display_data"
    }
   ],
   "source": [
    "num_bins = 8\n",
    "n, bins, patches = plt.hist(ITAita, num_bins, facecolor='blue')\n",
    "plt.show()"
   ]
  },
  {
   "cell_type": "code",
   "execution_count": 183,
   "metadata": {},
   "outputs": [
    {
     "data": {
      "image/png": "[encoded data removed]",
      "text/plain": [
       "<Figure size 432x288 with 1 Axes>"
      ]
     },
     "metadata": {
      "needs_background": "light"
     },
     "output_type": "display_data"
    }
   ],
   "source": [
    "num_bins = 6\n",
    "n, bins, patches = plt.hist(ITAother, num_bins, facecolor='blue')\n",
    "plt.show()"
   ]
  },
  {
   "cell_type": "code",
   "execution_count": 124,
   "metadata": {},
   "outputs": [
    {
     "data": {
      "text/plain": [
       "(0.7298531783165041, 0.7196306635096099)"
      ]
     },
     "execution_count": 124,
     "metadata": {},
     "output_type": "execute_result"
    }
   ],
   "source": [
    "np.median(ITAita), np.mean(ITAita)"
   ]
  },
  {
   "cell_type": "code",
   "execution_count": 125,
   "metadata": {
    "scrolled": false
   },
   "outputs": [
    {
     "data": {
      "text/plain": [
       "(0.4668159378016039, 0.45796574196808304)"
      ]
     },
     "execution_count": 125,
     "metadata": {},
     "output_type": "execute_result"
    }
   ],
   "source": [
    "np.median(ITAother), np.mean(ITAother)"
   ]
  },
  {
   "cell_type": "code",
   "execution_count": 127,
   "metadata": {},
   "outputs": [
    {
     "data": {
      "text/plain": [
       "Ttest_indResult(statistic=10.296483095801985, pvalue=1.8013034839673113e-21)"
      ]
     },
     "execution_count": 127,
     "metadata": {},
     "output_type": "execute_result"
    }
   ],
   "source": [
    "ttest_ind(ITAita, ITAother)"
   ]
  },
  {
   "cell_type": "markdown",
   "metadata": {},
   "source": [
    "# francia"
   ]
  },
  {
   "cell_type": "code",
   "execution_count": 128,
   "metadata": {},
   "outputs": [],
   "source": [
    "FRAfra = df.loc[df.nazione_squadra == \"Francia\",\"Francia\"]"
   ]
  },
  {
   "cell_type": "code",
   "execution_count": 129,
   "metadata": {},
   "outputs": [],
   "source": [
    "FRAother = df.loc[df.nazione_squadra != \"Francia\",\"Francia\"]"
   ]
  },
  {
   "cell_type": "code",
   "execution_count": 130,
   "metadata": {},
   "outputs": [
    {
     "data": {
      "text/plain": [
       "(0.6928960638075372, 0.6797578858426897)"
      ]
     },
     "execution_count": 130,
     "metadata": {},
     "output_type": "execute_result"
    }
   ],
   "source": [
    "np.median(FRAfra), np.mean(FRAfra)"
   ]
  },
  {
   "cell_type": "code",
   "execution_count": 131,
   "metadata": {
    "scrolled": false
   },
   "outputs": [
    {
     "data": {
      "text/plain": [
       "(0.4689847328133892, 0.4851552766315552)"
      ]
     },
     "execution_count": 131,
     "metadata": {},
     "output_type": "execute_result"
    }
   ],
   "source": [
    "np.median(FRAother), np.mean(FRAother)"
   ]
  },
  {
   "cell_type": "code",
   "execution_count": 132,
   "metadata": {
    "scrolled": true
   },
   "outputs": [
    {
     "data": {
      "text/plain": [
       "Ttest_indResult(statistic=4.897926101578335, pvalue=1.5911852456571526e-06)"
      ]
     },
     "execution_count": 132,
     "metadata": {},
     "output_type": "execute_result"
    }
   ],
   "source": [
    "ttest_ind(FRAfra,FRAother)"
   ]
  },
  {
   "cell_type": "markdown",
   "metadata": {},
   "source": [
    "# inghilterra"
   ]
  },
  {
   "cell_type": "code",
   "execution_count": 133,
   "metadata": {},
   "outputs": [],
   "source": [
    "INGing = df.loc[df.nazione_squadra == \"Inghilterra\",\"Inghilterra\"]"
   ]
  },
  {
   "cell_type": "code",
   "execution_count": 134,
   "metadata": {},
   "outputs": [],
   "source": [
    "INGother = df.loc[df.nazione_squadra != \"Inghilterra\",\"Inghilterra\"]"
   ]
  },
  {
   "cell_type": "code",
   "execution_count": 135,
   "metadata": {},
   "outputs": [
    {
     "data": {
      "text/plain": [
       "(0.6931783588979756, 0.7140756977797795)"
      ]
     },
     "execution_count": 135,
     "metadata": {},
     "output_type": "execute_result"
    }
   ],
   "source": [
    "np.median(INGing), np.mean(INGing)"
   ]
  },
  {
   "cell_type": "code",
   "execution_count": 136,
   "metadata": {
    "scrolled": false
   },
   "outputs": [
    {
     "data": {
      "text/plain": [
       "(0.4941720445855291, 0.5007175770033756)"
      ]
     },
     "execution_count": 136,
     "metadata": {},
     "output_type": "execute_result"
    }
   ],
   "source": [
    "np.median(INGother), np.mean(INGother)"
   ]
  },
  {
   "cell_type": "code",
   "execution_count": 137,
   "metadata": {
    "scrolled": true
   },
   "outputs": [
    {
     "data": {
      "text/plain": [
       "Ttest_indResult(statistic=12.771833948957502, pvalue=4.340051640417484e-30)"
      ]
     },
     "execution_count": 137,
     "metadata": {},
     "output_type": "execute_result"
    }
   ],
   "source": [
    "ttest_ind(INGing,INGother)"
   ]
  },
  {
   "cell_type": "markdown",
   "metadata": {},
   "source": [
    "# germania"
   ]
  },
  {
   "cell_type": "code",
   "execution_count": 138,
   "metadata": {},
   "outputs": [],
   "source": [
    "GERger = df.loc[df.nazione_squadra == \"Germania\",\"Germania\"]"
   ]
  },
  {
   "cell_type": "code",
   "execution_count": 139,
   "metadata": {},
   "outputs": [],
   "source": [
    "GERother = df.loc[df.nazione_squadra != \"Germania\",\"Germania\"]"
   ]
  },
  {
   "cell_type": "code",
   "execution_count": 140,
   "metadata": {},
   "outputs": [
    {
     "data": {
      "text/plain": [
       "(0.6290081663306265, 0.6522471942647693)"
      ]
     },
     "execution_count": 140,
     "metadata": {},
     "output_type": "execute_result"
    }
   ],
   "source": [
    "np.median(GERger), np.mean(GERger)"
   ]
  },
  {
   "cell_type": "code",
   "execution_count": 141,
   "metadata": {
    "scrolled": false
   },
   "outputs": [
    {
     "data": {
      "text/plain": [
       "(0.476796627756289, 0.46407925504314407)"
      ]
     },
     "execution_count": 141,
     "metadata": {},
     "output_type": "execute_result"
    }
   ],
   "source": [
    "np.median(GERother), np.mean(GERother)"
   ]
  },
  {
   "cell_type": "code",
   "execution_count": 142,
   "metadata": {
    "scrolled": false
   },
   "outputs": [
    {
     "data": {
      "text/plain": [
       "Ttest_indResult(statistic=6.615079610164079, pvalue=1.7192249257726692e-10)"
      ]
     },
     "execution_count": 142,
     "metadata": {},
     "output_type": "execute_result"
    }
   ],
   "source": [
    "ttest_ind(GERger,GERother)"
   ]
  },
  {
   "cell_type": "markdown",
   "metadata": {},
   "source": [
    "# spagna"
   ]
  },
  {
   "cell_type": "code",
   "execution_count": 143,
   "metadata": {},
   "outputs": [],
   "source": [
    "SPAspa = df.loc[df.nazione_squadra == \"Spagna\",\"Spagna\"]"
   ]
  },
  {
   "cell_type": "code",
   "execution_count": 144,
   "metadata": {},
   "outputs": [],
   "source": [
    "SPAother = df.loc[df.nazione_squadra != \"Spagna\",\"Spagna\"]"
   ]
  },
  {
   "cell_type": "code",
   "execution_count": 145,
   "metadata": {},
   "outputs": [
    {
     "data": {
      "text/plain": [
       "(0.5950386930055677, 0.5960232652218929)"
      ]
     },
     "execution_count": 145,
     "metadata": {},
     "output_type": "execute_result"
    }
   ],
   "source": [
    "np.median(SPAspa), np.mean(SPAspa)"
   ]
  },
  {
   "cell_type": "code",
   "execution_count": 146,
   "metadata": {
    "scrolled": false
   },
   "outputs": [
    {
     "data": {
      "text/plain": [
       "(0.3891427957674789, 0.4053538464033888)"
      ]
     },
     "execution_count": 146,
     "metadata": {},
     "output_type": "execute_result"
    }
   ],
   "source": [
    "np.median(SPAother), np.mean(SPAother)"
   ]
  },
  {
   "cell_type": "code",
   "execution_count": 147,
   "metadata": {
    "scrolled": true
   },
   "outputs": [
    {
     "data": {
      "text/plain": [
       "Ttest_indResult(statistic=8.86338206972092, pvalue=7.218792159733735e-17)"
      ]
     },
     "execution_count": 147,
     "metadata": {},
     "output_type": "execute_result"
    }
   ],
   "source": [
    "ttest_ind(SPAspa,SPAother)"
   ]
  },
  {
   "cell_type": "code",
   "execution_count": null,
   "metadata": {},
   "outputs": [],
   "source": []
  },
  {
   "cell_type": "code",
   "execution_count": null,
   "metadata": {},
   "outputs": [],
   "source": []
  },
  {
   "cell_type": "code",
   "execution_count": null,
   "metadata": {},
   "outputs": [],
   "source": []
  }
 ],
 "metadata": {
  "kernelspec": {
   "display_name": "Python 3",
   "language": "python",
   "name": "python3"
  },
  "language_info": {
   "codemirror_mode": {
    "name": "ipython",
    "version": 3
   },
   "file_extension": ".py",
   "mimetype": "text/x-python",
   "name": "python",
   "nbconvert_exporter": "python",
   "pygments_lexer": "ipython3",
   "version": "3.7.0"
  }
 },
 "nbformat": 4,
 "nbformat_minor": 2
}
