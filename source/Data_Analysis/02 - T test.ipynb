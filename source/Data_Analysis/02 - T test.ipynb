{
 "cells": [
  {
   "cell_type": "markdown",
   "metadata": {},
   "source": [
    "# 02 - T-test"
   ]
  },
  {
   "cell_type": "code",
   "execution_count": 1,
   "metadata": {},
   "outputs": [],
   "source": [
    "import pandas as pd\n",
    "import numpy as np\n",
    "from numpy import log\n",
    "from sklearn.decomposition import PCA\n",
    "from sklearn.preprocessing import StandardScaler\n",
    "from sklearn.linear_model import LinearRegression\n",
    "import matplotlib.pyplot as plt\n",
    "from requests import get\n",
    "from io import StringIO\n",
    "from sklearn import preprocessing\n",
    "import matplotlib.mlab as mlab\n",
    "import matplotlib.pyplot as plt\n",
    "from statsmodels.graphics.gofplots import qqplot\n",
    "from matplotlib import pyplot\n",
    "from scipy.stats import shapiro\n",
    "from scipy.stats import ttest_ind\n",
    "from scipy import stats"
   ]
  },
  {
   "cell_type": "code",
   "execution_count": 2,
   "metadata": {},
   "outputs": [
    {
     "data": {
      "text/html": [
       "<div>\n",
       "<style scoped>\n",
       "    .dataframe tbody tr th:only-of-type {\n",
       "        vertical-align: middle;\n",
       "    }\n",
       "\n",
       "    .dataframe tbody tr th {\n",
       "        vertical-align: top;\n",
       "    }\n",
       "\n",
       "    .dataframe thead th {\n",
       "        text-align: right;\n",
       "    }\n",
       "</style>\n",
       "<table border=\"1\" class=\"dataframe\">\n",
       "  <thead>\n",
       "    <tr style=\"text-align: right;\">\n",
       "      <th></th>\n",
       "      <th>nome</th>\n",
       "      <th>nome_chiave</th>\n",
       "      <th>eta</th>\n",
       "      <th>ruolo</th>\n",
       "      <th>ruolo_dettaglio</th>\n",
       "      <th>squadra</th>\n",
       "      <th>nazione_squadra</th>\n",
       "      <th>nazione_giocatore</th>\n",
       "      <th>instagram_followers</th>\n",
       "      <th>facebook_followers</th>\n",
       "      <th>...</th>\n",
       "      <th>goal_2017_CL</th>\n",
       "      <th>assist_2017_CL</th>\n",
       "      <th>pres_tot</th>\n",
       "      <th>goal_tot</th>\n",
       "      <th>assist_tot</th>\n",
       "      <th>pres_tot_CL</th>\n",
       "      <th>goal_tot_CL</th>\n",
       "      <th>assist_tot_CL</th>\n",
       "      <th>whoscored1819</th>\n",
       "      <th>valore</th>\n",
       "    </tr>\n",
       "  </thead>\n",
       "  <tbody>\n",
       "    <tr>\n",
       "      <th>0</th>\n",
       "      <td>Kylian Mbappé</td>\n",
       "      <td>Mbappé</td>\n",
       "      <td>19</td>\n",
       "      <td>Attaccante</td>\n",
       "      <td>Ala destra</td>\n",
       "      <td>FC Paris Saint-Germain</td>\n",
       "      <td>Francia</td>\n",
       "      <td>Francia</td>\n",
       "      <td>24019703.0</td>\n",
       "      <td>1639467.0</td>\n",
       "      <td>...</td>\n",
       "      <td>4</td>\n",
       "      <td>3</td>\n",
       "      <td>124</td>\n",
       "      <td>64</td>\n",
       "      <td>42</td>\n",
       "      <td>23</td>\n",
       "      <td>13</td>\n",
       "      <td>7</td>\n",
       "      <td>7.96</td>\n",
       "      <td>180000000</td>\n",
       "    </tr>\n",
       "    <tr>\n",
       "      <th>1</th>\n",
       "      <td>Neymar</td>\n",
       "      <td>Neymar</td>\n",
       "      <td>26</td>\n",
       "      <td>Attaccante</td>\n",
       "      <td>Ala sinistra</td>\n",
       "      <td>FC Paris Saint-Germain</td>\n",
       "      <td>Francia</td>\n",
       "      <td>Brasile</td>\n",
       "      <td>107716768.0</td>\n",
       "      <td>60699722.0</td>\n",
       "      <td>...</td>\n",
       "      <td>6</td>\n",
       "      <td>3</td>\n",
       "      <td>369</td>\n",
       "      <td>219</td>\n",
       "      <td>135</td>\n",
       "      <td>53</td>\n",
       "      <td>32</td>\n",
       "      <td>23</td>\n",
       "      <td>8.41</td>\n",
       "      <td>180000000</td>\n",
       "    </tr>\n",
       "    <tr>\n",
       "      <th>2</th>\n",
       "      <td>Leo Messi</td>\n",
       "      <td>Messi</td>\n",
       "      <td>31</td>\n",
       "      <td>Attaccante</td>\n",
       "      <td>Ala destra</td>\n",
       "      <td>FC Barcellona</td>\n",
       "      <td>Spagna</td>\n",
       "      <td>Argentina</td>\n",
       "      <td>103764191.0</td>\n",
       "      <td>89898268.0</td>\n",
       "      <td>...</td>\n",
       "      <td>6</td>\n",
       "      <td>2</td>\n",
       "      <td>657</td>\n",
       "      <td>573</td>\n",
       "      <td>229</td>\n",
       "      <td>129</td>\n",
       "      <td>106</td>\n",
       "      <td>28</td>\n",
       "      <td>8.71</td>\n",
       "      <td>180000000</td>\n",
       "    </tr>\n",
       "    <tr>\n",
       "      <th>3</th>\n",
       "      <td>Mohamed Salah</td>\n",
       "      <td>Salah</td>\n",
       "      <td>26</td>\n",
       "      <td>Attaccante</td>\n",
       "      <td>Ala destra</td>\n",
       "      <td>FC Liverpool</td>\n",
       "      <td>Inghilterra</td>\n",
       "      <td>Egitto</td>\n",
       "      <td>21661975.0</td>\n",
       "      <td>11016135.0</td>\n",
       "      <td>...</td>\n",
       "      <td>10</td>\n",
       "      <td>5</td>\n",
       "      <td>328</td>\n",
       "      <td>135</td>\n",
       "      <td>77</td>\n",
       "      <td>34</td>\n",
       "      <td>16</td>\n",
       "      <td>6</td>\n",
       "      <td>7.61</td>\n",
       "      <td>150000000</td>\n",
       "    </tr>\n",
       "    <tr>\n",
       "      <th>4</th>\n",
       "      <td>Harry Kane</td>\n",
       "      <td>Kane</td>\n",
       "      <td>25</td>\n",
       "      <td>Attaccante</td>\n",
       "      <td>Punta centrale</td>\n",
       "      <td>Tottenham Hotspur</td>\n",
       "      <td>Inghilterra</td>\n",
       "      <td>Inghilterra</td>\n",
       "      <td>7389999.0</td>\n",
       "      <td>1660408.0</td>\n",
       "      <td>...</td>\n",
       "      <td>7</td>\n",
       "      <td>2</td>\n",
       "      <td>317</td>\n",
       "      <td>182</td>\n",
       "      <td>43</td>\n",
       "      <td>16</td>\n",
       "      <td>13</td>\n",
       "      <td>3</td>\n",
       "      <td>7.32</td>\n",
       "      <td>150000000</td>\n",
       "    </tr>\n",
       "  </tbody>\n",
       "</table>\n",
       "<p>5 rows × 55 columns</p>\n",
       "</div>"
      ],
      "text/plain": [
       "            nome nome_chiave  eta       ruolo ruolo_dettaglio  \\\n",
       "0  Kylian Mbappé      Mbappé   19  Attaccante      Ala destra   \n",
       "1         Neymar      Neymar   26  Attaccante    Ala sinistra   \n",
       "2      Leo Messi       Messi   31  Attaccante      Ala destra   \n",
       "3  Mohamed Salah       Salah   26  Attaccante      Ala destra   \n",
       "4     Harry Kane        Kane   25  Attaccante  Punta centrale   \n",
       "\n",
       "                  squadra nazione_squadra nazione_giocatore  \\\n",
       "0  FC Paris Saint-Germain         Francia           Francia   \n",
       "1  FC Paris Saint-Germain         Francia           Brasile   \n",
       "2           FC Barcellona          Spagna         Argentina   \n",
       "3            FC Liverpool     Inghilterra            Egitto   \n",
       "4       Tottenham Hotspur     Inghilterra       Inghilterra   \n",
       "\n",
       "   instagram_followers  facebook_followers    ...      goal_2017_CL  \\\n",
       "0           24019703.0           1639467.0    ...                 4   \n",
       "1          107716768.0          60699722.0    ...                 6   \n",
       "2          103764191.0          89898268.0    ...                 6   \n",
       "3           21661975.0          11016135.0    ...                10   \n",
       "4            7389999.0           1660408.0    ...                 7   \n",
       "\n",
       "   assist_2017_CL  pres_tot  goal_tot  assist_tot  pres_tot_CL  goal_tot_CL  \\\n",
       "0               3       124        64          42           23           13   \n",
       "1               3       369       219         135           53           32   \n",
       "2               2       657       573         229          129          106   \n",
       "3               5       328       135          77           34           16   \n",
       "4               2       317       182          43           16           13   \n",
       "\n",
       "   assist_tot_CL  whoscored1819     valore  \n",
       "0              7           7.96  180000000  \n",
       "1             23           8.41  180000000  \n",
       "2             28           8.71  180000000  \n",
       "3              6           7.61  150000000  \n",
       "4              3           7.32  150000000  \n",
       "\n",
       "[5 rows x 55 columns]"
      ]
     },
     "execution_count": 2,
     "metadata": {},
     "output_type": "execute_result"
    }
   ],
   "source": [
    "url = 'https://docs.google.com/spreadsheets/d/1RPiYmNxy8NWKp-uu_swOkRkTuq9cqJNnzJpl5BPliDM/export?format=csv&id=1RPiYmNxy8NWKp-uu_swOkRkTuq9cqJNnzJpl5BPliDM&gid=2001946666'\n",
    "r = get(url)\n",
    "data = r.content.decode('utf-8')\n",
    "\n",
    "df = pd.read_csv(StringIO(data))\n",
    "df.head()"
   ]
  },
  {
   "cell_type": "code",
   "execution_count": 4,
   "metadata": {},
   "outputs": [],
   "source": [
    "def Normalize(df):\n",
    "    n = df.shape[1]\n",
    "    c = df.columns\n",
    "    o = pd.DataFrame(columns=c)\n",
    "    for i in range(n):\n",
    "        x = df.iloc[:, i].values\n",
    "        z = (x-x.min())/(x.max()-x.min())\n",
    "        o[c[i]] = z\n",
    "    return o"
   ]
  },
  {
   "cell_type": "markdown",
   "metadata": {},
   "source": [
    "# DIMENSIONE MEDIA"
   ]
  },
  {
   "cell_type": "code",
   "execution_count": 6,
   "metadata": {},
   "outputs": [],
   "source": [
    "# Germania\n",
    "\n",
    "cols1=['GER_bild_G', 'GER_eurosport_G', 'GER_kicker']\n",
    "X = Normalize(log(df[cols1]))\n",
    "df['Germania'] = X.mean(axis=1)\n",
    "\n",
    "# Francia\n",
    "\n",
    "cols1=['FRA_francefootball_G', 'FRA_lequipe_G', 'FRA_eurosport_G']\n",
    "X = Normalize(log(df[cols1]))\n",
    "df['Francia'] = X.mean(axis=1)\n",
    "\n",
    "# Italia\n",
    "\n",
    "cols1=['ITA_corriere', 'ITA_sky_G', 'ITA_gazzetta_G']\n",
    "X = Normalize(log(df[cols1]))\n",
    "df['Italia'] = X.mean(axis=1)\n",
    "\n",
    "# Spagna\n",
    "\n",
    "cols1=['SPA_marca', 'SPA_as_G', 'SPA_mundodep_G']\n",
    "X = Normalize(log(df[cols1]))\n",
    "df['Spagna'] = X.mean(axis=1)\n",
    "\n",
    "# Inghilterra\n",
    "\n",
    "cols1=['ENG_thesun', 'ENG_guardian_G', 'ENG_sky_G']\n",
    "X = Normalize(log(df[cols1]))\n",
    "df['Inghilterra'] = X.mean(axis=1)\n",
    "\n",
    "# Internazionale\n",
    "\n",
    "cols1=['INT_eurosport_G', 'INT_espn_G', 'INT_bein_G']\n",
    "X = Normalize(log(df[cols1]))\n",
    "df['Internazionale'] = X.mean(axis=1)"
   ]
  },
  {
   "cell_type": "code",
   "execution_count": 7,
   "metadata": {},
   "outputs": [],
   "source": [
    "df['MEDIA'] = (df.Germania+df.Francia+df.Italia+df.Spagna+df.Inghilterra+df.Internazionale)/6"
   ]
  },
  {
   "cell_type": "markdown",
   "metadata": {},
   "source": [
    "# t-test"
   ]
  },
  {
   "cell_type": "markdown",
   "metadata": {},
   "source": [
    "## italia"
   ]
  },
  {
   "cell_type": "markdown",
   "metadata": {},
   "source": [
    "creo un vettore con solo i calciatori che giocano in Italia per la variabile Italia costruita precedentemente come media delle variabili dei tre giornali italiani"
   ]
  },
  {
   "cell_type": "code",
   "execution_count": 10,
   "metadata": {},
   "outputs": [],
   "source": [
    "ITAita = df.loc[df.nazione_squadra == \"Italia\",\"Italia\"]"
   ]
  },
  {
   "cell_type": "markdown",
   "metadata": {},
   "source": [
    "creo una variabile con solo i calciatori che non giocano in Italia per la variabile Italia"
   ]
  },
  {
   "cell_type": "code",
   "execution_count": 11,
   "metadata": {},
   "outputs": [],
   "source": [
    "ITAother = df.loc[df.nazione_squadra != \"Italia\",\"Italia\"]"
   ]
  },
  {
   "cell_type": "markdown",
   "metadata": {},
   "source": [
    "verifichiamo le ipotesi di normalità del t-test, graficamente e tramite test"
   ]
  },
  {
   "cell_type": "code",
   "execution_count": 12,
   "metadata": {},
   "outputs": [
    {
     "data": {
      "image/png": "[encoded data removed]",
      "text/plain": [
       "<Figure size 432x288 with 1 Axes>"
      ]
     },
     "metadata": {
      "needs_background": "light"
     },
     "output_type": "display_data"
    },
    {
     "data": {
      "image/png": "[encoded data removed]",
      "text/plain": [
       "<Figure size 432x288 with 1 Axes>"
      ]
     },
     "metadata": {
      "needs_background": "light"
     },
     "output_type": "display_data"
    }
   ],
   "source": [
    "# q-q plot\n",
    "qqplot(ITAita, line='s')\n",
    "pyplot.show()\n",
    "qqplot(ITAother, line='s')\n",
    "pyplot.show()"
   ]
  },
  {
   "cell_type": "code",
   "execution_count": 13,
   "metadata": {},
   "outputs": [
    {
     "name": "stdout",
     "output_type": "stream",
     "text": [
      "Statistics=0.979, p=0.426\n",
      "Il campione ha una distribuzione Gaussiana (non rigettiamo H0)\n"
     ]
    }
   ],
   "source": [
    "# test di normalità\n",
    "stat, p = shapiro(ITAita)\n",
    "print('Statistics=%.3f, p=%.3f' % (stat, p))\n",
    "alpha = 0.05\n",
    "if p > alpha:\n",
    "    print('Il campione ha una distribuzione Gaussiana (non rigettiamo H0)')\n",
    "else:\n",
    "    print('Il campione non ha una distribuzione Gaussiana (rigettiamo H0)')"
   ]
  },
  {
   "cell_type": "code",
   "execution_count": 14,
   "metadata": {},
   "outputs": [
    {
     "name": "stdout",
     "output_type": "stream",
     "text": [
      "Statistics=0.991, p=0.139\n",
      "Il campione ha una distribuzione Gaussiana (non rigettiamo H0)\n"
     ]
    }
   ],
   "source": [
    "# test di normalità\n",
    "stat, p = shapiro(ITAother)\n",
    "print('Statistics=%.3f, p=%.3f' % (stat, p))\n",
    "alpha = 0.05\n",
    "if p > alpha:\n",
    "    print('Il campione ha una distribuzione Gaussiana (non rigettiamo H0)')\n",
    "else:\n",
    "    print('Il campione non ha una distribuzione Gaussiana (rigettiamo H0)')"
   ]
  },
  {
   "cell_type": "markdown",
   "metadata": {},
   "source": [
    "verifichiamo che mediana e media siano simili dato che il test è per le medie ma noi parliamo della mediana nel blog post"
   ]
  },
  {
   "cell_type": "code",
   "execution_count": 15,
   "metadata": {},
   "outputs": [
    {
     "data": {
      "text/plain": [
       "(0.7298531783165041, 0.7196306635096099)"
      ]
     },
     "execution_count": 15,
     "metadata": {},
     "output_type": "execute_result"
    }
   ],
   "source": [
    "np.median(ITAita), np.mean(ITAita)"
   ]
  },
  {
   "cell_type": "code",
   "execution_count": 16,
   "metadata": {
    "scrolled": true
   },
   "outputs": [
    {
     "data": {
      "text/plain": [
       "(0.4668159378016039, 0.45796574196808304)"
      ]
     },
     "execution_count": 16,
     "metadata": {},
     "output_type": "execute_result"
    }
   ],
   "source": [
    "np.median(ITAother), np.mean(ITAother)"
   ]
  },
  {
   "cell_type": "code",
   "execution_count": 54,
   "metadata": {
    "scrolled": true
   },
   "outputs": [
    {
     "data": {
      "text/plain": [
       "Ttest_indResult(statistic=12.773863615098408, pvalue=3.998477304728013e-24)"
      ]
     },
     "execution_count": 54,
     "metadata": {},
     "output_type": "execute_result"
    }
   ],
   "source": [
    "# t-test senza ipotesi di omoschedasticità (equal_var = False)\n",
    "ttest_ind(ITAita, ITAother, equal_var = False)"
   ]
  },
  {
   "cell_type": "markdown",
   "metadata": {},
   "source": [
    "per un'ulteriore conferma proviamo a implementare anche il test non parametrico Mann-Whitney U"
   ]
  },
  {
   "cell_type": "code",
   "execution_count": 66,
   "metadata": {},
   "outputs": [
    {
     "data": {
      "text/plain": [
       "MannwhitneyuResult(statistic=1627.0, pvalue=5.1950032678940496e-20)"
      ]
     },
     "execution_count": 66,
     "metadata": {},
     "output_type": "execute_result"
    }
   ],
   "source": [
    "stats.mannwhitneyu(ITAita, ITAother)"
   ]
  },
  {
   "cell_type": "markdown",
   "metadata": {},
   "source": [
    "## francia"
   ]
  },
  {
   "cell_type": "code",
   "execution_count": 18,
   "metadata": {},
   "outputs": [],
   "source": [
    "FRAfra = df.loc[df.nazione_squadra == \"Francia\",\"Francia\"]"
   ]
  },
  {
   "cell_type": "code",
   "execution_count": 19,
   "metadata": {},
   "outputs": [],
   "source": [
    "FRAother = df.loc[df.nazione_squadra != \"Francia\",\"Francia\"]"
   ]
  },
  {
   "cell_type": "code",
   "execution_count": 20,
   "metadata": {},
   "outputs": [
    {
     "data": {
      "image/png": "[encoded data removed]",
      "text/plain": [
       "<Figure size 432x288 with 1 Axes>"
      ]
     },
     "metadata": {
      "needs_background": "light"
     },
     "output_type": "display_data"
    },
    {
     "data": {
      "image/png": "[encoded data removed]",
      "text/plain": [
       "<Figure size 432x288 with 1 Axes>"
      ]
     },
     "metadata": {
      "needs_background": "light"
     },
     "output_type": "display_data"
    }
   ],
   "source": [
    "# q-q plot\n",
    "qqplot(FRAfra, line='s')\n",
    "pyplot.show()\n",
    "qqplot(FRAother, line='s')\n",
    "pyplot.show()"
   ]
  },
  {
   "cell_type": "code",
   "execution_count": 21,
   "metadata": {
    "scrolled": true
   },
   "outputs": [
    {
     "name": "stdout",
     "output_type": "stream",
     "text": [
      "Statistics=0.961, p=0.529\n",
      "Il campione ha una distribuzione Gaussiana (non rigettiamo H0)\n"
     ]
    }
   ],
   "source": [
    "# test di normalità\n",
    "stat, p = shapiro(FRAfra)\n",
    "print('Statistics=%.3f, p=%.3f' % (stat, p))\n",
    "alpha = 0.05\n",
    "if p > alpha:\n",
    "    print('Il campione ha una distribuzione Gaussiana (non rigettiamo H0)')\n",
    "else:\n",
    "    print('Il campione non ha una distribuzione Gaussiana (rigettiamo H0)')"
   ]
  },
  {
   "cell_type": "code",
   "execution_count": 22,
   "metadata": {},
   "outputs": [
    {
     "name": "stdout",
     "output_type": "stream",
     "text": [
      "Statistics=0.979, p=0.000\n",
      "Il campione non ha una distribuzione Gaussiana (rigettiamo H0)\n"
     ]
    }
   ],
   "source": [
    "# test di normalità\n",
    "stat, p = shapiro(FRAother)\n",
    "print('Statistics=%.3f, p=%.3f' % (stat, p))\n",
    "alpha = 0.05\n",
    "if p > alpha:\n",
    "    print('Il campione ha una distribuzione Gaussiana (non rigettiamo H0)')\n",
    "else:\n",
    "    print('Il campione non ha una distribuzione Gaussiana (rigettiamo H0)')"
   ]
  },
  {
   "cell_type": "markdown",
   "metadata": {},
   "source": [
    "Non abbiamo l'ipotesi di normalità quindi usiamo il test Mann-Whitney U"
   ]
  },
  {
   "cell_type": "code",
   "execution_count": 23,
   "metadata": {},
   "outputs": [
    {
     "data": {
      "text/plain": [
       "(0.6928960638075372, 0.6797578858426897)"
      ]
     },
     "execution_count": 23,
     "metadata": {},
     "output_type": "execute_result"
    }
   ],
   "source": [
    "np.median(FRAfra), np.mean(FRAfra)"
   ]
  },
  {
   "cell_type": "code",
   "execution_count": 24,
   "metadata": {
    "scrolled": false
   },
   "outputs": [
    {
     "data": {
      "text/plain": [
       "(0.4689847328133892, 0.4851552766315552)"
      ]
     },
     "execution_count": 24,
     "metadata": {},
     "output_type": "execute_result"
    }
   ],
   "source": [
    "np.median(FRAother), np.mean(FRAother)"
   ]
  },
  {
   "cell_type": "code",
   "execution_count": 62,
   "metadata": {},
   "outputs": [
    {
     "data": {
      "text/plain": [
       "MannwhitneyuResult(statistic=1255.0, pvalue=6.3075500159245805e-06)"
      ]
     },
     "execution_count": 62,
     "metadata": {},
     "output_type": "execute_result"
    }
   ],
   "source": [
    "stats.mannwhitneyu(FRAfra, FRAother)"
   ]
  },
  {
   "cell_type": "markdown",
   "metadata": {},
   "source": [
    "## inghilterra"
   ]
  },
  {
   "cell_type": "code",
   "execution_count": 26,
   "metadata": {},
   "outputs": [],
   "source": [
    "INGing = df.loc[df.nazione_squadra == \"Inghilterra\",\"Inghilterra\"]"
   ]
  },
  {
   "cell_type": "code",
   "execution_count": 27,
   "metadata": {},
   "outputs": [],
   "source": [
    "INGother = df.loc[df.nazione_squadra != \"Inghilterra\",\"Inghilterra\"]"
   ]
  },
  {
   "cell_type": "code",
   "execution_count": 28,
   "metadata": {},
   "outputs": [
    {
     "data": {
      "image/png": "[encoded data removed]",
      "text/plain": [
       "<Figure size 432x288 with 1 Axes>"
      ]
     },
     "metadata": {
      "needs_background": "light"
     },
     "output_type": "display_data"
    },
    {
     "data": {
      "image/png": "[encoded data removed]",
      "text/plain": [
       "<Figure size 432x288 with 1 Axes>"
      ]
     },
     "metadata": {
      "needs_background": "light"
     },
     "output_type": "display_data"
    }
   ],
   "source": [
    "# q-q plot\n",
    "qqplot(INGing, line='s')\n",
    "pyplot.show()\n",
    "qqplot(INGother, line='s')\n",
    "pyplot.show()"
   ]
  },
  {
   "cell_type": "code",
   "execution_count": 29,
   "metadata": {
    "scrolled": true
   },
   "outputs": [
    {
     "name": "stdout",
     "output_type": "stream",
     "text": [
      "Statistics=0.979, p=0.120\n",
      "Il campione ha una distribuzione Gaussiana (non rigettiamo H0)\n"
     ]
    }
   ],
   "source": [
    "# test di normalità\n",
    "stat, p = shapiro(INGing)\n",
    "print('Statistics=%.3f, p=%.3f' % (stat, p))\n",
    "alpha = 0.05\n",
    "if p > alpha:\n",
    "    print('Il campione ha una distribuzione Gaussiana (non rigettiamo H0)')\n",
    "else:\n",
    "    print('Il campione non ha una distribuzione Gaussiana (rigettiamo H0)')"
   ]
  },
  {
   "cell_type": "code",
   "execution_count": 30,
   "metadata": {},
   "outputs": [
    {
     "name": "stdout",
     "output_type": "stream",
     "text": [
      "Statistics=0.992, p=0.310\n",
      "Il campione ha una distribuzione Gaussiana (non rigettiamo H0)\n"
     ]
    }
   ],
   "source": [
    "# test di normalità\n",
    "stat, p = shapiro(INGother)\n",
    "print('Statistics=%.3f, p=%.3f' % (stat, p))\n",
    "alpha = 0.05\n",
    "if p > alpha:\n",
    "    print('Il campione ha una distribuzione Gaussiana (non rigettiamo H0)')\n",
    "else:\n",
    "    print('Il campione non ha una distribuzione Gaussiana (rigettiamo H0)')"
   ]
  },
  {
   "cell_type": "code",
   "execution_count": 31,
   "metadata": {},
   "outputs": [
    {
     "data": {
      "text/plain": [
       "(0.6931783588979756, 0.7140756977797795)"
      ]
     },
     "execution_count": 31,
     "metadata": {},
     "output_type": "execute_result"
    }
   ],
   "source": [
    "np.median(INGing), np.mean(INGing)"
   ]
  },
  {
   "cell_type": "code",
   "execution_count": 32,
   "metadata": {
    "scrolled": false
   },
   "outputs": [
    {
     "data": {
      "text/plain": [
       "(0.4941720445855291, 0.5007175770033756)"
      ]
     },
     "execution_count": 32,
     "metadata": {},
     "output_type": "execute_result"
    }
   ],
   "source": [
    "np.median(INGother), np.mean(INGother)"
   ]
  },
  {
   "cell_type": "code",
   "execution_count": 55,
   "metadata": {
    "scrolled": true
   },
   "outputs": [
    {
     "data": {
      "text/plain": [
       "Ttest_indResult(statistic=14.02947601617041, pvalue=5.935886347431677e-33)"
      ]
     },
     "execution_count": 55,
     "metadata": {},
     "output_type": "execute_result"
    }
   ],
   "source": [
    "ttest_ind(INGing,INGother, equal_var = False)"
   ]
  },
  {
   "cell_type": "code",
   "execution_count": 68,
   "metadata": {},
   "outputs": [
    {
     "data": {
      "text/plain": [
       "MannwhitneyuResult(statistic=2385.0, pvalue=2.109313286605973e-26)"
      ]
     },
     "execution_count": 68,
     "metadata": {},
     "output_type": "execute_result"
    }
   ],
   "source": [
    "stats.mannwhitneyu(INGing, INGother)"
   ]
  },
  {
   "cell_type": "markdown",
   "metadata": {},
   "source": [
    "## germania"
   ]
  },
  {
   "cell_type": "code",
   "execution_count": 34,
   "metadata": {},
   "outputs": [],
   "source": [
    "GERger = df.loc[df.nazione_squadra == \"Germania\",\"Germania\"]"
   ]
  },
  {
   "cell_type": "code",
   "execution_count": 35,
   "metadata": {},
   "outputs": [],
   "source": [
    "GERother = df.loc[df.nazione_squadra != \"Germania\",\"Germania\"]"
   ]
  },
  {
   "cell_type": "code",
   "execution_count": 36,
   "metadata": {},
   "outputs": [
    {
     "data": {
      "image/png": "[encoded data removed]",
      "text/plain": [
       "<Figure size 432x288 with 1 Axes>"
      ]
     },
     "metadata": {
      "needs_background": "light"
     },
     "output_type": "display_data"
    },
    {
     "data": {
      "image/png": "[encoded data removed]",
      "text/plain": [
       "<Figure size 432x288 with 1 Axes>"
      ]
     },
     "metadata": {
      "needs_background": "light"
     },
     "output_type": "display_data"
    }
   ],
   "source": [
    "# q-q plot\n",
    "qqplot(GERger, line='s')\n",
    "pyplot.show()\n",
    "qqplot(GERother, line='s')\n",
    "pyplot.show()"
   ]
  },
  {
   "cell_type": "code",
   "execution_count": 37,
   "metadata": {
    "scrolled": true
   },
   "outputs": [
    {
     "name": "stdout",
     "output_type": "stream",
     "text": [
      "Statistics=0.966, p=0.224\n",
      "Il campione ha una distribuzione Gaussiana (non rigettiamo H0)\n"
     ]
    }
   ],
   "source": [
    "# test di normalità\n",
    "stat, p = shapiro(GERger)\n",
    "print('Statistics=%.3f, p=%.3f' % (stat, p))\n",
    "alpha = 0.05\n",
    "if p > alpha:\n",
    "    print('Il campione ha una distribuzione Gaussiana (non rigettiamo H0)')\n",
    "else:\n",
    "    print('Il campione non ha una distribuzione Gaussiana (rigettiamo H0)')"
   ]
  },
  {
   "cell_type": "code",
   "execution_count": 64,
   "metadata": {},
   "outputs": [
    {
     "name": "stdout",
     "output_type": "stream",
     "text": [
      "Statistics=0.987, p=0.020\n",
      "Il campione non ha una distribuzione Gaussiana (rigettiamo H0)\n"
     ]
    }
   ],
   "source": [
    "# test di normalità\n",
    "stat, p = shapiro(GERother)\n",
    "print('Statistics=%.3f, p=%.3f' % (stat, p))\n",
    "alpha = 0.05\n",
    "if p > alpha:\n",
    "    print('Il campione ha una distribuzione Gaussiana (non rigettiamo H0)')\n",
    "else:\n",
    "    print('Il campione non ha una distribuzione Gaussiana (rigettiamo H0)')"
   ]
  },
  {
   "cell_type": "markdown",
   "metadata": {},
   "source": [
    "Non abbiamo l'ipotesi di normalità quindi usiamo il test Mann-Whitney U signed-rank"
   ]
  },
  {
   "cell_type": "code",
   "execution_count": 59,
   "metadata": {},
   "outputs": [
    {
     "data": {
      "text/plain": [
       "(0.6290081663306265, 0.6522471942647693)"
      ]
     },
     "execution_count": 59,
     "metadata": {},
     "output_type": "execute_result"
    }
   ],
   "source": [
    "np.median(GERger), np.mean(GERger)"
   ]
  },
  {
   "cell_type": "code",
   "execution_count": 60,
   "metadata": {
    "scrolled": false
   },
   "outputs": [
    {
     "data": {
      "text/plain": [
       "(0.476796627756289, 0.46407925504314407)"
      ]
     },
     "execution_count": 60,
     "metadata": {},
     "output_type": "execute_result"
    }
   ],
   "source": [
    "np.median(GERother), np.mean(GERother)"
   ]
  },
  {
   "cell_type": "code",
   "execution_count": 70,
   "metadata": {},
   "outputs": [
    {
     "data": {
      "text/plain": [
       "MannwhitneyuResult(statistic=2160.0, pvalue=8.222125668810141e-11)"
      ]
     },
     "execution_count": 70,
     "metadata": {},
     "output_type": "execute_result"
    }
   ],
   "source": [
    "stats.mannwhitneyu(GERger, GERother)"
   ]
  },
  {
   "cell_type": "markdown",
   "metadata": {},
   "source": [
    "## spagna"
   ]
  },
  {
   "cell_type": "code",
   "execution_count": 42,
   "metadata": {},
   "outputs": [],
   "source": [
    "SPAspa = df.loc[df.nazione_squadra == \"Spagna\",\"Spagna\"]"
   ]
  },
  {
   "cell_type": "code",
   "execution_count": 43,
   "metadata": {},
   "outputs": [],
   "source": [
    "SPAother = df.loc[df.nazione_squadra != \"Spagna\",\"Spagna\"]"
   ]
  },
  {
   "cell_type": "code",
   "execution_count": 44,
   "metadata": {},
   "outputs": [
    {
     "data": {
      "image/png": "[encoded data removed]",
      "text/plain": [
       "<Figure size 432x288 with 1 Axes>"
      ]
     },
     "metadata": {
      "needs_background": "light"
     },
     "output_type": "display_data"
    },
    {
     "data": {
      "image/png": "[encoded data removed]",
      "text/plain": [
       "<Figure size 432x288 with 1 Axes>"
      ]
     },
     "metadata": {
      "needs_background": "light"
     },
     "output_type": "display_data"
    }
   ],
   "source": [
    "# q-q plot\n",
    "qqplot(SPAspa, line='s')\n",
    "pyplot.show()\n",
    "qqplot(SPAother, line='s')\n",
    "pyplot.show()"
   ]
  },
  {
   "cell_type": "code",
   "execution_count": 56,
   "metadata": {},
   "outputs": [
    {
     "name": "stdout",
     "output_type": "stream",
     "text": [
      "Statistics=0.980, p=0.373\n",
      "Il campione ha una distribuzione Gaussiana (non rigettiamo H0)\n"
     ]
    }
   ],
   "source": [
    "# test di normalità\n",
    "stat, p = shapiro(SPAspa)\n",
    "print('Statistics=%.3f, p=%.3f' % (stat, p))\n",
    "alpha = 0.05\n",
    "if p > alpha:\n",
    "    print('Il campione ha una distribuzione Gaussiana (non rigettiamo H0)')\n",
    "else:\n",
    "    print('Il campione non ha una distribuzione Gaussiana (rigettiamo H0)')"
   ]
  },
  {
   "cell_type": "code",
   "execution_count": 57,
   "metadata": {},
   "outputs": [
    {
     "name": "stdout",
     "output_type": "stream",
     "text": [
      "Statistics=0.989, p=0.067\n",
      "Il campione ha una distribuzione Gaussiana (non rigettiamo H0)\n"
     ]
    }
   ],
   "source": [
    "# test di normalità\n",
    "stat, p = shapiro(SPAother)\n",
    "print('Statistics=%.3f, p=%.3f' % (stat, p))\n",
    "alpha = 0.05\n",
    "if p > alpha:\n",
    "    print('Il campione ha una distribuzione Gaussiana (non rigettiamo H0)')\n",
    "else:\n",
    "    print('Il campione non ha una distribuzione Gaussiana (rigettiamo H0)')"
   ]
  },
  {
   "cell_type": "code",
   "execution_count": 47,
   "metadata": {},
   "outputs": [
    {
     "data": {
      "text/plain": [
       "(0.5950386930055677, 0.5960232652218929)"
      ]
     },
     "execution_count": 47,
     "metadata": {},
     "output_type": "execute_result"
    }
   ],
   "source": [
    "np.median(SPAspa), np.mean(SPAspa)"
   ]
  },
  {
   "cell_type": "code",
   "execution_count": 48,
   "metadata": {
    "scrolled": false
   },
   "outputs": [
    {
     "data": {
      "text/plain": [
       "(0.3891427957674789, 0.4053538464033888)"
      ]
     },
     "execution_count": 48,
     "metadata": {},
     "output_type": "execute_result"
    }
   ],
   "source": [
    "np.median(SPAother), np.mean(SPAother)"
   ]
  },
  {
   "cell_type": "code",
   "execution_count": 49,
   "metadata": {
    "scrolled": true
   },
   "outputs": [
    {
     "data": {
      "text/plain": [
       "Ttest_indResult(statistic=8.86338206972092, pvalue=7.218792159733735e-17)"
      ]
     },
     "execution_count": 49,
     "metadata": {},
     "output_type": "execute_result"
    }
   ],
   "source": [
    "ttest_ind(SPAspa,SPAother)"
   ]
  },
  {
   "cell_type": "code",
   "execution_count": 69,
   "metadata": {},
   "outputs": [
    {
     "data": {
      "text/plain": [
       "MannwhitneyuResult(statistic=2898.0, pvalue=2.223124364052148e-15)"
      ]
     },
     "execution_count": 69,
     "metadata": {},
     "output_type": "execute_result"
    }
   ],
   "source": [
    "stats.mannwhitneyu(SPAspa, SPAother)"
   ]
  },
  {
   "cell_type": "code",
   "execution_count": null,
   "metadata": {},
   "outputs": [],
   "source": []
  }
 ],
 "metadata": {
  "kernelspec": {
   "display_name": "Python 3",
   "language": "python",
   "name": "python3"
  },
  "language_info": {
   "codemirror_mode": {
    "name": "ipython",
    "version": 3
   },
   "file_extension": ".py",
   "mimetype": "text/x-python",
   "name": "python",
   "nbconvert_exporter": "python",
   "pygments_lexer": "ipython3",
   "version": "3.7.0"
  }
 },
 "nbformat": 4,
 "nbformat_minor": 2
}
